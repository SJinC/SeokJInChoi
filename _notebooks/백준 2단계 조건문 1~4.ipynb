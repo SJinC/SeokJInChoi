{
 "cells": [
  {
   "cell_type": "markdown",
   "id": "2604b94b-210e-4422-a667-27a102a11201",
   "metadata": {},
   "source": [
    "# 백준 2단계 조건문"
   ]
  },
  {
   "cell_type": "markdown",
   "id": "23d82865-2735-46c6-8f3d-10df60e05b5c",
   "metadata": {},
   "source": [
    "(1) 두 수 비교하기\n",
    "\n",
    "문제\n",
    "**두 정수 A와 B가 주어졌을 때, A와 B를 비교하는 프로그램을 작성**\n",
    "\n",
    "`-` 입력 : 첫째 줄에 A와 B가 주어진다. A와 B는 공백 한 칸으로 구분되어져 있다.\n",
    "\n",
    "`-` 출력 : 첫째 줄에 다음 세 가지중 하나를 출력한다.\n",
    "- A가 B보다 큰 경우에는 '>'를 출력한다.\n",
    "- A가 B보다 작은 경우에는 '<'를 출력한다.\n",
    "- A와 B가 같은 경우에는 '=='를 출력한다."
   ]
  },
  {
   "cell_type": "code",
   "execution_count": 5,
   "id": "8847390f-93e8-4345-80c9-9ec74f9a5e00",
   "metadata": {},
   "outputs": [
    {
     "name": "stdin",
     "output_type": "stream",
     "text": [
      " 1 2 \n"
     ]
    },
    {
     "name": "stdout",
     "output_type": "stream",
     "text": [
      "<\n"
     ]
    }
   ],
   "source": [
    "a,b=map(int,input().split())\n",
    "if a>b:\n",
    "    print(\">\")\n",
    "elif a<b:\n",
    "    print(\"<\")\n",
    "elif a==b:\n",
    "    print(\"==\")"
   ]
  },
  {
   "cell_type": "markdown",
   "id": "809edf5b-9cae-4bb7-bfda-8165649c6c39",
   "metadata": {},
   "source": [
    "(2) 시험성적\n",
    "\n",
    "문제\n",
    "**시험 점수를 입력받아 90~100점 A, 80~89 B, 70~79 C, 60~69 D, 나머지 F를 출력하는 프로그램을 작성**\n",
    "\n",
    "`-` 입력 : 첫째 줄에 시험점수가 주어진다. 시험 점수는 0보다 크거나 같고, 100보다 작거나 같은 정수이다.\n",
    "\n",
    "`-` 출력 : 시험 성적을 출력한다."
   ]
  },
  {
   "cell_type": "code",
   "execution_count": 10,
   "id": "4103ce98-b6ba-4ef5-a6c4-e11be2723391",
   "metadata": {},
   "outputs": [
    {
     "name": "stdin",
     "output_type": "stream",
     "text": [
      " 0\n"
     ]
    },
    {
     "name": "stdout",
     "output_type": "stream",
     "text": [
      "F\n"
     ]
    }
   ],
   "source": [
    "record=int(input())\n",
    "if (record<=100) & (record>=90):\n",
    "    print(\"A\")\n",
    "elif (record<=89) & (record>=80):\n",
    "    print(\"B\")\n",
    "elif (record<=79) & (record>=70):\n",
    "    print(\"C\")\n",
    "elif (record<=69) & (record>=60):\n",
    "    print(\"D\")\n",
    "elif (record<=59):\n",
    "    print(\"F\")"
   ]
  },
  {
   "cell_type": "markdown",
   "id": "5c1bf141-83e1-42be-bee1-47b279f6dfaa",
   "metadata": {},
   "source": [
    "(3) 윤년\n",
    "\n",
    "문제\n",
    "**연도가 주어졌을 때, 윤년이면 1, 아니면 0을 출력하는 프로그램을 작성.윤년은 연도가 4의 배수이면서, 100의 배수가 아닐 때 또는 400의 배수일 때이다.**\n",
    "\n",
    "`-` 입력 : 첫째 줄에 연도가 주어진다. 연도는 1보다 크거나 같고, 4000보다 작거나 같은 자연수이다.\n",
    "\n",
    "`-` 출력 : 첫째 줄에 윤년이면 1, 아니면 0을 출력한다."
   ]
  },
  {
   "cell_type": "code",
   "execution_count": 13,
   "id": "793f439e-d1c5-4674-9677-67219afee2ce",
   "metadata": {},
   "outputs": [
    {
     "name": "stdin",
     "output_type": "stream",
     "text": [
      " 1999\n"
     ]
    },
    {
     "name": "stdout",
     "output_type": "stream",
     "text": [
      "0\n"
     ]
    }
   ],
   "source": [
    "year=int(input())\n",
    "if ((year%4==0) & (year%100 !=0)) |(year%400==0) :\n",
    "    print(1)\n",
    "else :\n",
    "    print(0)"
   ]
  },
  {
   "cell_type": "markdown",
   "id": "ea690778-b189-49a0-8df6-93276b90ce34",
   "metadata": {},
   "source": [
    "(4) 사분면 고르기\n",
    "\n",
    "문제\n",
    "**흔한 수학 문제 중 하나는 주어진 점이 어느 사분면에 속하는지 알아내는 것이다. 사분면은 아래 그림처럼 1부터 4까지 번호를 갖는다. 점의 좌표를 입력받아 그 점이 어느 사분면에 속하는지 알아내는 프로그램작성**\n",
    "\n",
    "`-` 입력 : 첫 줄에는 정수 x가 주어짐(-1000 <= x <= 1000; x!=0) 다음 줄에는 정수 y가 주어짐 (-1000 <= y <= 1000; y!=0)\n",
    "\n",
    "`-` 출력 : 점 (x,y)의 사분면 번호 (1,2,3,4 중 하나)를 출력"
   ]
  },
  {
   "cell_type": "code",
   "execution_count": 17,
   "id": "d0c12dd6-ff3d-473b-a5ea-1cf0cfd05fd9",
   "metadata": {},
   "outputs": [
    {
     "name": "stdin",
     "output_type": "stream",
     "text": [
      " 1\n",
      " 2\n"
     ]
    },
    {
     "name": "stdout",
     "output_type": "stream",
     "text": [
      "1\n"
     ]
    }
   ],
   "source": [
    "x=int(input())\n",
    "y=int(input())\n",
    "if (x>0) & (y>0):\n",
    "    print(1)\n",
    "elif (x<0) & (y>0):\n",
    "    print(2)\n",
    "elif (x<0) & (y<0):\n",
    "    print(3)\n",
    "elif (x>0) & (y<0):\n",
    "    print(4)"
   ]
  },
  {
   "cell_type": "markdown",
   "id": "c5c63c30-db4c-4f4f-847e-95c158d68b7c",
   "metadata": {},
   "source": [
    "(5) 알람 시계\n",
    "\n",
    "문제 \n",
    "**원래 설정되어 있는 알람을 45분 앞서는 시간으로 바꾸는 것.**\n",
    "\n",
    "`-` 입력 : 첫째 줄에 두 정수 H와 M이 주어짐.(0<= H <=23, 0<= M <= 59) 이것은 설정해놓은 알람시간이 H시 M분을 의미. 입력시간은 24시간 표현을 사용. 24시간 표현에서 하루의 시작은 0:00(자정)이고, 끝은 23:59(다음날 자정 1분전)이다. 시간을 나타낼 때, 불필요한 0은 사용하지 않는다.\n",
    "\n",
    "`-` 출력 : 첫째 줄에 설정해야하는 알람 시간을 출력 (입력과 같은 형태로 출력)"
   ]
  },
  {
   "cell_type": "code",
   "execution_count": 20,
   "id": "8845b10e-6559-4bb7-b942-39c4450126fa",
   "metadata": {},
   "outputs": [
    {
     "name": "stdin",
     "output_type": "stream",
     "text": [
      " 29 69\n"
     ]
    },
    {
     "data": {
      "text/plain": [
       "False"
      ]
     },
     "execution_count": 20,
     "metadata": {},
     "output_type": "execute_result"
    }
   ],
   "source": [
    "H,M=map(int,input().split())\n",
    "(H>=0) & (H<=23)\n",
    "(M>=0) & (M<=59)\n",
    "i"
   ]
  },
  {
   "cell_type": "markdown",
   "id": "03cc496a-53a0-47d1-95a6-93b5843676b0",
   "metadata": {},
   "source": [
    "(6) 오븐 시계\n",
    "\n",
    "문제\n",
    "**인공지능 오븐은 오븐구이가 끝나는 시간을 분 단위로 자동적으로 계산.요리를 시작하는 시각과 오븐구이를 하는데 필요한 시간이 분단위로 주어졌을 때, 오븐구이가 끝나는 시각을 계산하는 프로그램을 작성**\n",
    "\n",
    "`-` 입력 : 첫째 줄에는 현재시각이 나옴. 현재 시각은 시 A(0<=A<=23)와 분 B(0<=B<=59)가 정수로 빈칸을 사이에 두고 순서대로 주어짐. 두번째 줄에는 요리하는데 필요한 시간 C(0<=C<=1000)가 분단위로 주어짐.\n",
    "\n",
    "`-` 출력 : 첫째 줄에 종료되는 시각의 시와 분을 공백을 사이에 두고 출력 (단, 시는 0~23까지의 정수, 분은 0~59까지의 정수. 디지털 시계는 23시 59분에서 1분이 지나면 0시 0분이 된다.)"
   ]
  },
  {
   "cell_type": "code",
   "execution_count": null,
   "id": "93022a19-1595-4e37-a487-4029e7e84b44",
   "metadata": {},
   "outputs": [],
   "source": []
  },
  {
   "cell_type": "markdown",
   "id": "33ba88a1-499a-4217-af61-83465d2e1071",
   "metadata": {},
   "source": [
    "(7) 주사위 세개\n",
    "\n",
    "문제\n",
    "**1에서부터 6까지의 눈을 가진 3개의 주사위를 던져서 다음과 같은 규칙에 따라 상금을 받는 게임이 있다.\n",
    "1. 같은 눈이 3개가 나오면 10,000원+(같은눈)*1,000원의 상금을 받게 된다.\n",
    "2. 같은 눈이 2개만 나오는 경우에는 1,000원+(같은눈)*100원의 상금을 받게 된다.\n",
    "3. 모두 다른 눈이 나오는 경우에는 (그 중 가장 큰 눈)*100원의 상금을 받게 된다.\n",
    "\n",
    "`-` 입력 : 첫째 줄에 3개의 눈이 빈칸을 사이에 두고 각각 주어진다.\n",
    "\n",
    "`-` 출력 : 첫째 줄에 게임의 상금을 출력한다."
   ]
  },
  {
   "cell_type": "code",
   "execution_count": null,
   "id": "ab7f2976-395f-418a-bd99-8bb95eafba14",
   "metadata": {},
   "outputs": [],
   "source": []
  }
 ],
 "metadata": {
  "kernelspec": {
   "display_name": "Python 3 (ipykernel)",
   "language": "python",
   "name": "python3"
  },
  "language_info": {
   "codemirror_mode": {
    "name": "ipython",
    "version": 3
   },
   "file_extension": ".py",
   "mimetype": "text/x-python",
   "name": "python",
   "nbconvert_exporter": "python",
   "pygments_lexer": "ipython3",
   "version": "3.9.7"
  }
 },
 "nbformat": 4,
 "nbformat_minor": 5
}
