{
 "cells": [
  {
   "cell_type": "markdown",
   "id": "a73df984-f0da-44db-91ef-229885dbf040",
   "metadata": {},
   "source": [
    "# 파이썬 배우기"
   ]
  },
  {
   "cell_type": "code",
   "execution_count": 2,
   "id": "1583dff7-9e61-415a-8b05-fe09ff1a3344",
   "metadata": {},
   "outputs": [
    {
     "name": "stdin",
     "output_type": "stream",
     "text": [
      " 1\n",
      " 2\n"
     ]
    },
    {
     "name": "stdout",
     "output_type": "stream",
     "text": [
      "3\n"
     ]
    }
   ],
   "source": [
    "A=int(input())\n",
    "B=int(input())\n",
    "print(A+B)"
   ]
  },
  {
   "cell_type": "markdown",
   "id": "a6dbbde0-aef2-453b-8d70-4ba80aef7ae4",
   "metadata": {},
   "source": [
    "곱셈"
   ]
  },
  {
   "cell_type": "code",
   "execution_count": null,
   "id": "f5a561f4-69be-4818-8521-617c6c37230f",
   "metadata": {},
   "outputs": [],
   "source": []
  },
  {
   "cell_type": "markdown",
   "id": "c71c7834-8ad3-4bd7-a20a-2a86a7a1bca9",
   "metadata": {},
   "source": [
    "R2"
   ]
  },
  {
   "cell_type": "code",
   "execution_count": 3,
   "id": "f69ede26-9d3b-4a9b-86f2-7b9896a0fcf8",
   "metadata": {},
   "outputs": [
    {
     "name": "stdin",
     "output_type": "stream",
     "text": [
      " 11 15\n"
     ]
    },
    {
     "name": "stdout",
     "output_type": "stream",
     "text": [
      "19\n"
     ]
    }
   ],
   "source": [
    "R1,S=map(int,input().split())\n",
    "R2=2*S-R1\n",
    "print(R2)"
   ]
  },
  {
   "cell_type": "markdown",
   "id": "cf6771f2-240f-4ade-a0af-153eaaea3d32",
   "metadata": {},
   "source": [
    "초콜릿 자르기"
   ]
  },
  {
   "cell_type": "code",
   "execution_count": null,
   "id": "1f5f74ca-53c3-4601-b416-8c82c9ce9a2c",
   "metadata": {},
   "outputs": [],
   "source": []
  }
 ],
 "metadata": {
  "kernelspec": {
   "display_name": "Python 3 (ipykernel)",
   "language": "python",
   "name": "python3"
  },
  "language_info": {
   "codemirror_mode": {
    "name": "ipython",
    "version": 3
   },
   "file_extension": ".py",
   "mimetype": "text/x-python",
   "name": "python",
   "nbconvert_exporter": "python",
   "pygments_lexer": "ipython3",
   "version": "3.9.7"
  }
 },
 "nbformat": 4,
 "nbformat_minor": 5
}
