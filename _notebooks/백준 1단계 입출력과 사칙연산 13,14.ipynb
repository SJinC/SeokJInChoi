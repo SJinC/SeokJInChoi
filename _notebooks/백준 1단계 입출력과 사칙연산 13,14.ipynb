{
 "cells": [
  {
   "cell_type": "markdown",
   "id": "6fd75c9f-9de1-4c61-a41e-18bd44ba47be",
   "metadata": {},
   "source": [
    "(13) 세자리수 자연수의 곱셈을 연산하는데 초등학생들의 방법으로 출력되게 만든다.\n",
    "-> 즉 일의 자리수 연산 + 십의 자리수 연산 + 백의 자리수 연산"
   ]
  },
  {
   "cell_type": "code",
   "execution_count": 26,
   "id": "7cf72252-cab6-4b92-aa8f-2154cf656cf4",
   "metadata": {},
   "outputs": [
    {
     "name": "stdin",
     "output_type": "stream",
     "text": [
      " 1 2 3 4 5 6\n"
     ]
    },
    {
     "ename": "ValueError",
     "evalue": "invalid literal for int() with base 10: ' '",
     "output_type": "error",
     "traceback": [
      "\u001b[0;31m---------------------------------------------------------------------------\u001b[0m",
      "\u001b[0;31mValueError\u001b[0m                                Traceback (most recent call last)",
      "Input \u001b[0;32mIn [26]\u001b[0m, in \u001b[0;36m<cell line: 1>\u001b[0;34m()\u001b[0m\n\u001b[0;32m----> 1\u001b[0m a,b,c\u001b[38;5;241m=\u001b[39m\u001b[38;5;28mmap\u001b[39m(\u001b[38;5;28mint\u001b[39m,\u001b[38;5;28minput\u001b[39m())\n\u001b[1;32m      2\u001b[0m d,e,f\u001b[38;5;241m=\u001b[39m\u001b[38;5;28mmap\u001b[39m(\u001b[38;5;28mint\u001b[39m,\u001b[38;5;28minput\u001b[39m())\n",
      "\u001b[0;31mValueError\u001b[0m: invalid literal for int() with base 10: ' '"
     ]
    }
   ],
   "source": [
    "a,b,c=map(int,input())\n",
    "d,e,f=map(int,input())"
   ]
  },
  {
   "cell_type": "code",
   "execution_count": 24,
   "id": "6c9ece95-5464-44e2-b25d-31f241ad5dd4",
   "metadata": {},
   "outputs": [
    {
     "ename": "NameError",
     "evalue": "name 'a' is not defined",
     "output_type": "error",
     "traceback": [
      "\u001b[0;31m---------------------------------------------------------------------------\u001b[0m",
      "\u001b[0;31mNameError\u001b[0m                                 Traceback (most recent call last)",
      "Input \u001b[0;32mIn [24]\u001b[0m, in \u001b[0;36m<cell line: 1>\u001b[0;34m()\u001b[0m\n\u001b[0;32m----> 1\u001b[0m \u001b[38;5;28mtype\u001b[39m(\u001b[43ma\u001b[49m)\n",
      "\u001b[0;31mNameError\u001b[0m: name 'a' is not defined"
     ]
    }
   ],
   "source": [
    "type(a)"
   ]
  },
  {
   "cell_type": "markdown",
   "id": "183e6d40-3a67-411b-8d72-e148f6dce426",
   "metadata": {},
   "source": [
    "(14)\n",
    "```python\n",
    "         ,r'\"7\n",
    "r`-_   ,'  ,/\n",
    " \\. \". L_r'\n",
    "   `~\\/\n",
    "      |\n",
    "      |\n",
    "```\n",
    "그림 출력"
   ]
  },
  {
   "cell_type": "raw",
   "id": "7d6f3c2e-79f0-4e4a-a7bb-2a216937f3fa",
   "metadata": {},
   "source": [
    "         ,r'\"7\n",
    "r`-_   ,'  ,/\n",
    " \\. \". L_r'\n",
    "   `~\\/\n",
    "      |\n",
    "      |\n"
   ]
  },
  {
   "cell_type": "code",
   "execution_count": 23,
   "id": "772d685e-7a0c-44e6-87b8-064ab55a1a3d",
   "metadata": {},
   "outputs": [
    {
     "name": "stdout",
     "output_type": "stream",
     "text": [
      "         ,r'\"7\n",
      "r`-_   ,'  ,/\n",
      " \\. \". L_r'\n",
      "   `~\\/\n",
      "      |\n",
      "      |\n"
     ]
    }
   ],
   "source": [
    "print(\"         ,r\\'\\\"7\")\n",
    "print(\"r`-_   ,\\'  ,/\")\n",
    "print(\" \\\\. \\\". L_r\\'\")\n",
    "print(\"   `~\\/\")\n",
    "print(\"      |\")\n",
    "print(\"      |\")"
   ]
  },
  {
   "cell_type": "code",
   "execution_count": null,
   "id": "05d280b6-4acd-4734-b33e-fb8c52a2a1d2",
   "metadata": {},
   "outputs": [],
   "source": []
  }
 ],
 "metadata": {
  "kernelspec": {
   "display_name": "Python 3 (ipykernel)",
   "language": "python",
   "name": "python3"
  },
  "language_info": {
   "codemirror_mode": {
    "name": "ipython",
    "version": 3
   },
   "file_extension": ".py",
   "mimetype": "text/x-python",
   "name": "python",
   "nbconvert_exporter": "python",
   "pygments_lexer": "ipython3",
   "version": "3.9.7"
  }
 },
 "nbformat": 4,
 "nbformat_minor": 5
}
