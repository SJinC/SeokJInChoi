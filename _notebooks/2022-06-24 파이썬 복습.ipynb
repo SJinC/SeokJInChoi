{
 "cells": [
  {
   "cell_type": "markdown",
   "id": "05cf6e9d-0561-4006-a065-45db247e0020",
   "metadata": {},
   "source": [
    "# 파이썬 3월 7일"
   ]
  },
  {
   "cell_type": "markdown",
   "id": "4897939c-b6fe-45c0-8328-e862c72cae27",
   "metadata": {},
   "source": [
    "> int, float, bool, str 자료형\n",
    "- June 24, 2022"
   ]
  },
  {
   "cell_type": "markdown",
   "id": "3d15a019-d1e7-41a2-849e-cf7ba0969409",
   "metadata": {},
   "source": [
    "## 자료형"
   ]
  },
  {
   "cell_type": "markdown",
   "id": "56300789-bec4-4485-aabd-aa7430ada700",
   "metadata": {},
   "source": [
    "`-`  파이썬의 기본 자료형은 int,float,bool,str,list,tuple,dict,set 등이 있다.\n",
    "- 0차원 자료형 : int, float, bool\n",
    "- 1차원 자료형 : str, list, tuple, dict, set"
   ]
  },
  {
   "cell_type": "markdown",
   "id": "5ca47f19-c62d-4fe2-8d95-0de4006ede20",
   "metadata": {},
   "source": [
    "### int, float, bool"
   ]
  },
  {
   "cell_type": "markdown",
   "id": "271582d5-431f-495d-9f52-8e9a41cdad3f",
   "metadata": {},
   "source": [
    "`-` int형"
   ]
  },
  {
   "cell_type": "code",
   "execution_count": 7,
   "id": "79536b22-ec87-4385-8585-412a51009a78",
   "metadata": {},
   "outputs": [],
   "source": [
    "a=100"
   ]
  },
  {
   "cell_type": "code",
   "execution_count": 8,
   "id": "31ebc0b3-7677-468b-ab62-a3babd8387ec",
   "metadata": {},
   "outputs": [
    {
     "data": {
      "text/plain": [
       "int"
      ]
     },
     "execution_count": 8,
     "metadata": {},
     "output_type": "execute_result"
    }
   ],
   "source": [
    "type(a)"
   ]
  },
  {
   "cell_type": "code",
   "execution_count": 9,
   "id": "2ef97b86-47c1-4dd5-9ca2-cd6cff2e6b3b",
   "metadata": {},
   "outputs": [
    {
     "data": {
      "text/plain": [
       "\u001b[0;31mType:\u001b[0m        int\n",
       "\u001b[0;31mString form:\u001b[0m 100\n",
       "\u001b[0;31mDocstring:\u001b[0m  \n",
       "int([x]) -> integer\n",
       "int(x, base=10) -> integer\n",
       "\n",
       "Convert a number or string to an integer, or return 0 if no arguments\n",
       "are given.  If x is a number, return x.__int__().  For floating point\n",
       "numbers, this truncates towards zero.\n",
       "\n",
       "If x is not a number or if base is given, then x must be a string,\n",
       "bytes, or bytearray instance representing an integer literal in the\n",
       "given base.  The literal can be preceded by '+' or '-' and be surrounded\n",
       "by whitespace.  The base defaults to 10.  Valid bases are 0 and 2-36.\n",
       "Base 0 means to interpret the base from the string as an integer literal.\n",
       ">>> int('0b100', base=0)\n",
       "4\n"
      ]
     },
     "metadata": {},
     "output_type": "display_data"
    }
   ],
   "source": [
    "a?"
   ]
  },
  {
   "cell_type": "markdown",
   "id": "cd2a3a88-a2b0-4dbb-88c1-545ffc9c5432",
   "metadata": {},
   "source": [
    "`-` float형"
   ]
  },
  {
   "cell_type": "code",
   "execution_count": 5,
   "id": "c21c6668-d9f2-488c-9162-db263089524f",
   "metadata": {},
   "outputs": [
    {
     "data": {
      "text/plain": [
       "3.5999999999999996"
      ]
     },
     "execution_count": 5,
     "metadata": {},
     "output_type": "execute_result"
    }
   ],
   "source": [
    "b=1.2*3\n",
    "b"
   ]
  },
  {
   "cell_type": "code",
   "execution_count": 6,
   "id": "ee1f62c8-95ac-46d7-a10d-acd5ba26748d",
   "metadata": {},
   "outputs": [
    {
     "data": {
      "text/plain": [
       "float"
      ]
     },
     "execution_count": 6,
     "metadata": {},
     "output_type": "execute_result"
    }
   ],
   "source": [
    "type(b)"
   ]
  },
  {
   "cell_type": "code",
   "execution_count": 10,
   "id": "21ea09e4-3323-4091-b81f-1ba56a7b830b",
   "metadata": {},
   "outputs": [
    {
     "data": {
      "text/plain": [
       "\u001b[0;31mType:\u001b[0m        float\n",
       "\u001b[0;31mString form:\u001b[0m 3.5999999999999996\n",
       "\u001b[0;31mDocstring:\u001b[0m   Convert a string or number to a floating point number, if possible.\n"
      ]
     },
     "metadata": {},
     "output_type": "display_data"
    }
   ],
   "source": [
    "b?"
   ]
  },
  {
   "cell_type": "markdown",
   "id": "aaf72b8f-fd5a-49d4-92d5-bc2c2b138ac6",
   "metadata": {},
   "source": [
    "`-` bool형"
   ]
  },
  {
   "cell_type": "code",
   "execution_count": 11,
   "id": "57cf4b1a-efdb-431e-83a1-613f35beced0",
   "metadata": {},
   "outputs": [],
   "source": [
    "c=True\n",
    "d=False"
   ]
  },
  {
   "cell_type": "code",
   "execution_count": 12,
   "id": "063176d8-9132-43e4-b296-8b2c2675f8df",
   "metadata": {},
   "outputs": [
    {
     "data": {
      "text/plain": [
       "(bool, bool)"
      ]
     },
     "execution_count": 12,
     "metadata": {},
     "output_type": "execute_result"
    }
   ],
   "source": [
    "type(c),type(d)"
   ]
  },
  {
   "cell_type": "code",
   "execution_count": 13,
   "id": "3e67ff5e-a5a7-4bc6-90bc-6696ac49794f",
   "metadata": {},
   "outputs": [
    {
     "data": {
      "text/plain": [
       "\u001b[0;31mType:\u001b[0m        bool\n",
       "\u001b[0;31mString form:\u001b[0m True\n",
       "\u001b[0;31mDocstring:\u001b[0m  \n",
       "bool(x) -> bool\n",
       "\n",
       "Returns True when the argument x is true, False otherwise.\n",
       "The builtins True and False are the only two instances of the class bool.\n",
       "The class bool is a subclass of the class int, and cannot be subclassed.\n"
      ]
     },
     "metadata": {},
     "output_type": "display_data"
    }
   ],
   "source": [
    "c?"
   ]
  },
  {
   "cell_type": "markdown",
   "id": "a0483cd1-b3bc-481f-b845-7787c974df9e",
   "metadata": {},
   "source": [
    "`-` bool형의 연산"
   ]
  },
  {
   "cell_type": "code",
   "execution_count": 14,
   "id": "1ceb0f9b-6a7f-4179-8bb6-b7e7252d7675",
   "metadata": {},
   "outputs": [
    {
     "data": {
      "text/plain": [
       "1"
      ]
     },
     "execution_count": 14,
     "metadata": {},
     "output_type": "execute_result"
    }
   ],
   "source": [
    "c+d"
   ]
  },
  {
   "cell_type": "code",
   "execution_count": 15,
   "id": "72ae8c23-4b95-4864-b6d5-d7dbbe3c4b73",
   "metadata": {},
   "outputs": [
    {
     "data": {
      "text/plain": [
       "0"
      ]
     },
     "execution_count": 15,
     "metadata": {},
     "output_type": "execute_result"
    }
   ],
   "source": [
    "c*d"
   ]
  },
  {
   "cell_type": "markdown",
   "id": "3f8540d5-dfb9-4df3-8089-9410dcc2b365",
   "metadata": {},
   "source": [
    "`-` complex형"
   ]
  },
  {
   "cell_type": "code",
   "execution_count": 16,
   "id": "07b96b3e-fdbb-4ecd-a956-75febbf2eb5c",
   "metadata": {},
   "outputs": [],
   "source": [
    "e=1+2j\n",
    "f=2-2j"
   ]
  },
  {
   "cell_type": "code",
   "execution_count": 17,
   "id": "565c9a4b-5aa3-4220-8648-ecc1ba3aa6c3",
   "metadata": {},
   "outputs": [
    {
     "data": {
      "text/plain": [
       "complex"
      ]
     },
     "execution_count": 17,
     "metadata": {},
     "output_type": "execute_result"
    }
   ],
   "source": [
    "type(e)"
   ]
  },
  {
   "cell_type": "code",
   "execution_count": 18,
   "id": "87249413-dc31-4235-a451-94257fa36ef7",
   "metadata": {},
   "outputs": [
    {
     "data": {
      "text/plain": [
       "complex"
      ]
     },
     "execution_count": 18,
     "metadata": {},
     "output_type": "execute_result"
    }
   ],
   "source": [
    "type(f)"
   ]
  },
  {
   "cell_type": "code",
   "execution_count": 19,
   "id": "56b74c9f-0fd4-41dc-96ba-e204da5acacd",
   "metadata": {},
   "outputs": [
    {
     "data": {
      "text/plain": [
       "(3+0j)"
      ]
     },
     "execution_count": 19,
     "metadata": {},
     "output_type": "execute_result"
    }
   ],
   "source": [
    "g=e+f\n",
    "g"
   ]
  },
  {
   "cell_type": "markdown",
   "id": "d6edfb9e-7fd3-47bb-8509-812173eafb50",
   "metadata": {},
   "source": [
    "`-` 형태변환: float -> int"
   ]
  },
  {
   "cell_type": "markdown",
   "id": "b9b530fc-5c42-4c7c-9740-aca03bc80019",
   "metadata": {},
   "source": [
    "(예시1)"
   ]
  },
  {
   "cell_type": "code",
   "execution_count": 24,
   "id": "0a597f4f-ef64-4851-9bd4-2709c4659a24",
   "metadata": {},
   "outputs": [
    {
     "data": {
      "text/plain": [
       "float"
      ]
     },
     "execution_count": 24,
     "metadata": {},
     "output_type": "execute_result"
    }
   ],
   "source": [
    "a=3.0\n",
    "type(a)"
   ]
  },
  {
   "cell_type": "code",
   "execution_count": 25,
   "id": "922ce101-ee8a-462e-b3a8-bf1d6816f011",
   "metadata": {},
   "outputs": [],
   "source": [
    "a=int(a)"
   ]
  },
  {
   "cell_type": "code",
   "execution_count": 26,
   "id": "f16b2e50-8dfb-4366-a255-cd79a1600f3d",
   "metadata": {},
   "outputs": [
    {
     "data": {
      "text/plain": [
       "int"
      ]
     },
     "execution_count": 26,
     "metadata": {},
     "output_type": "execute_result"
    }
   ],
   "source": [
    "type(a)"
   ]
  },
  {
   "cell_type": "markdown",
   "id": "76d40657-cbf1-44c4-81d0-ce1bd2c6ca02",
   "metadata": {},
   "source": [
    "(예시2) -> 이 경우에는 정보의 손실 발생"
   ]
  },
  {
   "cell_type": "code",
   "execution_count": 27,
   "id": "f1727786-66eb-4c1e-9ec9-f1a7f44527b1",
   "metadata": {},
   "outputs": [
    {
     "data": {
      "text/plain": [
       "float"
      ]
     },
     "execution_count": 27,
     "metadata": {},
     "output_type": "execute_result"
    }
   ],
   "source": [
    "a=3.14\n",
    "type(a)"
   ]
  },
  {
   "cell_type": "code",
   "execution_count": 28,
   "id": "c8e130c8-6887-40d2-81c2-6461e2b0ff03",
   "metadata": {},
   "outputs": [],
   "source": [
    "a=int(a)"
   ]
  },
  {
   "cell_type": "code",
   "execution_count": 29,
   "id": "ba97cb78-c219-4fd4-b2b7-5d6d2b0cffa1",
   "metadata": {},
   "outputs": [
    {
     "data": {
      "text/plain": [
       "3"
      ]
     },
     "execution_count": 29,
     "metadata": {},
     "output_type": "execute_result"
    }
   ],
   "source": [
    "a"
   ]
  },
  {
   "cell_type": "markdown",
   "id": "47bcbba4-1c14-4973-9933-e79fc9436013",
   "metadata": {},
   "source": [
    "`-` 형태변환 : int -> float"
   ]
  },
  {
   "cell_type": "code",
   "execution_count": 30,
   "id": "0123ac57-9225-45cf-933c-310dbbdb6713",
   "metadata": {},
   "outputs": [
    {
     "data": {
      "text/plain": [
       "int"
      ]
     },
     "execution_count": 30,
     "metadata": {},
     "output_type": "execute_result"
    }
   ],
   "source": [
    "a=3\n",
    "type(a)"
   ]
  },
  {
   "cell_type": "code",
   "execution_count": 31,
   "id": "54537415-89a1-4772-99be-a35886b9b458",
   "metadata": {},
   "outputs": [
    {
     "data": {
      "text/plain": [
       "float"
      ]
     },
     "execution_count": 31,
     "metadata": {},
     "output_type": "execute_result"
    }
   ],
   "source": [
    "a=float(a)\n",
    "type(a)"
   ]
  },
  {
   "cell_type": "markdown",
   "id": "64759a5b-960b-426f-b49f-c53bc3bdeac0",
   "metadata": {},
   "source": [
    "`-` 형태변환: bool -> int/float , int/float -> bool"
   ]
  },
  {
   "cell_type": "markdown",
   "id": "e5989c35-052f-4e82-a4b6-ef57e32b40db",
   "metadata": {},
   "source": [
    "(예시1)"
   ]
  },
  {
   "cell_type": "code",
   "execution_count": 32,
   "id": "1f53e425-21d8-484e-afb5-ccd3a6d58e53",
   "metadata": {},
   "outputs": [
    {
     "data": {
      "text/plain": [
       "bool"
      ]
     },
     "execution_count": 32,
     "metadata": {},
     "output_type": "execute_result"
    }
   ],
   "source": [
    "a=True\n",
    "type(a)"
   ]
  },
  {
   "cell_type": "code",
   "execution_count": 33,
   "id": "c786e36b-ce0f-4da5-a247-b0a8dde7f2d6",
   "metadata": {},
   "outputs": [
    {
     "data": {
      "text/plain": [
       "1"
      ]
     },
     "execution_count": 33,
     "metadata": {},
     "output_type": "execute_result"
    }
   ],
   "source": [
    "int(a)"
   ]
  },
  {
   "cell_type": "code",
   "execution_count": 34,
   "id": "7de1a948-fdcb-44ca-9250-6c17d5d3b1a7",
   "metadata": {},
   "outputs": [
    {
     "data": {
      "text/plain": [
       "1.0"
      ]
     },
     "execution_count": 34,
     "metadata": {},
     "output_type": "execute_result"
    }
   ],
   "source": [
    "float(a)"
   ]
  },
  {
   "cell_type": "markdown",
   "id": "10392665-cd2f-44ef-9fc0-db3a88242091",
   "metadata": {},
   "source": [
    "(예시2)"
   ]
  },
  {
   "cell_type": "code",
   "execution_count": 35,
   "id": "2301ce4f-0160-4a46-abf2-7e6789a256aa",
   "metadata": {},
   "outputs": [
    {
     "data": {
      "text/plain": [
       "True"
      ]
     },
     "execution_count": 35,
     "metadata": {},
     "output_type": "execute_result"
    }
   ],
   "source": [
    "a=1\n",
    "bool(a)"
   ]
  },
  {
   "cell_type": "code",
   "execution_count": 36,
   "id": "5032afc6-604e-4918-b81d-b9d41b635d49",
   "metadata": {},
   "outputs": [
    {
     "data": {
      "text/plain": [
       "False"
      ]
     },
     "execution_count": 36,
     "metadata": {},
     "output_type": "execute_result"
    }
   ],
   "source": [
    "a=0\n",
    "bool(a)"
   ]
  },
  {
   "cell_type": "markdown",
   "id": "3df59ad2-8c49-4bfa-ad7e-3f2900f4d7d7",
   "metadata": {},
   "source": [
    "(예시3)"
   ]
  },
  {
   "cell_type": "code",
   "execution_count": 38,
   "id": "e497b399-37b1-44f2-a209-0caf92d65bd9",
   "metadata": {},
   "outputs": [
    {
     "data": {
      "text/plain": [
       "True"
      ]
     },
     "execution_count": 38,
     "metadata": {},
     "output_type": "execute_result"
    }
   ],
   "source": [
    "a=1.0\n",
    "bool(a)"
   ]
  },
  {
   "cell_type": "code",
   "execution_count": 39,
   "id": "d8107961-e1c7-469f-a9b8-24130be2f52d",
   "metadata": {},
   "outputs": [
    {
     "data": {
      "text/plain": [
       "False"
      ]
     },
     "execution_count": 39,
     "metadata": {},
     "output_type": "execute_result"
    }
   ],
   "source": [
    "b=0.0\n",
    "bool(b)"
   ]
  },
  {
   "cell_type": "markdown",
   "id": "e96be159-7d20-4124-a3ed-52c0e502a28b",
   "metadata": {},
   "source": [
    "`-` 형태변환이 항상 가능한 것도 아님.."
   ]
  },
  {
   "cell_type": "code",
   "execution_count": 40,
   "id": "7e7f7f86-66cd-439a-9bea-f3fd17a54880",
   "metadata": {},
   "outputs": [
    {
     "ename": "TypeError",
     "evalue": "can't convert complex to float",
     "output_type": "error",
     "traceback": [
      "\u001b[0;31m---------------------------------------------------------------------------\u001b[0m",
      "\u001b[0;31mTypeError\u001b[0m                                 Traceback (most recent call last)",
      "Input \u001b[0;32mIn [40]\u001b[0m, in \u001b[0;36m<cell line: 1>\u001b[0;34m()\u001b[0m\n\u001b[0;32m----> 1\u001b[0m \u001b[38;5;28;43mfloat\u001b[39;49m\u001b[43m(\u001b[49m\u001b[38;5;241;43m3\u001b[39;49m\u001b[38;5;241;43m+\u001b[39;49m\u001b[38;5;241;43m0\u001b[39;49m\u001b[43mj\u001b[49m\u001b[43m)\u001b[49m\n",
      "\u001b[0;31mTypeError\u001b[0m: can't convert complex to float"
     ]
    }
   ],
   "source": [
    "float(3+0j)"
   ]
  },
  {
   "cell_type": "markdown",
   "id": "790d9537-ac50-4c38-8bbc-735dab2e8a5f",
   "metadata": {},
   "source": [
    "`-` 암묵적형변환 (implicit) -> 은연중에 내포된, 함축적인..."
   ]
  },
  {
   "cell_type": "markdown",
   "id": "03d16da9-69f9-4723-b632-46d273632f42",
   "metadata": {},
   "source": [
    "(예제)"
   ]
  },
  {
   "cell_type": "code",
   "execution_count": 41,
   "id": "e2ecfc63-7ad0-4468-9b6c-cfa902a3271a",
   "metadata": {},
   "outputs": [
    {
     "data": {
      "text/plain": [
       "1"
      ]
     },
     "execution_count": 41,
     "metadata": {},
     "output_type": "execute_result"
    }
   ],
   "source": [
    "True*1 #int형을 곱하면 암묵적으로 bool형이 int로 연산됨."
   ]
  },
  {
   "cell_type": "code",
   "execution_count": 42,
   "id": "cb955c30-f53a-4d8d-8760-48d1d20c1b04",
   "metadata": {},
   "outputs": [
    {
     "data": {
      "text/plain": [
       "1.0"
      ]
     },
     "execution_count": 42,
     "metadata": {},
     "output_type": "execute_result"
    }
   ],
   "source": [
    "1*1.0 #float을 곱하면 암묵적으로 int형이 bool형으로 연산됨."
   ]
  },
  {
   "cell_type": "code",
   "execution_count": 43,
   "id": "f7fe45b8-d88e-4b50-8b20-9c53b29f0013",
   "metadata": {},
   "outputs": [
    {
     "data": {
      "text/plain": [
       "2"
      ]
     },
     "execution_count": 43,
     "metadata": {},
     "output_type": "execute_result"
    }
   ],
   "source": [
    "True+True #+연산을 하면 암묵적으로 int/float형으로 변환"
   ]
  },
  {
   "cell_type": "markdown",
   "id": "16f00c46-5bb3-4cfa-89a6-8d4025c03acc",
   "metadata": {},
   "source": [
    "### str"
   ]
  },
  {
   "cell_type": "markdown",
   "id": "e1985170-7f2b-447b-9965-fb05320fa714",
   "metadata": {},
   "source": [
    "`-` 선언"
   ]
  },
  {
   "cell_type": "code",
   "execution_count": 44,
   "id": "0c21926d-fb19-494d-9a52-7890b5523456",
   "metadata": {},
   "outputs": [],
   "source": [
    "a='seokjin'"
   ]
  },
  {
   "cell_type": "code",
   "execution_count": 45,
   "id": "6252d9ad-6516-4160-8827-3cc33d86164e",
   "metadata": {},
   "outputs": [
    {
     "data": {
      "text/plain": [
       "'seokjin'"
      ]
     },
     "execution_count": 45,
     "metadata": {},
     "output_type": "execute_result"
    }
   ],
   "source": [
    "a"
   ]
  },
  {
   "cell_type": "markdown",
   "id": "a2cf9d75-e5c9-4bd5-a6dc-b58f901f99c8",
   "metadata": {},
   "source": [
    "`-` 연산"
   ]
  },
  {
   "cell_type": "markdown",
   "id": "3b1a85e5-b99f-4447-8318-202fc06cd044",
   "metadata": {},
   "source": [
    "- 더하기(+) 연산"
   ]
  },
  {
   "cell_type": "code",
   "execution_count": 46,
   "id": "5d3cae27-cb14-4aa3-938b-77a121881a57",
   "metadata": {},
   "outputs": [],
   "source": [
    "a='X'\n",
    "b='2'"
   ]
  },
  {
   "cell_type": "code",
   "execution_count": 47,
   "id": "d0da6278-f3e6-41e5-812d-2665aaeea298",
   "metadata": {},
   "outputs": [
    {
     "data": {
      "text/plain": [
       "'X2'"
      ]
     },
     "execution_count": 47,
     "metadata": {},
     "output_type": "execute_result"
    }
   ],
   "source": [
    "a+b"
   ]
  },
  {
   "cell_type": "markdown",
   "id": "47a0e550-873c-4f42-8159-720a4d4cae60",
   "metadata": {},
   "source": [
    "- 빼기(-) 연산 (정의되지 않음)"
   ]
  },
  {
   "cell_type": "code",
   "execution_count": 48,
   "id": "e48e1397-ad79-4813-82ff-6148b158cfaa",
   "metadata": {},
   "outputs": [],
   "source": [
    "a='X2'\n",
    "b='2'"
   ]
  },
  {
   "cell_type": "code",
   "execution_count": 49,
   "id": "b5b2a38d-8f84-427a-a1e0-5fa755aa86cc",
   "metadata": {},
   "outputs": [
    {
     "ename": "TypeError",
     "evalue": "unsupported operand type(s) for -: 'str' and 'str'",
     "output_type": "error",
     "traceback": [
      "\u001b[0;31m---------------------------------------------------------------------------\u001b[0m",
      "\u001b[0;31mTypeError\u001b[0m                                 Traceback (most recent call last)",
      "Input \u001b[0;32mIn [49]\u001b[0m, in \u001b[0;36m<cell line: 1>\u001b[0;34m()\u001b[0m\n\u001b[0;32m----> 1\u001b[0m \u001b[43ma\u001b[49m\u001b[38;5;241;43m-\u001b[39;49m\u001b[43mb\u001b[49m\n",
      "\u001b[0;31mTypeError\u001b[0m: unsupported operand type(s) for -: 'str' and 'str'"
     ]
    }
   ],
   "source": [
    "a-b"
   ]
  },
  {
   "cell_type": "markdown",
   "id": "eba5079f-91e9-4ddc-9c86-a4603e8afc03",
   "metadata": {},
   "source": [
    "- 곱하기(*) 연산"
   ]
  },
  {
   "cell_type": "code",
   "execution_count": 50,
   "id": "981afc7e-ba3b-4405-99a2-7b56ed3b3d36",
   "metadata": {},
   "outputs": [],
   "source": [
    "a='X'"
   ]
  },
  {
   "cell_type": "code",
   "execution_count": 53,
   "id": "43557375-24f7-4bdd-8aed-3ef4c774bd00",
   "metadata": {},
   "outputs": [
    {
     "data": {
      "text/plain": [
       "'XXX'"
      ]
     },
     "execution_count": 53,
     "metadata": {},
     "output_type": "execute_result"
    }
   ],
   "source": [
    "a*3 #a*3=a+a+a"
   ]
  },
  {
   "cell_type": "markdown",
   "id": "56688b06-76de-45be-a548-eaf30bd27023",
   "metadata": {},
   "source": [
    "`-` 나누기(/) 연산 (정의되지 않음)"
   ]
  },
  {
   "cell_type": "code",
   "execution_count": 54,
   "id": "ef99ebf7-2c23-458a-90fd-1cb35747fb4d",
   "metadata": {},
   "outputs": [],
   "source": [
    "a='XX'"
   ]
  },
  {
   "cell_type": "code",
   "execution_count": 55,
   "id": "c1e40008-145e-479c-9b11-b12245e14085",
   "metadata": {},
   "outputs": [
    {
     "ename": "TypeError",
     "evalue": "unsupported operand type(s) for /: 'str' and 'int'",
     "output_type": "error",
     "traceback": [
      "\u001b[0;31m---------------------------------------------------------------------------\u001b[0m",
      "\u001b[0;31mTypeError\u001b[0m                                 Traceback (most recent call last)",
      "Input \u001b[0;32mIn [55]\u001b[0m, in \u001b[0;36m<cell line: 1>\u001b[0;34m()\u001b[0m\n\u001b[0;32m----> 1\u001b[0m \u001b[43ma\u001b[49m\u001b[38;5;241;43m/\u001b[39;49m\u001b[38;5;241;43m2\u001b[39;49m\n",
      "\u001b[0;31mTypeError\u001b[0m: unsupported operand type(s) for /: 'str' and 'int'"
     ]
    }
   ],
   "source": [
    "a/2"
   ]
  },
  {
   "cell_type": "markdown",
   "id": "f14a1df1-645d-45c5-b000-48bc8eb3cbda",
   "metadata": {},
   "source": [
    "### 인덱싱"
   ]
  },
  {
   "cell_type": "markdown",
   "id": "fbdc45fe-50d4-44a3-ba23-748deb315b5c",
   "metadata": {},
   "source": [
    "`-` str은 하나의 벡터 문자가 여러개 있는 형태라고 생각하면 된다."
   ]
  },
  {
   "cell_type": "code",
   "execution_count": 56,
   "id": "4ffea3fe-dee3-41c9-9b34-131201fa3ffd",
   "metadata": {},
   "outputs": [],
   "source": [
    "a='seokjin'"
   ]
  },
  {
   "cell_type": "code",
   "execution_count": 57,
   "id": "ac7fda23-20e0-49f1-b673-1ef7677874ec",
   "metadata": {},
   "outputs": [
    {
     "data": {
      "text/plain": [
       "'seokjin'"
      ]
     },
     "execution_count": 57,
     "metadata": {},
     "output_type": "execute_result"
    }
   ],
   "source": [
    "a"
   ]
  },
  {
   "cell_type": "markdown",
   "id": "53dd913f-58c8-4ea5-96b9-802d50f9ff41",
   "metadata": {},
   "source": [
    "- 6개의 칸에 글씨가 하나씩 들어가 있음."
   ]
  },
  {
   "cell_type": "markdown",
   "id": "1760189c-f604-4220-be89-199914ff5416",
   "metadata": {},
   "source": [
    "`-` 대괄호 `[]`안에 숫자를 넣는 방식으로 벡터의 원소를 호출할 수 있다. (주의: 인덱스가 0부터 시작함)"
   ]
  },
  {
   "cell_type": "code",
   "execution_count": 60,
   "id": "a0f421da-6aa3-42c2-ac8c-be8e51b3ec7c",
   "metadata": {},
   "outputs": [
    {
     "data": {
      "text/plain": [
       "'s'"
      ]
     },
     "execution_count": 60,
     "metadata": {},
     "output_type": "execute_result"
    }
   ],
   "source": [
    "a[0] #1번째 원소"
   ]
  },
  {
   "cell_type": "code",
   "execution_count": 61,
   "id": "9302cd7a-a811-4704-bed6-17424332ec25",
   "metadata": {},
   "outputs": [
    {
     "data": {
      "text/plain": [
       "'e'"
      ]
     },
     "execution_count": 61,
     "metadata": {},
     "output_type": "execute_result"
    }
   ],
   "source": [
    "a[1] #2번째 원소"
   ]
  },
  {
   "cell_type": "code",
   "execution_count": 62,
   "id": "0e2683d0-a019-44a0-a0a2-b00cba8ab13d",
   "metadata": {},
   "outputs": [
    {
     "data": {
      "text/plain": [
       "'n'"
      ]
     },
     "execution_count": 62,
     "metadata": {},
     "output_type": "execute_result"
    }
   ],
   "source": [
    "a[-1] #마지막원소는 -1로 호출가능"
   ]
  },
  {
   "cell_type": "code",
   "execution_count": 63,
   "id": "87b781ac-5efe-4ab4-ad80-2a92be4a4335",
   "metadata": {},
   "outputs": [
    {
     "data": {
      "text/plain": [
       "'i'"
      ]
     },
     "execution_count": 63,
     "metadata": {},
     "output_type": "execute_result"
    }
   ],
   "source": [
    "a[-2] #마지막에서 2번째 원소는 -2로 호출"
   ]
  },
  {
   "cell_type": "markdown",
   "id": "5ab30bda-d46c-4949-8913-dedcf568f483",
   "metadata": {},
   "source": [
    "`-` 아래와 같은 방식으로 호출이 가능하다!"
   ]
  },
  {
   "cell_type": "markdown",
   "id": "2157dc08-dcae-4c9c-8dde-054cec59aac2",
   "metadata": {},
   "source": [
    "|s|e|o|k|j|i|n|\n",
    "|:-:|:-:|:-:|:-:|:-:|:-:|:-:|\n",
    "|0|1|2|3|4|5|6|\n",
    "|0|-6|-5|-4|-3|-2|-1|"
   ]
  },
  {
   "cell_type": "markdown",
   "id": "acbb516e-6aed-416b-9f35-012a8559dc20",
   "metadata": {},
   "source": [
    "`-` `:`을 이용하여 여러개의 원소를 호출할 수 있다."
   ]
  },
  {
   "cell_type": "code",
   "execution_count": 66,
   "id": "705e73d9-ef07-4c96-80f6-59145ecdff75",
   "metadata": {},
   "outputs": [
    {
     "data": {
      "text/plain": [
       "'seok'"
      ]
     },
     "execution_count": 66,
     "metadata": {},
     "output_type": "execute_result"
    }
   ],
   "source": [
    "a[0:4] #a[0],a[1],a[2],a[3],a[4] 가 호출되는게 아니라 a[0],a[1],a[2],a[3]까지만 호출됨. 즉 마지막 4번째는 호출 되지 않는다"
   ]
  },
  {
   "cell_type": "markdown",
   "id": "c67d0c82-764e-483a-82b8-ee067188bbb4",
   "metadata": {},
   "source": [
    "1에서부터 끝까지 뽑고 싶다면?? -> 그냥 생략하면 된다!"
   ]
  },
  {
   "cell_type": "code",
   "execution_count": 67,
   "id": "cfc3c525-b876-48aa-92c7-9a07ebad485d",
   "metadata": {},
   "outputs": [
    {
     "data": {
      "text/plain": [
       "'eokjin'"
      ]
     },
     "execution_count": 67,
     "metadata": {},
     "output_type": "execute_result"
    }
   ],
   "source": [
    "a[1:]"
   ]
  },
  {
   "cell_type": "markdown",
   "id": "d21382a3-3469-4f59-9443-2485022c9ed4",
   "metadata": {},
   "source": [
    "처음부터 4번째까지만 뽑고 싶으면?? -> 마찬가지 생략!"
   ]
  },
  {
   "cell_type": "code",
   "execution_count": 69,
   "id": "dbf864bc-ceb3-489a-aa01-e23c5a1249ae",
   "metadata": {},
   "outputs": [
    {
     "data": {
      "text/plain": [
       "'seok'"
      ]
     },
     "execution_count": 69,
     "metadata": {},
     "output_type": "execute_result"
    }
   ],
   "source": [
    "a[:4]"
   ]
  },
  {
   "cell_type": "markdown",
   "id": "04b30838-e56a-46c1-81ac-ba4e6ad85404",
   "metadata": {},
   "source": [
    "다 뽑고 싶어도 그냥 생략하면됨"
   ]
  },
  {
   "cell_type": "code",
   "execution_count": 70,
   "id": "10349d8e-f415-4d7b-8ac3-9b53feee1c22",
   "metadata": {},
   "outputs": [
    {
     "data": {
      "text/plain": [
       "'seokjin'"
      ]
     },
     "execution_count": 70,
     "metadata": {},
     "output_type": "execute_result"
    }
   ],
   "source": [
    "a[:]"
   ]
  },
  {
   "cell_type": "markdown",
   "id": "dc8970fa-2ee8-48ab-a52f-b9ab6c559d80",
   "metadata": {},
   "source": [
    "### str의 특수기능"
   ]
  },
  {
   "cell_type": "markdown",
   "id": "e17a486c-8e6d-4c47-a549-d35a28db9f06",
   "metadata": {},
   "source": [
    "`-` 파이썬의 변수는 단순히 정보를 담는 그릇이 아니다. 유용한 기능을 제공한다."
   ]
  },
  {
   "cell_type": "code",
   "execution_count": 71,
   "id": "a804f4df-2758-4e0a-957f-b2f2093686a0",
   "metadata": {},
   "outputs": [],
   "source": [
    "a='ABCD'"
   ]
  },
  {
   "cell_type": "code",
   "execution_count": 72,
   "id": "82a9ebfd-d7b6-4444-a6d6-b12d30282b94",
   "metadata": {},
   "outputs": [
    {
     "data": {
      "text/plain": [
       "'abcd'"
      ]
     },
     "execution_count": 72,
     "metadata": {},
     "output_type": "execute_result"
    }
   ],
   "source": [
    "a.lower() #a.lower()을 쓰면 a의 모든 문자를 소문자로 바꾸는 기능을 함."
   ]
  },
  {
   "cell_type": "markdown",
   "id": "badee944-8e58-4a17-a119-7c56ded9ba93",
   "metadata": {},
   "source": [
    "`-` 자료형에 특화된 기능 (method)를 확인하는 방법? `a.`+`tab`으로 목록 확인 가능"
   ]
  },
  {
   "cell_type": "code",
   "execution_count": 74,
   "id": "50c56732-31f6-4d25-b282-f0aa418591d0",
   "metadata": {},
   "outputs": [],
   "source": [
    "a='seokjin'"
   ]
  },
  {
   "cell_type": "code",
   "execution_count": 75,
   "id": "944060d6-5797-4f2d-a79f-5042f05147ab",
   "metadata": {},
   "outputs": [
    {
     "data": {
      "text/plain": [
       "'SEOKJIN'"
      ]
     },
     "execution_count": 75,
     "metadata": {},
     "output_type": "execute_result"
    }
   ],
   "source": [
    "a.upper()"
   ]
  },
  {
   "cell_type": "code",
   "execution_count": 76,
   "id": "04b287c1-7048-4b68-a3a3-88848b687c4e",
   "metadata": {},
   "outputs": [
    {
     "data": {
      "text/plain": [
       "'Seokjin'"
      ]
     },
     "execution_count": 76,
     "metadata": {},
     "output_type": "execute_result"
    }
   ],
   "source": [
    "a.capitalize()"
   ]
  },
  {
   "cell_type": "markdown",
   "id": "d492e210-df70-4ba7-8e66-c9eefb9e0d00",
   "metadata": {},
   "source": [
    "`-` `a.f()`형태를 읽는 방법"
   ]
  },
  {
   "cell_type": "markdown",
   "id": "1f982d94-54d2-4149-9b17-6849d3ab5257",
   "metadata": {},
   "source": [
    "- 함수라고 생각하고 읽으면 된다.\n",
    "- a.f() = f(a)"
   ]
  },
  {
   "cell_type": "markdown",
   "id": "cad388de-def9-41d9-9a68-c5025cc7ed56",
   "metadata": {},
   "source": [
    "`-` `.`을 기준으로 `상위개념.하위개념`으로 이해!"
   ]
  },
  {
   "cell_type": "markdown",
   "id": "20591b7c-c6d2-40e9-81b2-6f5d33cbf013",
   "metadata": {},
   "source": [
    "### 0차원 vs 1차원"
   ]
  },
  {
   "cell_type": "markdown",
   "id": "2e7c79d7-7d36-4df4-a5d3-eeb1a8524ee2",
   "metadata": {},
   "source": [
    "`-` len 함수 소개 : 원소의 개수를 알려주는 함수"
   ]
  },
  {
   "cell_type": "markdown",
   "id": "ec75fa85-a792-4e91-80d3-106378d7384f",
   "metadata": {},
   "source": [
    "(0차원) `len`함수가 작동하지 않음"
   ]
  },
  {
   "cell_type": "code",
   "execution_count": 78,
   "id": "229b6626-c428-41f6-a488-88dc8388fd80",
   "metadata": {},
   "outputs": [],
   "source": [
    "a=3.14"
   ]
  },
  {
   "cell_type": "code",
   "execution_count": 79,
   "id": "9743b548-3cb8-490e-9e03-9a2dd559667f",
   "metadata": {},
   "outputs": [
    {
     "ename": "TypeError",
     "evalue": "object of type 'float' has no len()",
     "output_type": "error",
     "traceback": [
      "\u001b[0;31m---------------------------------------------------------------------------\u001b[0m",
      "\u001b[0;31mTypeError\u001b[0m                                 Traceback (most recent call last)",
      "Input \u001b[0;32mIn [79]\u001b[0m, in \u001b[0;36m<cell line: 1>\u001b[0;34m()\u001b[0m\n\u001b[0;32m----> 1\u001b[0m \u001b[38;5;28;43mlen\u001b[39;49m\u001b[43m(\u001b[49m\u001b[43ma\u001b[49m\u001b[43m)\u001b[49m\n",
      "\u001b[0;31mTypeError\u001b[0m: object of type 'float' has no len()"
     ]
    }
   ],
   "source": [
    "len(a)"
   ]
  },
  {
   "cell_type": "code",
   "execution_count": 81,
   "id": "80ffc200-751d-4832-bb26-e40b8edb2d27",
   "metadata": {},
   "outputs": [
    {
     "ename": "TypeError",
     "evalue": "object of type 'bool' has no len()",
     "output_type": "error",
     "traceback": [
      "\u001b[0;31m---------------------------------------------------------------------------\u001b[0m",
      "\u001b[0;31mTypeError\u001b[0m                                 Traceback (most recent call last)",
      "Input \u001b[0;32mIn [81]\u001b[0m, in \u001b[0;36m<cell line: 2>\u001b[0;34m()\u001b[0m\n\u001b[1;32m      1\u001b[0m b\u001b[38;5;241m=\u001b[39m\u001b[38;5;28;01mTrue\u001b[39;00m\n\u001b[0;32m----> 2\u001b[0m \u001b[38;5;28;43mlen\u001b[39;49m\u001b[43m(\u001b[49m\u001b[43mb\u001b[49m\u001b[43m)\u001b[49m\n",
      "\u001b[0;31mTypeError\u001b[0m: object of type 'bool' has no len()"
     ]
    }
   ],
   "source": [
    "b=True\n",
    "len(b)"
   ]
  },
  {
   "cell_type": "markdown",
   "id": "cc4a157b-24e7-4e49-8475-5214485befff",
   "metadata": {},
   "source": [
    "(1차원) `len`함수가 작동함"
   ]
  },
  {
   "cell_type": "code",
   "execution_count": 82,
   "id": "09e423a9-ce3a-49e3-b364-605915b80721",
   "metadata": {},
   "outputs": [
    {
     "data": {
      "text/plain": [
       "4"
      ]
     },
     "execution_count": 82,
     "metadata": {},
     "output_type": "execute_result"
    }
   ],
   "source": [
    "a='3.14'\n",
    "len(a)"
   ]
  },
  {
   "cell_type": "code",
   "execution_count": 84,
   "id": "c546cfe5-587c-4d77-bd6c-a148d1469894",
   "metadata": {},
   "outputs": [
    {
     "data": {
      "text/plain": [
       "3"
      ]
     },
     "execution_count": 84,
     "metadata": {},
     "output_type": "execute_result"
    }
   ],
   "source": [
    "b=[1,2,3]\n",
    "len(b)"
   ]
  },
  {
   "cell_type": "code",
   "execution_count": null,
   "id": "f15f2127-1023-407a-9e40-ea9461a8355a",
   "metadata": {},
   "outputs": [],
   "source": []
  }
 ],
 "metadata": {
  "kernelspec": {
   "display_name": "Python 3 (ipykernel)",
   "language": "python",
   "name": "python3"
  },
  "language_info": {
   "codemirror_mode": {
    "name": "ipython",
    "version": 3
   },
   "file_extension": ".py",
   "mimetype": "text/x-python",
   "name": "python",
   "nbconvert_exporter": "python",
   "pygments_lexer": "ipython3",
   "version": "3.9.7"
  }
 },
 "nbformat": 4,
 "nbformat_minor": 5
}
