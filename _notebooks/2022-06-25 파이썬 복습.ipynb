{
 "cells": [
  {
   "cell_type": "markdown",
   "id": "e6cd3557-7cb3-46b4-bab4-9fd475e5f5d4",
   "metadata": {},
   "source": [
    "# 파이썬 3월 14일 강의 복습\n",
    "> \"6월 25일 \"\n",
    "\n",
    "- toc:true\n",
    "- branch: master\n",
    "- badges: true\n",
    "- comments: true\n",
    "- author: 최석진\n",
    "- categories: [Python]"
   ]
  },
  {
   "cell_type": "markdown",
   "id": "1f67d0ff-66d3-4edc-ad98-0feb75df29de",
   "metadata": {},
   "source": [
    "## 리스트 - 선언, 연산, 컨테이너형 객체, 가변객체, 메소드, 중첩리스트, 리스트 컴프리헨션\n",
    "- june 25 ,2022"
   ]
  },
  {
   "cell_type": "markdown",
   "id": "dac670b2-a8f6-4aa0-b2b8-e9d3a91aa0e8",
   "metadata": {},
   "source": [
    "### list"
   ]
  },
  {
   "cell_type": "markdown",
   "id": "60fb49c2-3871-4dc9-ab1e-4a627d84078f",
   "metadata": {},
   "source": [
    "선언"
   ]
  },
  {
   "cell_type": "markdown",
   "id": "1a368229-ab22-47a3-bc27-4a409be54022",
   "metadata": {},
   "source": [
    "`-`  리스트의 선언"
   ]
  },
  {
   "cell_type": "code",
   "execution_count": 2,
   "id": "7a70a645-0329-4169-846c-98029ce5507a",
   "metadata": {},
   "outputs": [
    {
     "data": {
      "text/plain": [
       "[11, 22]"
      ]
     },
     "execution_count": 2,
     "metadata": {},
     "output_type": "execute_result"
    }
   ],
   "source": [
    "a=[11,22]\n",
    "a"
   ]
  },
  {
   "cell_type": "code",
   "execution_count": 3,
   "id": "ff7676e8-16f1-40da-afaf-914630820a05",
   "metadata": {},
   "outputs": [
    {
     "data": {
      "text/plain": [
       "list"
      ]
     },
     "execution_count": 3,
     "metadata": {},
     "output_type": "execute_result"
    }
   ],
   "source": [
    "type(a)"
   ]
  },
  {
   "cell_type": "markdown",
   "id": "a876dda2-c9ee-483c-b603-c86dcc1b8b30",
   "metadata": {},
   "source": [
    "`-` 비어있는 리스트 선언"
   ]
  },
  {
   "cell_type": "code",
   "execution_count": 5,
   "id": "9116b3f8-6915-4845-8ce5-a633cba96f53",
   "metadata": {},
   "outputs": [
    {
     "data": {
      "text/plain": [
       "[]"
      ]
     },
     "execution_count": 5,
     "metadata": {},
     "output_type": "execute_result"
    }
   ],
   "source": [
    "a=[] # 방법 1\n",
    "a"
   ]
  },
  {
   "cell_type": "code",
   "execution_count": 9,
   "id": "42dfcd0e-e184-4dab-b3d4-7f85c5904a77",
   "metadata": {},
   "outputs": [
    {
     "data": {
      "text/plain": [
       "[]"
      ]
     },
     "execution_count": 9,
     "metadata": {},
     "output_type": "execute_result"
    }
   ],
   "source": [
    "a=list() #방법 2\n",
    "a"
   ]
  },
  {
   "cell_type": "markdown",
   "id": "eb4bfb2b-e5df-4cb9-aada-978075416959",
   "metadata": {},
   "source": [
    "연산"
   ]
  },
  {
   "cell_type": "markdown",
   "id": "01c94aaa-34f9-4b86-b071-1a382f33c504",
   "metadata": {},
   "source": [
    "`-` 더하기 연산"
   ]
  },
  {
   "cell_type": "code",
   "execution_count": 12,
   "id": "f3f53661-3656-4279-abd7-24c55a3a0ba7",
   "metadata": {},
   "outputs": [],
   "source": [
    "a=[11,12]\n",
    "b=[12,13]"
   ]
  },
  {
   "cell_type": "code",
   "execution_count": 13,
   "id": "b87790a1-1d52-497d-a83c-88ca4cc8917f",
   "metadata": {},
   "outputs": [
    {
     "data": {
      "text/plain": [
       "[11, 12, 12, 13]"
      ]
     },
     "execution_count": 13,
     "metadata": {},
     "output_type": "execute_result"
    }
   ],
   "source": [
    "a+b"
   ]
  },
  {
   "cell_type": "markdown",
   "id": "4756ceb9-f792-452e-a5f2-efb8fc0895fd",
   "metadata": {},
   "source": [
    "- 리스트에서 더하기 연산은 더하기 개념이 아니라 원소 추가의 개념"
   ]
  },
  {
   "cell_type": "markdown",
   "id": "d08b1b7a-6d2d-4d8f-8d06-517084112368",
   "metadata": {},
   "source": [
    "`-` 빼기 연산 (정의되지 않음)"
   ]
  },
  {
   "cell_type": "code",
   "execution_count": 14,
   "id": "fb6ede22-4703-415d-8015-2dc55c6d083d",
   "metadata": {},
   "outputs": [
    {
     "ename": "TypeError",
     "evalue": "unsupported operand type(s) for -: 'list' and 'list'",
     "output_type": "error",
     "traceback": [
      "\u001b[0;31m---------------------------------------------------------------------------\u001b[0m",
      "\u001b[0;31mTypeError\u001b[0m                                 Traceback (most recent call last)",
      "Input \u001b[0;32mIn [14]\u001b[0m, in \u001b[0;36m<cell line: 1>\u001b[0;34m()\u001b[0m\n\u001b[0;32m----> 1\u001b[0m \u001b[43ma\u001b[49m\u001b[38;5;241;43m-\u001b[39;49m\u001b[43mb\u001b[49m\n",
      "\u001b[0;31mTypeError\u001b[0m: unsupported operand type(s) for -: 'list' and 'list'"
     ]
    }
   ],
   "source": [
    "a-b"
   ]
  },
  {
   "cell_type": "markdown",
   "id": "89e50d4e-08eb-4d0c-a45c-99a26298f91c",
   "metadata": {},
   "source": [
    "`-` 곱하기 연산 "
   ]
  },
  {
   "cell_type": "code",
   "execution_count": 15,
   "id": "9f24f1f4-149b-457f-a4d5-527d237bc70f",
   "metadata": {},
   "outputs": [
    {
     "data": {
      "text/plain": [
       "[11, 12, 11, 12]"
      ]
     },
     "execution_count": 15,
     "metadata": {},
     "output_type": "execute_result"
    }
   ],
   "source": [
    "a*2"
   ]
  },
  {
   "cell_type": "markdown",
   "id": "2faba5af-ee89-486e-925c-5570137a6be4",
   "metadata": {},
   "source": [
    "- 리스트에서 곱하기 연산은 원소의 반복의 개념"
   ]
  },
  {
   "cell_type": "markdown",
   "id": "2c60e51e-ef8c-4555-b046-1a2ed598f0d0",
   "metadata": {},
   "source": [
    "`-`  나눗셈 연산 (정의되지 않음)"
   ]
  },
  {
   "cell_type": "code",
   "execution_count": 17,
   "id": "07a00b52-6a58-42fb-bda5-908b60a18628",
   "metadata": {},
   "outputs": [
    {
     "ename": "TypeError",
     "evalue": "unsupported operand type(s) for /: 'list' and 'int'",
     "output_type": "error",
     "traceback": [
      "\u001b[0;31m---------------------------------------------------------------------------\u001b[0m",
      "\u001b[0;31mTypeError\u001b[0m                                 Traceback (most recent call last)",
      "Input \u001b[0;32mIn [17]\u001b[0m, in \u001b[0;36m<cell line: 1>\u001b[0;34m()\u001b[0m\n\u001b[0;32m----> 1\u001b[0m \u001b[43ma\u001b[49m\u001b[38;5;241;43m/\u001b[39;49m\u001b[38;5;241;43m2\u001b[39;49m\n",
      "\u001b[0;31mTypeError\u001b[0m: unsupported operand type(s) for /: 'list' and 'int'"
     ]
    }
   ],
   "source": [
    "a/2"
   ]
  },
  {
   "cell_type": "markdown",
   "id": "67f4b728-3277-4728-98e6-ae0ca644c34d",
   "metadata": {},
   "source": [
    "`-`  더하기와 곱하기는 원소의 추가와 반복추가를 의미하지만 그렇다고 해서 뺄셈과 나눗셈이 원소의 삭제를 의미하지는 않음"
   ]
  },
  {
   "cell_type": "markdown",
   "id": "00424ad6-097b-4149-909c-d07755a82ec6",
   "metadata": {},
   "source": [
    "`-` 더하기와 곱하기로 산술적인 `+`,`*` 을 계산하고 싶은경우에는 ??? "
   ]
  },
  {
   "cell_type": "markdown",
   "id": "ab505032-8021-4f63-8143-108b4005f756",
   "metadata": {},
   "source": [
    "(예제)"
   ]
  },
  {
   "cell_type": "code",
   "execution_count": 18,
   "id": "c77a9d7c-4183-4165-abab-5093ab5f6e4d",
   "metadata": {},
   "outputs": [],
   "source": [
    "a=[1,2]\n",
    "b=[3,4]"
   ]
  },
  {
   "cell_type": "markdown",
   "id": "bce1ea77-c81c-44c0-b6b0-52721d7ce385",
   "metadata": {},
   "source": [
    "(풀이1)"
   ]
  },
  {
   "cell_type": "code",
   "execution_count": 20,
   "id": "f121d9e6-502b-48bc-b59a-b230a1ba6e5b",
   "metadata": {},
   "outputs": [
    {
     "data": {
      "text/plain": [
       "4"
      ]
     },
     "execution_count": 20,
     "metadata": {},
     "output_type": "execute_result"
    }
   ],
   "source": [
    "a[0]+b[0] #a믜 첫번째 원소를 추출 , b의 첫번째 원소를 추출, 둘을 더함 (추출한 원소는 int형이므로 연산 가능!)"
   ]
  },
  {
   "cell_type": "code",
   "execution_count": 21,
   "id": "9c4a3b11-ce9e-4f00-a7b7-425dd4d09d0d",
   "metadata": {},
   "outputs": [
    {
     "data": {
      "text/plain": [
       "6"
      ]
     },
     "execution_count": 21,
     "metadata": {},
     "output_type": "execute_result"
    }
   ],
   "source": [
    "a[1]+b[1] #a믜 두번째 원소를 추출 , b의 두번째 원소를 추출, 둘을 더함 (추출한 원소는 int형이므로 연산 가능!)"
   ]
  },
  {
   "cell_type": "markdown",
   "id": "20fec98c-6255-42df-a263-b736e5378c7b",
   "metadata": {},
   "source": [
    "(풀이2)"
   ]
  },
  {
   "cell_type": "markdown",
   "id": "20d8da70-9061-408d-92f5-3e2239ba0e79",
   "metadata": {},
   "source": [
    "numpy 패키지 사용 (파이썬의 여러 수치연산들을 담당하는 라이브러리)"
   ]
  },
  {
   "cell_type": "markdown",
   "id": "fc9af670-ee21-4ce4-9871-bb7d53b1224f",
   "metadata": {},
   "source": [
    "패키지 설치 방법\n",
    "- `!pip install numpy`#최신버전의 패키지를 설치\n",
    "- `!conda install -c conda-forge numpy -y` #안전한 버전의 패키지를 설치"
   ]
  },
  {
   "cell_type": "markdown",
   "id": "577627a9-a31e-42ab-8a15-95b05753e32f",
   "metadata": {},
   "source": [
    "설치된 패키지 사용 방법\n",
    "- `import numpy` 한뒤에 `numpy.??` 로 기능을 사용\n",
    "- `import numpy as np` 한뒤에 `np.??` 로 기능을 사용"
   ]
  },
  {
   "cell_type": "code",
   "execution_count": 31,
   "id": "a2dd20af-28bd-458d-9283-05d92ea95f77",
   "metadata": {},
   "outputs": [],
   "source": [
    "import numpy as np #numpy를 불러오는데 np라는 이름으로 불러오겠다"
   ]
  },
  {
   "cell_type": "code",
   "execution_count": 24,
   "id": "e1c58304-15cb-4402-9258-05ec2effbc27",
   "metadata": {},
   "outputs": [],
   "source": [
    "a=[1,2]\n",
    "b=[3,4]"
   ]
  },
  {
   "cell_type": "code",
   "execution_count": 26,
   "id": "aae5e9c5-88e6-4c2d-ada8-6b870ea41dea",
   "metadata": {},
   "outputs": [],
   "source": [
    "aa=np.array(a)\n",
    "bb=np.array(b)\n",
    "# aa,bb는 리스트가 아니라 numpy array\n",
    "# numpy.array()는 numpy패키지에서 제공하는 array함수를 쓰겠다는 의미!\n",
    "# numpy -> 상위개념 , array() -> 하위개념"
   ]
  },
  {
   "cell_type": "code",
   "execution_count": 27,
   "id": "ab203369-29b1-4745-8ccc-f7f69b297d3b",
   "metadata": {},
   "outputs": [
    {
     "data": {
      "text/plain": [
       "array([4, 6])"
      ]
     },
     "execution_count": 27,
     "metadata": {},
     "output_type": "execute_result"
    }
   ],
   "source": [
    "aa+bb"
   ]
  },
  {
   "cell_type": "code",
   "execution_count": 29,
   "id": "e278b4a3-90b2-4174-96b2-8688210d864d",
   "metadata": {},
   "outputs": [
    {
     "data": {
      "text/plain": [
       "array([2, 4])"
      ]
     },
     "execution_count": 29,
     "metadata": {},
     "output_type": "execute_result"
    }
   ],
   "source": [
    "2*aa"
   ]
  },
  {
   "cell_type": "code",
   "execution_count": 30,
   "id": "861c20a1-44e7-4d32-a537-025aa79280c0",
   "metadata": {},
   "outputs": [
    {
     "data": {
      "text/plain": [
       "array([3, 5])"
      ]
     },
     "execution_count": 30,
     "metadata": {},
     "output_type": "execute_result"
    }
   ],
   "source": [
    "2*aa+1"
   ]
  },
  {
   "cell_type": "markdown",
   "id": "5b54fafa-f0c4-47c6-a305-c83688eb8663",
   "metadata": {},
   "source": [
    "인덱싱"
   ]
  },
  {
   "cell_type": "markdown",
   "id": "017b4aeb-9c10-48a5-807d-6904e16cb0d2",
   "metadata": {},
   "source": [
    "`-` str형과 동일한 방식"
   ]
  },
  {
   "cell_type": "code",
   "execution_count": 32,
   "id": "53c40726-8fb8-4528-99e4-1aab8ab5b2bf",
   "metadata": {},
   "outputs": [
    {
     "data": {
      "text/plain": [
       "[55]"
      ]
     },
     "execution_count": 32,
     "metadata": {},
     "output_type": "execute_result"
    }
   ],
   "source": [
    "a=[11,22,33,44,55]\n",
    "a[-1:]"
   ]
  },
  {
   "cell_type": "markdown",
   "id": "e3e90a6d-8a12-4321-b2cd-7f65ac1b46cd",
   "metadata": {},
   "source": [
    "### list 고급"
   ]
  },
  {
   "cell_type": "markdown",
   "id": "655b0e16-1184-421d-b333-25bf5b5036b3",
   "metadata": {},
   "source": [
    "컨테이너형 객체, 가변객체"
   ]
  },
  {
   "cell_type": "markdown",
   "id": "97ed61cf-4b74-4bd4-b4a3-37d3562e8c54",
   "metadata": {},
   "source": [
    "`-` list의 원소는 int, float 등만 가능한 것이 아니다. (리스트는 컨테이너형 객체 이므로)"
   ]
  },
  {
   "cell_type": "code",
   "execution_count": 33,
   "id": "499c7a6f-66c4-4314-83dd-7f0abe3e4cba",
   "metadata": {},
   "outputs": [],
   "source": [
    "lst=[1,3.14,True,'a',[1,2],(1,2),{'name':'iu','age':27},{1,2,3}]"
   ]
  },
  {
   "cell_type": "code",
   "execution_count": 34,
   "id": "275fb609-5c93-48a4-850d-ca5353c1be20",
   "metadata": {},
   "outputs": [
    {
     "data": {
      "text/plain": [
       "[1, 3.14, True, 'a', [1, 2], (1, 2), {'name': 'iu', 'age': 27}, {1, 2, 3}]"
      ]
     },
     "execution_count": 34,
     "metadata": {},
     "output_type": "execute_result"
    }
   ],
   "source": [
    "lst"
   ]
  },
  {
   "cell_type": "code",
   "execution_count": 35,
   "id": "b6ba4397-03dc-4237-bda4-1684171a8098",
   "metadata": {},
   "outputs": [
    {
     "data": {
      "text/plain": [
       "(int, float, bool, str, list, tuple, dict, set)"
      ]
     },
     "execution_count": 35,
     "metadata": {},
     "output_type": "execute_result"
    }
   ],
   "source": [
    "type(lst[0]),type(lst[1]),type(lst[2]),type(lst[3]),type(lst[4]),type(lst[5]),type(lst[6]),type(lst[7])"
   ]
  },
  {
   "cell_type": "markdown",
   "id": "487de5a7-9054-4e4a-a6f2-4dd9768effd3",
   "metadata": {},
   "source": [
    "`-` str은 컨테이너형이 아니다. \n",
    "- str의 모든원소는 문자임"
   ]
  },
  {
   "cell_type": "code",
   "execution_count": 36,
   "id": "d50d0d27-fa3e-40f4-bb16-e7f9fa1cf13d",
   "metadata": {},
   "outputs": [
    {
     "data": {
      "text/plain": [
       "'c'"
      ]
     },
     "execution_count": 36,
     "metadata": {},
     "output_type": "execute_result"
    }
   ],
   "source": [
    "'abcd'[2]"
   ]
  },
  {
   "cell_type": "markdown",
   "id": "5c828d81-e31f-4a48-bda6-8f0ec79e4991",
   "metadata": {},
   "source": [
    "`-` 리스트의 원소는 수정할 수 있다. (리스트는 가변객체)"
   ]
  },
  {
   "cell_type": "code",
   "execution_count": 38,
   "id": "0e79ce34-74e3-4b5d-b83e-ac715966192e",
   "metadata": {},
   "outputs": [
    {
     "data": {
      "text/plain": [
       "[11, 22, 33]"
      ]
     },
     "execution_count": 38,
     "metadata": {},
     "output_type": "execute_result"
    }
   ],
   "source": [
    "a=[11,22,33]\n",
    "a"
   ]
  },
  {
   "cell_type": "code",
   "execution_count": 39,
   "id": "11c6e7c9-4761-428c-9e2a-8a54912c07ce",
   "metadata": {},
   "outputs": [],
   "source": [
    "a[0]=111"
   ]
  },
  {
   "cell_type": "code",
   "execution_count": 40,
   "id": "9999257a-c454-4888-befe-7a203892ffc3",
   "metadata": {},
   "outputs": [
    {
     "data": {
      "text/plain": [
       "[111, 22, 33]"
      ]
     },
     "execution_count": 40,
     "metadata": {},
     "output_type": "execute_result"
    }
   ],
   "source": [
    "a"
   ]
  },
  {
   "cell_type": "markdown",
   "id": "85c8fdae-9dc2-44c9-b53b-be17f29268bf",
   "metadata": {},
   "source": [
    "(원소수정 가능)"
   ]
  },
  {
   "cell_type": "code",
   "execution_count": 42,
   "id": "0f3a9e03-6611-421f-acf3-811733dbab6b",
   "metadata": {},
   "outputs": [
    {
     "data": {
      "text/plain": [
       "['s', 'e', 'o', 'k', 'j', 'i', 'n']"
      ]
     },
     "execution_count": 42,
     "metadata": {},
     "output_type": "execute_result"
    }
   ],
   "source": [
    "a=['s','e','o','k','j','i','n']\n",
    "a"
   ]
  },
  {
   "cell_type": "code",
   "execution_count": 43,
   "id": "821a6246-dd96-466c-943a-2ac61e32d0ad",
   "metadata": {},
   "outputs": [],
   "source": [
    "a[0]='S'"
   ]
  },
  {
   "cell_type": "code",
   "execution_count": 44,
   "id": "ff9bb051-13eb-44ea-b241-bf9d2630d4ab",
   "metadata": {},
   "outputs": [
    {
     "data": {
      "text/plain": [
       "['S', 'e', 'o', 'k', 'j', 'i', 'n']"
      ]
     },
     "execution_count": 44,
     "metadata": {},
     "output_type": "execute_result"
    }
   ],
   "source": [
    "a"
   ]
  },
  {
   "cell_type": "markdown",
   "id": "f5d4e236-4acb-40ba-a9d0-68cd1eb5c438",
   "metadata": {},
   "source": [
    "(원소수정 불가능)"
   ]
  },
  {
   "cell_type": "code",
   "execution_count": 45,
   "id": "485d9fd1-da33-4afa-a467-a0baaf95112e",
   "metadata": {},
   "outputs": [
    {
     "data": {
      "text/plain": [
       "'seokjin'"
      ]
     },
     "execution_count": 45,
     "metadata": {},
     "output_type": "execute_result"
    }
   ],
   "source": [
    "a='seokjin'\n",
    "a"
   ]
  },
  {
   "cell_type": "code",
   "execution_count": 46,
   "id": "0bde1cbf-1435-417e-86c4-03a16d4cc085",
   "metadata": {},
   "outputs": [
    {
     "data": {
      "text/plain": [
       "'s'"
      ]
     },
     "execution_count": 46,
     "metadata": {},
     "output_type": "execute_result"
    }
   ],
   "source": [
    "a[0]"
   ]
  },
  {
   "cell_type": "code",
   "execution_count": 47,
   "id": "229fbb11-bca8-4c66-9f67-2574e1b2bd52",
   "metadata": {},
   "outputs": [
    {
     "ename": "TypeError",
     "evalue": "'str' object does not support item assignment",
     "output_type": "error",
     "traceback": [
      "\u001b[0;31m---------------------------------------------------------------------------\u001b[0m",
      "\u001b[0;31mTypeError\u001b[0m                                 Traceback (most recent call last)",
      "Input \u001b[0;32mIn [47]\u001b[0m, in \u001b[0;36m<cell line: 1>\u001b[0;34m()\u001b[0m\n\u001b[0;32m----> 1\u001b[0m a[\u001b[38;5;241m0\u001b[39m]\u001b[38;5;241m=\u001b[39m\u001b[38;5;124m'\u001b[39m\u001b[38;5;124mS\u001b[39m\u001b[38;5;124m'\u001b[39m\n",
      "\u001b[0;31mTypeError\u001b[0m: 'str' object does not support item assignment"
     ]
    }
   ],
   "source": [
    "a[0]='S'"
   ]
  },
  {
   "cell_type": "markdown",
   "id": "2c5fbedd-efbe-4fd4-aeb1-74386b30b9a8",
   "metadata": {},
   "source": [
    "`-` 리스트 원소 삭제"
   ]
  },
  {
   "cell_type": "markdown",
   "id": "4fcf4d76-9c70-4df9-a58a-0c19a3f8fbda",
   "metadata": {},
   "source": [
    "(예제)"
   ]
  },
  {
   "cell_type": "markdown",
   "id": "01b8b8f4-b752-4e79-8c20-35e195aa5285",
   "metadata": {},
   "source": [
    "문자로 된 리스트 선언 방법1"
   ]
  },
  {
   "cell_type": "code",
   "execution_count": 48,
   "id": "cfc1dd68-c60a-40cf-8528-a3a6d2646d48",
   "metadata": {},
   "outputs": [
    {
     "data": {
      "text/plain": [
       "['s', 'e', 'o', 'k', 'j', 'i', 'n']"
      ]
     },
     "execution_count": 48,
     "metadata": {},
     "output_type": "execute_result"
    }
   ],
   "source": [
    "a=['s','e','o','k','j','i','n']\n",
    "a"
   ]
  },
  {
   "cell_type": "markdown",
   "id": "29e16ffd-d4f3-49bd-a209-aaa2d8e7184c",
   "metadata": {},
   "source": [
    "문자로 된 리스트 선언 방법2"
   ]
  },
  {
   "cell_type": "code",
   "execution_count": 50,
   "id": "40bfb3bb-d283-4fee-95ba-d0edc39bc4e1",
   "metadata": {},
   "outputs": [
    {
     "data": {
      "text/plain": [
       "['s', 'e', 'o', 'k', 'j', 'i', 'n']"
      ]
     },
     "execution_count": 50,
     "metadata": {},
     "output_type": "execute_result"
    }
   ],
   "source": [
    "a='seokjin' #string으로 된 a를 선언\n",
    "a=list(a)   #list(a)를 통해 str을 list로 변환 -> 그 결과를 다시 a에 저장\n",
    "a"
   ]
  },
  {
   "cell_type": "markdown",
   "id": "6225d746-c5dd-4d85-a98d-e9390d205a64",
   "metadata": {},
   "source": [
    "첫번째 원소를 삭제하고 싶다면?"
   ]
  },
  {
   "cell_type": "code",
   "execution_count": 51,
   "id": "763dacc9-291b-44d1-b849-a1f7b97538ae",
   "metadata": {},
   "outputs": [],
   "source": [
    "del a[0]"
   ]
  },
  {
   "cell_type": "code",
   "execution_count": 52,
   "id": "0bb97ed2-45db-48d9-b5aa-b9498cdbae27",
   "metadata": {},
   "outputs": [
    {
     "data": {
      "text/plain": [
       "['e', 'o', 'k', 'j', 'i', 'n']"
      ]
     },
     "execution_count": 52,
     "metadata": {},
     "output_type": "execute_result"
    }
   ],
   "source": [
    "a"
   ]
  },
  {
   "cell_type": "markdown",
   "id": "5d513d2b-9ebe-445e-ba5c-a896b1e71e10",
   "metadata": {},
   "source": [
    "이상태에서 다시 첫번째 원소를 삭제하면?"
   ]
  },
  {
   "cell_type": "code",
   "execution_count": 55,
   "id": "4a73f1ba-67a7-46c6-a65c-73b6180a67a8",
   "metadata": {},
   "outputs": [
    {
     "data": {
      "text/plain": [
       "['o', 'k', 'j', 'i', 'n']"
      ]
     },
     "execution_count": 55,
     "metadata": {},
     "output_type": "execute_result"
    }
   ],
   "source": [
    "del a[0]\n",
    "a"
   ]
  },
  {
   "cell_type": "markdown",
   "id": "c50f6a69-708c-4635-8b4c-d6e47f307211",
   "metadata": {},
   "source": [
    "`-` 리스트의 원소 추가"
   ]
  },
  {
   "cell_type": "markdown",
   "id": "29ec965d-44c0-4d64-9d2a-6c71dd992aa3",
   "metadata": {},
   "source": [
    "(예제) 비어있는 리스트를 만들고 원소 0,1,2를 차례로 추가"
   ]
  },
  {
   "cell_type": "markdown",
   "id": "e03ac235-ab7b-49a2-9e7d-182690c44cc8",
   "metadata": {},
   "source": [
    "(풀이1)"
   ]
  },
  {
   "cell_type": "code",
   "execution_count": 56,
   "id": "eb8769b5-5cc8-417b-937d-9b50090e9716",
   "metadata": {},
   "outputs": [
    {
     "data": {
      "text/plain": [
       "[]"
      ]
     },
     "execution_count": 56,
     "metadata": {},
     "output_type": "execute_result"
    }
   ],
   "source": [
    "a=[]\n",
    "a"
   ]
  },
  {
   "cell_type": "code",
   "execution_count": 57,
   "id": "1ae06c25-d402-4d04-aa90-f56e02999b91",
   "metadata": {},
   "outputs": [
    {
     "data": {
      "text/plain": [
       "[0]"
      ]
     },
     "execution_count": 57,
     "metadata": {},
     "output_type": "execute_result"
    }
   ],
   "source": [
    "a=a+[0]\n",
    "a"
   ]
  },
  {
   "cell_type": "code",
   "execution_count": 58,
   "id": "41af234a-604f-47f2-b206-75278c111b2b",
   "metadata": {},
   "outputs": [
    {
     "data": {
      "text/plain": [
       "[0, 1]"
      ]
     },
     "execution_count": 58,
     "metadata": {},
     "output_type": "execute_result"
    }
   ],
   "source": [
    "a=a+[1]\n",
    "a"
   ]
  },
  {
   "cell_type": "code",
   "execution_count": 59,
   "id": "87ffb32f-8c0d-4edc-812f-4621058e3849",
   "metadata": {},
   "outputs": [
    {
     "data": {
      "text/plain": [
       "[0, 1, 2]"
      ]
     },
     "execution_count": 59,
     "metadata": {},
     "output_type": "execute_result"
    }
   ],
   "source": [
    "a=a+[2]\n",
    "a"
   ]
  },
  {
   "cell_type": "markdown",
   "id": "e966df28-36b4-417c-a311-eaf82a9e0e0d",
   "metadata": {},
   "source": [
    "(풀이2)"
   ]
  },
  {
   "cell_type": "code",
   "execution_count": 60,
   "id": "fdbe5ad7-9be2-4bae-877f-576e6f1f5e23",
   "metadata": {},
   "outputs": [
    {
     "data": {
      "text/plain": [
       "[]"
      ]
     },
     "execution_count": 60,
     "metadata": {},
     "output_type": "execute_result"
    }
   ],
   "source": [
    "a=[]\n",
    "a"
   ]
  },
  {
   "cell_type": "code",
   "execution_count": 61,
   "id": "669be8c5-2733-42db-b169-c30aa0ee4c79",
   "metadata": {},
   "outputs": [
    {
     "data": {
      "text/plain": [
       "[0]"
      ]
     },
     "execution_count": 61,
     "metadata": {},
     "output_type": "execute_result"
    }
   ],
   "source": [
    "a+=[0]\n",
    "a"
   ]
  },
  {
   "cell_type": "code",
   "execution_count": 62,
   "id": "f7e4d31d-9abe-40be-9503-f3fe4c1a529b",
   "metadata": {},
   "outputs": [
    {
     "data": {
      "text/plain": [
       "[0, 1]"
      ]
     },
     "execution_count": 62,
     "metadata": {},
     "output_type": "execute_result"
    }
   ],
   "source": [
    "a+=[1]\n",
    "a"
   ]
  },
  {
   "cell_type": "code",
   "execution_count": 63,
   "id": "e9088763-39db-4dfa-866c-c0b3c55943ce",
   "metadata": {},
   "outputs": [
    {
     "data": {
      "text/plain": [
       "[0, 1, 2]"
      ]
     },
     "execution_count": 63,
     "metadata": {},
     "output_type": "execute_result"
    }
   ],
   "source": [
    "a+=[2]\n",
    "a"
   ]
  },
  {
   "cell_type": "markdown",
   "id": "fe4f1b4a-30b8-4862-b6b3-dc6d37bfbfc7",
   "metadata": {},
   "source": [
    "(풀이3) 리스트 특화기능(=메소드)를 이용"
   ]
  },
  {
   "cell_type": "code",
   "execution_count": 64,
   "id": "2384bad4-4763-421c-978f-92216500da27",
   "metadata": {},
   "outputs": [
    {
     "data": {
      "text/plain": [
       "[]"
      ]
     },
     "execution_count": 64,
     "metadata": {},
     "output_type": "execute_result"
    }
   ],
   "source": [
    "a=[]\n",
    "a"
   ]
  },
  {
   "cell_type": "code",
   "execution_count": 65,
   "id": "40c4fb71-dd32-4797-a8a1-aa4d87264ea8",
   "metadata": {},
   "outputs": [
    {
     "data": {
      "text/plain": [
       "[0]"
      ]
     },
     "execution_count": 65,
     "metadata": {},
     "output_type": "execute_result"
    }
   ],
   "source": [
    "a.append(0)\n",
    "a"
   ]
  },
  {
   "cell_type": "code",
   "execution_count": 66,
   "id": "7f07f3f1-5221-4494-92ac-d138338d2bc3",
   "metadata": {},
   "outputs": [
    {
     "data": {
      "text/plain": [
       "[0, 1]"
      ]
     },
     "execution_count": 66,
     "metadata": {},
     "output_type": "execute_result"
    }
   ],
   "source": [
    "a.append(1)\n",
    "a"
   ]
  },
  {
   "cell_type": "code",
   "execution_count": 67,
   "id": "4b0d652d-ff98-48ba-8c51-29a82cdc48c5",
   "metadata": {},
   "outputs": [
    {
     "data": {
      "text/plain": [
       "[0, 1, 2]"
      ]
     },
     "execution_count": 67,
     "metadata": {},
     "output_type": "execute_result"
    }
   ],
   "source": [
    "a.append(2)\n",
    "a"
   ]
  },
  {
   "cell_type": "markdown",
   "id": "eb29c32b-2f8e-47ae-99fb-c692df3f3948",
   "metadata": {},
   "source": [
    "- `a+[4]` 와 `a.append(4)`의 차이점?"
   ]
  },
  {
   "cell_type": "code",
   "execution_count": 68,
   "id": "202de41e-fb94-46b0-aa50-a743b71aac28",
   "metadata": {},
   "outputs": [
    {
     "data": {
      "text/plain": [
       "[1, 2, 3, 4]"
      ]
     },
     "execution_count": 68,
     "metadata": {},
     "output_type": "execute_result"
    }
   ],
   "source": [
    "a=[1,2,3]\n",
    "a+[4]"
   ]
  },
  {
   "cell_type": "code",
   "execution_count": 69,
   "id": "4dcc71b4-ec79-4005-a933-298b37e1fdec",
   "metadata": {},
   "outputs": [
    {
     "data": {
      "text/plain": [
       "[1, 2, 3]"
      ]
     },
     "execution_count": 69,
     "metadata": {},
     "output_type": "execute_result"
    }
   ],
   "source": [
    "a ##a의 연산결과는 그대로. 변화 없음"
   ]
  },
  {
   "cell_type": "code",
   "execution_count": 71,
   "id": "a8ec6df3-8f9b-4295-925a-50f1fb187ff3",
   "metadata": {},
   "outputs": [],
   "source": [
    "a=[1,2,3]\n",
    "a.append(4)"
   ]
  },
  {
   "cell_type": "code",
   "execution_count": 73,
   "id": "9e877015-3108-4283-b0a5-00dc8fb20933",
   "metadata": {},
   "outputs": [
    {
     "data": {
      "text/plain": [
       "[1, 2, 3, 4]"
      ]
     },
     "execution_count": 73,
     "metadata": {},
     "output_type": "execute_result"
    }
   ],
   "source": [
    "a ##a자체가 변화함"
   ]
  },
  {
   "cell_type": "markdown",
   "id": "afa23df2-ec39-489b-93e3-4fa054fd3046",
   "metadata": {},
   "source": [
    "`a.append(4)` :  `a`에 4를 append하라 -> `a`가 변함\n",
    "\n",
    "`a+[4]`: `a`와 4를 연산하라"
   ]
  },
  {
   "cell_type": "markdown",
   "id": "5050a6b7-2876-4020-9557-710cb601b9ef",
   "metadata": {},
   "source": [
    "### 메소드 (리스트 자료형에 특화된 특수한 함수들)"
   ]
  },
  {
   "cell_type": "markdown",
   "id": "b6949fff-660c-45d7-95ed-1b850706ac90",
   "metadata": {},
   "source": [
    "**(append)**"
   ]
  },
  {
   "cell_type": "code",
   "execution_count": 77,
   "id": "9c76a71a-e8d3-4885-a512-ee6d20f1d1b0",
   "metadata": {},
   "outputs": [
    {
     "data": {
      "text/plain": [
       "\u001b[0;31mSignature:\u001b[0m \u001b[0ma\u001b[0m\u001b[0;34m.\u001b[0m\u001b[0mappend\u001b[0m\u001b[0;34m(\u001b[0m\u001b[0mobject\u001b[0m\u001b[0;34m,\u001b[0m \u001b[0;34m/\u001b[0m\u001b[0;34m)\u001b[0m\u001b[0;34m\u001b[0m\u001b[0;34m\u001b[0m\u001b[0m\n",
       "\u001b[0;31mDocstring:\u001b[0m Append object to the end of the list.\n",
       "\u001b[0;31mType:\u001b[0m      builtin_function_or_method\n"
      ]
     },
     "metadata": {},
     "output_type": "display_data"
    }
   ],
   "source": [
    "a=[1,2,3,4]\n",
    "a.append?"
   ]
  },
  {
   "cell_type": "code",
   "execution_count": 78,
   "id": "2971a867-9834-44e6-b250-003debd83a9b",
   "metadata": {},
   "outputs": [
    {
     "data": {
      "text/plain": [
       "[1, 2, 3, 4, 5]"
      ]
     },
     "execution_count": 78,
     "metadata": {},
     "output_type": "execute_result"
    }
   ],
   "source": [
    "a.append(5)\n",
    "a"
   ]
  },
  {
   "cell_type": "markdown",
   "id": "39185b92-b42b-4c3e-9657-70f271ab3a5f",
   "metadata": {},
   "source": [
    "**(clear)**"
   ]
  },
  {
   "cell_type": "code",
   "execution_count": 79,
   "id": "941a9758-b0c6-4841-a5a9-96873575e37a",
   "metadata": {},
   "outputs": [
    {
     "data": {
      "text/plain": [
       "\u001b[0;31mSignature:\u001b[0m \u001b[0ma\u001b[0m\u001b[0;34m.\u001b[0m\u001b[0mclear\u001b[0m\u001b[0;34m(\u001b[0m\u001b[0;34m)\u001b[0m\u001b[0;34m\u001b[0m\u001b[0;34m\u001b[0m\u001b[0m\n",
       "\u001b[0;31mDocstring:\u001b[0m Remove all items from list.\n",
       "\u001b[0;31mType:\u001b[0m      builtin_function_or_method\n"
      ]
     },
     "metadata": {},
     "output_type": "display_data"
    }
   ],
   "source": [
    "a.clear?"
   ]
  },
  {
   "cell_type": "code",
   "execution_count": 80,
   "id": "3b959d89-a689-4238-be05-53e61fa019f7",
   "metadata": {},
   "outputs": [
    {
     "data": {
      "text/plain": [
       "[]"
      ]
     },
     "execution_count": 80,
     "metadata": {},
     "output_type": "execute_result"
    }
   ],
   "source": [
    "a.clear()\n",
    "a"
   ]
  },
  {
   "cell_type": "markdown",
   "id": "64850b70-ce09-45a2-ba6d-320ef3a16dba",
   "metadata": {},
   "source": [
    "**(count)**"
   ]
  },
  {
   "cell_type": "code",
   "execution_count": 81,
   "id": "5a0a0595-3af5-48e0-99f2-25c4093c0895",
   "metadata": {},
   "outputs": [
    {
     "data": {
      "text/plain": [
       "\u001b[0;31mSignature:\u001b[0m \u001b[0ma\u001b[0m\u001b[0;34m.\u001b[0m\u001b[0mcount\u001b[0m\u001b[0;34m(\u001b[0m\u001b[0mvalue\u001b[0m\u001b[0;34m,\u001b[0m \u001b[0;34m/\u001b[0m\u001b[0;34m)\u001b[0m\u001b[0;34m\u001b[0m\u001b[0;34m\u001b[0m\u001b[0m\n",
       "\u001b[0;31mDocstring:\u001b[0m Return number of occurrences of value.\n",
       "\u001b[0;31mType:\u001b[0m      builtin_function_or_method\n"
      ]
     },
     "metadata": {},
     "output_type": "display_data"
    }
   ],
   "source": [
    "a=[1,1,1,1,2,3,2,3,4,3,4,4]\n",
    "a.count?"
   ]
  },
  {
   "cell_type": "code",
   "execution_count": 82,
   "id": "9344ee4f-5f36-4100-8869-c07dcf72fbde",
   "metadata": {},
   "outputs": [
    {
     "data": {
      "text/plain": [
       "4"
      ]
     },
     "execution_count": 82,
     "metadata": {},
     "output_type": "execute_result"
    }
   ],
   "source": [
    "a.count(1)"
   ]
  },
  {
   "cell_type": "code",
   "execution_count": 83,
   "id": "4a135995-d2dd-4876-afbf-ce8611b94ec2",
   "metadata": {},
   "outputs": [
    {
     "data": {
      "text/plain": [
       "2"
      ]
     },
     "execution_count": 83,
     "metadata": {},
     "output_type": "execute_result"
    }
   ],
   "source": [
    "a.count(2)"
   ]
  },
  {
   "cell_type": "code",
   "execution_count": 84,
   "id": "69c03886-88ad-483f-93db-3cd3df667618",
   "metadata": {},
   "outputs": [
    {
     "data": {
      "text/plain": [
       "3"
      ]
     },
     "execution_count": 84,
     "metadata": {},
     "output_type": "execute_result"
    }
   ],
   "source": [
    "a.count(3)"
   ]
  },
  {
   "cell_type": "code",
   "execution_count": 85,
   "id": "594e95ea-1525-458f-a898-6297de8ff00d",
   "metadata": {},
   "outputs": [
    {
     "data": {
      "text/plain": [
       "3"
      ]
     },
     "execution_count": 85,
     "metadata": {},
     "output_type": "execute_result"
    }
   ],
   "source": [
    "a.count(4)"
   ]
  },
  {
   "cell_type": "markdown",
   "id": "ceb5ddbd-293d-41a1-bc3f-7979b3bb10e8",
   "metadata": {},
   "source": [
    "**(extend)**"
   ]
  },
  {
   "cell_type": "code",
   "execution_count": 94,
   "id": "fdbf7d41-386f-4c6c-af9e-066492c4bc26",
   "metadata": {},
   "outputs": [],
   "source": [
    "a=[1,2,3,4]\n",
    "b=[-1,-2,-3,-4]"
   ]
  },
  {
   "cell_type": "code",
   "execution_count": 95,
   "id": "ccb66d54-4e11-45c4-aeeb-87dd0ba8fa69",
   "metadata": {},
   "outputs": [
    {
     "data": {
      "text/plain": [
       "[1, 2, 3, 4, -1, -2, -3, -4]"
      ]
     },
     "execution_count": 95,
     "metadata": {},
     "output_type": "execute_result"
    }
   ],
   "source": [
    "a.extend(b) #extend는 원소들이 자체적으로 추가\n",
    "a"
   ]
  },
  {
   "cell_type": "code",
   "execution_count": 96,
   "id": "8543c499-3fc5-4605-8f42-cf063ba795d9",
   "metadata": {},
   "outputs": [
    {
     "data": {
      "text/plain": [
       "[1, 2, 3, 4, -1, -2, -3, -4, [-1, -2, -3, -4]]"
      ]
     },
     "execution_count": 96,
     "metadata": {},
     "output_type": "execute_result"
    }
   ],
   "source": [
    "a.append(b) #append는 b의 형태변환없이 그 자체가 추가\n",
    "a"
   ]
  },
  {
   "cell_type": "markdown",
   "id": "cf019819-7196-490f-ba42-9261aff1a578",
   "metadata": {},
   "source": [
    "**(index)**"
   ]
  },
  {
   "cell_type": "code",
   "execution_count": 97,
   "id": "211edab5-9ff0-4056-acfb-25f2322f230e",
   "metadata": {},
   "outputs": [
    {
     "data": {
      "text/plain": [
       "\u001b[0;31mSignature:\u001b[0m \u001b[0ma\u001b[0m\u001b[0;34m.\u001b[0m\u001b[0mindex\u001b[0m\u001b[0;34m(\u001b[0m\u001b[0mvalue\u001b[0m\u001b[0;34m,\u001b[0m \u001b[0mstart\u001b[0m\u001b[0;34m=\u001b[0m\u001b[0;36m0\u001b[0m\u001b[0;34m,\u001b[0m \u001b[0mstop\u001b[0m\u001b[0;34m=\u001b[0m\u001b[0;36m9223372036854775807\u001b[0m\u001b[0;34m,\u001b[0m \u001b[0;34m/\u001b[0m\u001b[0;34m)\u001b[0m\u001b[0;34m\u001b[0m\u001b[0;34m\u001b[0m\u001b[0m\n",
       "\u001b[0;31mDocstring:\u001b[0m\n",
       "Return first index of value.\n",
       "\n",
       "Raises ValueError if the value is not present.\n",
       "\u001b[0;31mType:\u001b[0m      builtin_function_or_method\n"
      ]
     },
     "metadata": {},
     "output_type": "display_data"
    }
   ],
   "source": [
    "a=[11,22,True,'a',22,'a']\n",
    "a.index?"
   ]
  },
  {
   "cell_type": "code",
   "execution_count": 98,
   "id": "381fe3b5-10b4-43af-95fe-594fd7ddcc91",
   "metadata": {},
   "outputs": [
    {
     "data": {
      "text/plain": [
       "0"
      ]
     },
     "execution_count": 98,
     "metadata": {},
     "output_type": "execute_result"
    }
   ],
   "source": [
    "a.index(11)"
   ]
  },
  {
   "cell_type": "code",
   "execution_count": 99,
   "id": "da9c5f9e-415f-4c91-9a97-be80cbaa644b",
   "metadata": {},
   "outputs": [
    {
     "data": {
      "text/plain": [
       "1"
      ]
     },
     "execution_count": 99,
     "metadata": {},
     "output_type": "execute_result"
    }
   ],
   "source": [
    "a.index(22)"
   ]
  },
  {
   "cell_type": "code",
   "execution_count": 100,
   "id": "105aaae5-99b9-466a-b9dd-6b7b3eb3c961",
   "metadata": {},
   "outputs": [
    {
     "data": {
      "text/plain": [
       "3"
      ]
     },
     "execution_count": 100,
     "metadata": {},
     "output_type": "execute_result"
    }
   ],
   "source": [
    "a.index('a')"
   ]
  },
  {
   "cell_type": "markdown",
   "id": "7f052368-9ced-499b-9c03-f08cc5505e31",
   "metadata": {},
   "source": [
    "**(insert)**"
   ]
  },
  {
   "cell_type": "code",
   "execution_count": 101,
   "id": "32401018-cfb1-4be6-b039-d2427df3d2fe",
   "metadata": {},
   "outputs": [
    {
     "data": {
      "text/plain": [
       "\u001b[0;31mSignature:\u001b[0m \u001b[0ma\u001b[0m\u001b[0;34m.\u001b[0m\u001b[0minsert\u001b[0m\u001b[0;34m(\u001b[0m\u001b[0mindex\u001b[0m\u001b[0;34m,\u001b[0m \u001b[0mobject\u001b[0m\u001b[0;34m,\u001b[0m \u001b[0;34m/\u001b[0m\u001b[0;34m)\u001b[0m\u001b[0;34m\u001b[0m\u001b[0;34m\u001b[0m\u001b[0m\n",
       "\u001b[0;31mDocstring:\u001b[0m Insert object before index.\n",
       "\u001b[0;31mType:\u001b[0m      builtin_function_or_method\n"
      ]
     },
     "metadata": {},
     "output_type": "display_data"
    }
   ],
   "source": [
    "a=[1,2,3]\n",
    "a.insert?"
   ]
  },
  {
   "cell_type": "code",
   "execution_count": 102,
   "id": "e60e1e0a-ab85-430e-94c4-d5e5f24da3b3",
   "metadata": {},
   "outputs": [
    {
     "data": {
      "text/plain": [
       "[1, 77, 2, 3]"
      ]
     },
     "execution_count": 102,
     "metadata": {},
     "output_type": "execute_result"
    }
   ],
   "source": [
    "a.insert(1,77)\n",
    "a"
   ]
  },
  {
   "cell_type": "markdown",
   "id": "b8a0a550-e4e8-4773-8af7-442ff030a5b6",
   "metadata": {},
   "source": [
    "**(pop)**"
   ]
  },
  {
   "cell_type": "code",
   "execution_count": 104,
   "id": "6e2bafaa-691a-49c2-b433-c5ee46a9179d",
   "metadata": {},
   "outputs": [
    {
     "data": {
      "text/plain": [
       "\u001b[0;31mSignature:\u001b[0m \u001b[0ma\u001b[0m\u001b[0;34m.\u001b[0m\u001b[0mpop\u001b[0m\u001b[0;34m(\u001b[0m\u001b[0mindex\u001b[0m\u001b[0;34m=\u001b[0m\u001b[0;34m-\u001b[0m\u001b[0;36m1\u001b[0m\u001b[0;34m,\u001b[0m \u001b[0;34m/\u001b[0m\u001b[0;34m)\u001b[0m\u001b[0;34m\u001b[0m\u001b[0;34m\u001b[0m\u001b[0m\n",
       "\u001b[0;31mDocstring:\u001b[0m\n",
       "Remove and return item at index (default last).\n",
       "\n",
       "Raises IndexError if list is empty or index is out of range.\n",
       "\u001b[0;31mType:\u001b[0m      builtin_function_or_method\n"
      ]
     },
     "metadata": {},
     "output_type": "display_data"
    }
   ],
   "source": [
    "a=['a',1,2,'b']\n",
    "a.pop?"
   ]
  },
  {
   "cell_type": "code",
   "execution_count": 105,
   "id": "5a952777-ca18-4bd0-a39b-9bc72aaa2e98",
   "metadata": {},
   "outputs": [
    {
     "data": {
      "text/plain": [
       "'b'"
      ]
     },
     "execution_count": 105,
     "metadata": {},
     "output_type": "execute_result"
    }
   ],
   "source": [
    "a.pop()"
   ]
  },
  {
   "cell_type": "code",
   "execution_count": 106,
   "id": "e63b8878-e956-4f69-bbf3-d948c77b8ec7",
   "metadata": {},
   "outputs": [
    {
     "data": {
      "text/plain": [
       "['a', 1, 2]"
      ]
     },
     "execution_count": 106,
     "metadata": {},
     "output_type": "execute_result"
    }
   ],
   "source": [
    "a"
   ]
  },
  {
   "cell_type": "code",
   "execution_count": 107,
   "id": "da778e1d-56e2-4b20-941f-362bb985541c",
   "metadata": {},
   "outputs": [
    {
     "data": {
      "text/plain": [
       "'a'"
      ]
     },
     "execution_count": 107,
     "metadata": {},
     "output_type": "execute_result"
    }
   ],
   "source": [
    "a.pop(0)"
   ]
  },
  {
   "cell_type": "code",
   "execution_count": 108,
   "id": "36deab95-e398-46ca-bea0-c02325042ddb",
   "metadata": {},
   "outputs": [
    {
     "data": {
      "text/plain": [
       "[1, 2]"
      ]
     },
     "execution_count": 108,
     "metadata": {},
     "output_type": "execute_result"
    }
   ],
   "source": [
    "a"
   ]
  },
  {
   "cell_type": "markdown",
   "id": "d549a33e-eb6c-4d99-b14f-c38e82a0d988",
   "metadata": {},
   "source": [
    "**(remove)**"
   ]
  },
  {
   "cell_type": "code",
   "execution_count": 109,
   "id": "c73829b2-ae34-4559-90cd-a3c84265fadd",
   "metadata": {},
   "outputs": [
    {
     "data": {
      "text/plain": [
       "\u001b[0;31mSignature:\u001b[0m \u001b[0ma\u001b[0m\u001b[0;34m.\u001b[0m\u001b[0mremove\u001b[0m\u001b[0;34m(\u001b[0m\u001b[0mvalue\u001b[0m\u001b[0;34m,\u001b[0m \u001b[0;34m/\u001b[0m\u001b[0;34m)\u001b[0m\u001b[0;34m\u001b[0m\u001b[0;34m\u001b[0m\u001b[0m\n",
       "\u001b[0;31mDocstring:\u001b[0m\n",
       "Remove first occurrence of value.\n",
       "\n",
       "Raises ValueError if the value is not present.\n",
       "\u001b[0;31mType:\u001b[0m      builtin_function_or_method\n"
      ]
     },
     "metadata": {},
     "output_type": "display_data"
    }
   ],
   "source": [
    "a=['a',1,2,'b']\n",
    "a.remove?"
   ]
  },
  {
   "cell_type": "code",
   "execution_count": 110,
   "id": "0bbc6aa5-4378-495f-80cd-40c93d3a6cbb",
   "metadata": {},
   "outputs": [],
   "source": [
    "a.remove('b')"
   ]
  },
  {
   "cell_type": "code",
   "execution_count": 111,
   "id": "ca854889-4742-4ece-b651-6325314ae466",
   "metadata": {},
   "outputs": [
    {
     "data": {
      "text/plain": [
       "['a', 1, 2]"
      ]
     },
     "execution_count": 111,
     "metadata": {},
     "output_type": "execute_result"
    }
   ],
   "source": [
    "a"
   ]
  },
  {
   "cell_type": "markdown",
   "id": "22844173-efab-48eb-b529-103dfbfa52cc",
   "metadata": {},
   "source": [
    "**(reverse)**"
   ]
  },
  {
   "cell_type": "code",
   "execution_count": 114,
   "id": "88bfbb33-d544-48a2-beaa-c806a57214f0",
   "metadata": {},
   "outputs": [
    {
     "data": {
      "text/plain": [
       "\u001b[0;31mSignature:\u001b[0m \u001b[0ma\u001b[0m\u001b[0;34m.\u001b[0m\u001b[0mreverse\u001b[0m\u001b[0;34m(\u001b[0m\u001b[0;34m)\u001b[0m\u001b[0;34m\u001b[0m\u001b[0;34m\u001b[0m\u001b[0m\n",
       "\u001b[0;31mDocstring:\u001b[0m Reverse *IN PLACE*.\n",
       "\u001b[0;31mType:\u001b[0m      builtin_function_or_method\n"
      ]
     },
     "metadata": {},
     "output_type": "display_data"
    }
   ],
   "source": [
    "a=[1,2,3,4]\n",
    "a.reverse?"
   ]
  },
  {
   "cell_type": "code",
   "execution_count": 115,
   "id": "3d225c7c-9b9f-4f14-9700-485a45f5a7b7",
   "metadata": {},
   "outputs": [
    {
     "data": {
      "text/plain": [
       "[4, 3, 2, 1]"
      ]
     },
     "execution_count": 115,
     "metadata": {},
     "output_type": "execute_result"
    }
   ],
   "source": [
    "a.reverse()\n",
    "a"
   ]
  },
  {
   "cell_type": "markdown",
   "id": "5e52ad11-d06c-4e94-9361-9c9e7bd661bc",
   "metadata": {},
   "source": [
    "**(sort)**"
   ]
  },
  {
   "cell_type": "code",
   "execution_count": 116,
   "id": "c422f49b-facc-4dad-8f56-37f210523bfb",
   "metadata": {},
   "outputs": [
    {
     "data": {
      "text/plain": [
       "\u001b[0;31mSignature:\u001b[0m \u001b[0ma\u001b[0m\u001b[0;34m.\u001b[0m\u001b[0msort\u001b[0m\u001b[0;34m(\u001b[0m\u001b[0;34m*\u001b[0m\u001b[0;34m,\u001b[0m \u001b[0mkey\u001b[0m\u001b[0;34m=\u001b[0m\u001b[0;32mNone\u001b[0m\u001b[0;34m,\u001b[0m \u001b[0mreverse\u001b[0m\u001b[0;34m=\u001b[0m\u001b[0;32mFalse\u001b[0m\u001b[0;34m)\u001b[0m\u001b[0;34m\u001b[0m\u001b[0;34m\u001b[0m\u001b[0m\n",
       "\u001b[0;31mDocstring:\u001b[0m\n",
       "Sort the list in ascending order and return None.\n",
       "\n",
       "The sort is in-place (i.e. the list itself is modified) and stable (i.e. the\n",
       "order of two equal elements is maintained).\n",
       "\n",
       "If a key function is given, apply it once to each list item and sort them,\n",
       "ascending or descending, according to their function values.\n",
       "\n",
       "The reverse flag can be set to sort in descending order.\n",
       "\u001b[0;31mType:\u001b[0m      builtin_function_or_method\n"
      ]
     },
     "metadata": {},
     "output_type": "display_data"
    }
   ],
   "source": [
    "a=[1,3,2,4]\n",
    "a.sort?"
   ]
  },
  {
   "cell_type": "code",
   "execution_count": 117,
   "id": "78783c1e-bab9-4865-9df8-4a533a399432",
   "metadata": {},
   "outputs": [
    {
     "data": {
      "text/plain": [
       "[1, 2, 3, 4]"
      ]
     },
     "execution_count": 117,
     "metadata": {},
     "output_type": "execute_result"
    }
   ],
   "source": [
    "a.sort()\n",
    "a"
   ]
  },
  {
   "cell_type": "markdown",
   "id": "bf763a81-594b-4713-b318-ee3d46e1f2d8",
   "metadata": {},
   "source": [
    "### 중첩리스트"
   ]
  },
  {
   "cell_type": "code",
   "execution_count": 118,
   "id": "7e7e76f3-4315-44de-8f13-dedb7027fde3",
   "metadata": {},
   "outputs": [
    {
     "data": {
      "text/plain": [
       "[[1, 2, 3], [4, 5, 6], [7, 8, 9]]"
      ]
     },
     "execution_count": 118,
     "metadata": {},
     "output_type": "execute_result"
    }
   ],
   "source": [
    "A=[[1,2,3],[4,5,6],[7,8,9]]\n",
    "A"
   ]
  },
  {
   "cell_type": "markdown",
   "id": "5764d855-4fae-41a5-9e38-4a5e61088509",
   "metadata": {},
   "source": [
    "A는 매트릭스 형태라고 이해할 수 있다."
   ]
  },
  {
   "cell_type": "markdown",
   "id": "5fb1b6bb-7d5d-45bb-9d40-bb93d20758e5",
   "metadata": {},
   "source": [
    "A에서 (2,1)의 원소 =4 를 뽑고 싶다"
   ]
  },
  {
   "cell_type": "code",
   "execution_count": 119,
   "id": "97102e74-27ac-4df4-b05c-3444495b9571",
   "metadata": {},
   "outputs": [
    {
     "ename": "TypeError",
     "evalue": "list indices must be integers or slices, not tuple",
     "output_type": "error",
     "traceback": [
      "\u001b[0;31m---------------------------------------------------------------------------\u001b[0m",
      "\u001b[0;31mTypeError\u001b[0m                                 Traceback (most recent call last)",
      "Input \u001b[0;32mIn [119]\u001b[0m, in \u001b[0;36m<cell line: 1>\u001b[0;34m()\u001b[0m\n\u001b[0;32m----> 1\u001b[0m \u001b[43mA\u001b[49m\u001b[43m[\u001b[49m\u001b[38;5;241;43m1\u001b[39;49m\u001b[43m,\u001b[49m\u001b[38;5;241;43m0\u001b[39;49m\u001b[43m]\u001b[49m\n",
      "\u001b[0;31mTypeError\u001b[0m: list indices must be integers or slices, not tuple"
     ]
    }
   ],
   "source": [
    "A[1,0]"
   ]
  },
  {
   "cell_type": "code",
   "execution_count": 120,
   "id": "54f2a1b6-4c5f-452b-a6f4-7199afd23423",
   "metadata": {},
   "outputs": [
    {
     "data": {
      "text/plain": [
       "4"
      ]
     },
     "execution_count": 120,
     "metadata": {},
     "output_type": "execute_result"
    }
   ],
   "source": [
    "A[1][0]"
   ]
  },
  {
   "cell_type": "markdown",
   "id": "bb90a68b-6265-4a9c-a3c5-6e692d60b595",
   "metadata": {},
   "source": [
    "`-` 매트릭스는 아니지만, 매트릭스 같음!\n",
    "- 1차원 배열을 다차원 배열로 확장할 수 있는 기본 아이디어를 제공함"
   ]
  },
  {
   "cell_type": "markdown",
   "id": "64d4b2fb-2487-4a4b-bad0-c4429655d1be",
   "metadata": {},
   "source": [
    "#### 리스트 컴프리헨션 ($\\star\\star\\star\\$)"
   ]
  },
  {
   "cell_type": "markdown",
   "id": "7f4bb684-beee-489d-ac3f-675e71cc7bd3",
   "metadata": {},
   "source": [
    "`-` `for`문 예비학습"
   ]
  },
  {
   "cell_type": "markdown",
   "id": "f9be69e4-a2b1-45c7-938f-7f59d1b5799c",
   "metadata": {},
   "source": [
    "프로그램안에서 반복해서 무언가를 하고 싶을 경우 $\\to\\$ for"
   ]
  },
  {
   "cell_type": "code",
   "execution_count": 121,
   "id": "739b2612-867e-4195-90c1-a99681342c4c",
   "metadata": {},
   "outputs": [
    {
     "name": "stdout",
     "output_type": "stream",
     "text": [
      "0\n",
      "1\n",
      "2\n",
      "3\n"
     ]
    }
   ],
   "source": [
    "for i in [0,1,2,3]: ## 반복실행계획\n",
    "    print(i) ## 반복실행할내용, 탭을이용해 들여쓰기"
   ]
  },
  {
   "cell_type": "markdown",
   "id": "26223669-4baa-40fb-9635-c99bc9e4503c",
   "metadata": {},
   "source": [
    "`-` 예제 : $2^0,2^1,2^2,2^3$ 을 원소로 가지는 리스트 생성"
   ]
  },
  {
   "cell_type": "markdown",
   "id": "ddd7f736-ebcf-4e0e-8cd9-7558c47daa8b",
   "metadata": {},
   "source": [
    "(풀이1) 직접입력"
   ]
  },
  {
   "cell_type": "code",
   "execution_count": 123,
   "id": "fcda35aa-7d84-4f11-ab31-7288d4bdf732",
   "metadata": {},
   "outputs": [
    {
     "data": {
      "text/plain": [
       "[1, 2, 4, 8]"
      ]
     },
     "execution_count": 123,
     "metadata": {},
     "output_type": "execute_result"
    }
   ],
   "source": [
    "x=[2**0,2**1,2**2,2**3]\n",
    "x"
   ]
  },
  {
   "cell_type": "markdown",
   "id": "f80f72ab-a22c-401a-ab92-e59d326dd01e",
   "metadata": {},
   "source": [
    "(풀이2) for문을 이용"
   ]
  },
  {
   "cell_type": "code",
   "execution_count": 124,
   "id": "56702f5a-2133-4dfd-a36d-f047f49a1f5b",
   "metadata": {},
   "outputs": [],
   "source": [
    "x=[]\n",
    "for i in [0,1,2,3]:\n",
    "    x.append(2**i)"
   ]
  },
  {
   "cell_type": "code",
   "execution_count": 125,
   "id": "6d327286-f08d-4085-a0b2-cf1b309e60ae",
   "metadata": {},
   "outputs": [
    {
     "data": {
      "text/plain": [
       "[1, 2, 4, 8]"
      ]
     },
     "execution_count": 125,
     "metadata": {},
     "output_type": "execute_result"
    }
   ],
   "source": [
    "x"
   ]
  },
  {
   "cell_type": "markdown",
   "id": "adb94d26-9a02-472a-96b2-b5dd44020873",
   "metadata": {},
   "source": [
    "(풀이3) for문을 이용"
   ]
  },
  {
   "cell_type": "code",
   "execution_count": 126,
   "id": "5c433c90-d1ed-4cbb-9a61-472bcfac3373",
   "metadata": {},
   "outputs": [],
   "source": [
    "x=[]\n",
    "for i in [0,1,2,3]:\n",
    "    x+=[2**i]"
   ]
  },
  {
   "cell_type": "code",
   "execution_count": 127,
   "id": "01d87539-ee76-44c5-b93e-b12f9523bea7",
   "metadata": {},
   "outputs": [
    {
     "data": {
      "text/plain": [
       "[1, 2, 4, 8]"
      ]
     },
     "execution_count": 127,
     "metadata": {},
     "output_type": "execute_result"
    }
   ],
   "source": [
    "x"
   ]
  },
  {
   "cell_type": "markdown",
   "id": "7f623b3c-dd26-482d-87e8-e2efa716abfd",
   "metadata": {},
   "source": [
    "(풀이4) 리스트컴프리헨션을 이용"
   ]
  },
  {
   "cell_type": "code",
   "execution_count": 128,
   "id": "dfc92faf-1d19-41f0-8b8e-a62e47ba6180",
   "metadata": {},
   "outputs": [
    {
     "data": {
      "text/plain": [
       "[1, 2, 4, 8]"
      ]
     },
     "execution_count": 128,
     "metadata": {},
     "output_type": "execute_result"
    }
   ],
   "source": [
    "x=[2**i for i in [0,1,2,3]]\n",
    "x"
   ]
  },
  {
   "cell_type": "markdown",
   "id": "18d6f454-8dda-4d0c-8170-552ddce34a97",
   "metadata": {},
   "source": [
    "`-` 리스트컴프리헨션의 문법 암기방법\n",
    "- 집합에서 조건제시법을 연상"
   ]
  },
  {
   "cell_type": "markdown",
   "id": "a46a44e9-31da-4b04-a48d-cb744f756a4a",
   "metadata": {},
   "source": [
    "`-` 리스트컴프리헨션이란?\n",
    "- 리스트를 매우 효율적으로 만드는 테크닉\n",
    "- for문에 비해 좋은 점: (1) 코드가 간결 (2) 빠름"
   ]
  },
  {
   "cell_type": "markdown",
   "id": "04a9c080-aae0-4422-ab07-a3c4f1d5ebb6",
   "metadata": {},
   "source": [
    "`-` 예제: 리스트컴프리헨션을 이용해 통계1,통계2, ....., 수학4,수학5를 만들기"
   ]
  },
  {
   "cell_type": "markdown",
   "id": "04acace1-5cda-464e-b5fb-5d1d986eb26e",
   "metadata": {},
   "source": [
    "(풀이)"
   ]
  },
  {
   "cell_type": "code",
   "execution_count": 129,
   "id": "ef781b90-279b-4d00-88c9-a881bd38941a",
   "metadata": {},
   "outputs": [
    {
     "data": {
      "text/plain": [
       "['stat1',\n",
       " 'stat2',\n",
       " 'stat3',\n",
       " 'stat4',\n",
       " 'stat5',\n",
       " 'math1',\n",
       " 'math2',\n",
       " 'math3',\n",
       " 'math4',\n",
       " 'math5']"
      ]
     },
     "execution_count": 129,
     "metadata": {},
     "output_type": "execute_result"
    }
   ],
   "source": [
    "[x+y for x in ['stat','math'] for y in '12345']"
   ]
  },
  {
   "cell_type": "markdown",
   "id": "337be8bf-c53d-4c8a-a675-ed4ee8267bea",
   "metadata": {},
   "source": [
    "- $\\{xy : x \\in \\{stat,math\\}, y \\in \\{1,2,3,4,5\\} \\}$ "
   ]
  },
  {
   "cell_type": "markdown",
   "id": "a55995ca-1521-4423-a8fc-5137a3334a02",
   "metadata": {},
   "source": [
    "`-` x에 무엇이 들어 있을까?? / 전역변수, 지역변수/"
   ]
  },
  {
   "cell_type": "markdown",
   "id": "79cc6545-bc20-4b8c-b19b-0fbc593feeff",
   "metadata": {},
   "source": [
    "(경우1)"
   ]
  },
  {
   "cell_type": "code",
   "execution_count": 130,
   "id": "a3970d56-ad4e-4c52-bfdf-9eaca175a3f2",
   "metadata": {},
   "outputs": [
    {
     "data": {
      "text/plain": [
       "['j', 'b', 'n', 'u']"
      ]
     },
     "execution_count": 130,
     "metadata": {},
     "output_type": "execute_result"
    }
   ],
   "source": [
    "x=1\n",
    "lst=[]\n",
    "for x in 'jbnu':\n",
    "    lst=lst+[x]\n",
    "lst"
   ]
  },
  {
   "cell_type": "code",
   "execution_count": 132,
   "id": "1ba2fa7a-706e-4578-9692-9d32795c653b",
   "metadata": {},
   "outputs": [
    {
     "data": {
      "text/plain": [
       "'u'"
      ]
     },
     "execution_count": 132,
     "metadata": {},
     "output_type": "execute_result"
    }
   ],
   "source": [
    "x #for문에서 반복되고 마지막 원소인 u가 들어가 있음."
   ]
  },
  {
   "cell_type": "markdown",
   "id": "b120d156-8a65-4bc5-9221-2639a6492a56",
   "metadata": {},
   "source": [
    "(경우2)"
   ]
  },
  {
   "cell_type": "code",
   "execution_count": 134,
   "id": "235d05fa-b8e7-4710-8923-ae8c6fdaca4d",
   "metadata": {},
   "outputs": [
    {
     "data": {
      "text/plain": [
       "['j', 'b', 'n', 'u']"
      ]
     },
     "execution_count": 134,
     "metadata": {},
     "output_type": "execute_result"
    }
   ],
   "source": [
    "x=1\n",
    "lst =[x for x in 'jbnu']\n",
    "lst"
   ]
  },
  {
   "cell_type": "code",
   "execution_count": 135,
   "id": "0456ab09-5547-4cdd-8ab4-3fb61df2f896",
   "metadata": {},
   "outputs": [
    {
     "data": {
      "text/plain": [
       "1"
      ]
     },
     "execution_count": 135,
     "metadata": {},
     "output_type": "execute_result"
    }
   ],
   "source": [
    "x"
   ]
  },
  {
   "cell_type": "markdown",
   "id": "b3ec326d-7cac-422f-8913-4ab7bef72951",
   "metadata": {},
   "source": [
    "`-` 예비학습 : range()"
   ]
  },
  {
   "cell_type": "code",
   "execution_count": 136,
   "id": "624fcf2a-ec6c-481d-9fb3-5844dac162e8",
   "metadata": {},
   "outputs": [
    {
     "data": {
      "text/plain": [
       "[0, 1, 2, 3, 4, 5, 6, 7, 8, 9]"
      ]
     },
     "execution_count": 136,
     "metadata": {},
     "output_type": "execute_result"
    }
   ],
   "source": [
    "list(range(0,10))"
   ]
  },
  {
   "cell_type": "code",
   "execution_count": 137,
   "id": "21939383-f6b9-4603-8826-4eebfbe078d3",
   "metadata": {},
   "outputs": [
    {
     "data": {
      "text/plain": [
       "[1, 3, 5, 7, 9]"
      ]
     },
     "execution_count": 137,
     "metadata": {},
     "output_type": "execute_result"
    }
   ],
   "source": [
    "list(range(1,10,2))"
   ]
  },
  {
   "cell_type": "code",
   "execution_count": 138,
   "id": "e10c03e7-9952-4d43-8eb7-17d8e96541b2",
   "metadata": {},
   "outputs": [
    {
     "data": {
      "text/plain": [
       "['X1', 'X2', 'X3', 'X4', 'X5', 'X6', 'X7', 'X8', 'X9']"
      ]
     },
     "execution_count": 138,
     "metadata": {},
     "output_type": "execute_result"
    }
   ],
   "source": [
    "['X'+str(i) for i in range(1,10)]"
   ]
  },
  {
   "cell_type": "code",
   "execution_count": null,
   "id": "9dd53775-6645-43a7-953a-815b75f5ab58",
   "metadata": {},
   "outputs": [],
   "source": []
  }
 ],
 "metadata": {
  "kernelspec": {
   "display_name": "Python 3 (ipykernel)",
   "language": "python",
   "name": "python3"
  },
  "language_info": {
   "codemirror_mode": {
    "name": "ipython",
    "version": 3
   },
   "file_extension": ".py",
   "mimetype": "text/x-python",
   "name": "python",
   "nbconvert_exporter": "python",
   "pygments_lexer": "ipython3",
   "version": "3.9.7"
  }
 },
 "nbformat": 4,
 "nbformat_minor": 5
}
