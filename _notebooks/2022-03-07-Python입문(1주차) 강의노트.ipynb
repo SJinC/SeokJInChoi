{
 "cells": [
  {
   "cell_type": "markdown",
   "id": "bf426ec9-b1dc-4fcc-b9a0-a481a2647f50",
   "metadata": {
    "id": "bf426ec9-b1dc-4fcc-b9a0-a481a2647f50"
   },
   "source": [
    "# Python 1주차 \n",
    "\n",
    "> 2022-03-07\n",
    "\n",
    "> int, float, bool, str 자료형\n",
    "\n",
    "- toc:true\n",
    "- branch: master\n",
    "- badges: true\n",
    "- comments: true\n",
    "- author: 최석진\n",
    "- categories: [python]"
   ]
  },
  {
   "cell_type": "markdown",
   "id": "f0932437-78aa-49bc-a866-7db41d6dd0c2",
   "metadata": {
    "id": "f0932437-78aa-49bc-a866-7db41d6dd0c2"
   },
   "source": [
    "`-` (1) 0차원자료형: int, float, bool, 명시적형변환\n",
    "\n",
    "`-` (2) 0차원자료형: 암묵적형변환 \n",
    "\n",
    "`-` (3) string 1 \n",
    "\n",
    "`-` (4) string 2 \n",
    "\n",
    "`-` (5) 숙제설명, 코랩설명 "
   ]
  },
  {
   "cell_type": "markdown",
   "id": "b9327d03-e672-4177-a969-d7527e9488c3",
   "metadata": {
    "id": "b9327d03-e672-4177-a969-d7527e9488c3"
   },
   "source": [
    "### 파이썬 교재"
   ]
  },
  {
   "cell_type": "markdown",
   "id": "f5d0348d-fc6a-4e8c-bc4a-0d3dcae8e2f5",
   "metadata": {
    "id": "f5d0348d-fc6a-4e8c-bc4a-0d3dcae8e2f5"
   },
   "source": [
    "`-` 전자교재\n",
    "\n",
    "- https://docs.python.org/3.9/tutorial/index.html\n",
    "- https://wikidocs.net/book/1\n",
    "- https://jakevdp.github.io/PythonDataScienceHandbook/"
   ]
  },
  {
   "cell_type": "markdown",
   "id": "4a9f3bec-a50c-4144-a966-d0783fd7ddc9",
   "metadata": {
    "id": "4a9f3bec-a50c-4144-a966-d0783fd7ddc9"
   },
   "source": [
    "`-` 종이책\n",
    "- 효율적 개발로 이끄는 파이썬 실천 기술\n",
    "- Learning python: powerful object-oriented programming\n",
    "- 전문가를 위한 파이썬 : 파이썬3 버전 기준 | 간단하고, 명료하고, 효율적인 파이썬 프로그래밍"
   ]
  },
  {
   "cell_type": "markdown",
   "id": "e2eb412b-f864-4bcc-b7bf-63bf9ef05c81",
   "metadata": {
    "id": "e2eb412b-f864-4bcc-b7bf-63bf9ef05c81"
   },
   "source": [
    "### 주피터노트북, 주피터랩"
   ]
  },
  {
   "cell_type": "markdown",
   "id": "603e7772-c842-4a4f-9689-8b3bd43abced",
   "metadata": {
    "id": "603e7772-c842-4a4f-9689-8b3bd43abced"
   },
   "source": [
    "`-` interactive notebook이 아니다. (a의 값을 바꾸더라도 a+b의 결과값이 바로 바뀌지 않음을 의미)"
   ]
  },
  {
   "cell_type": "markdown",
   "id": "687222b1-8215-4fd5-9390-76965eb62084",
   "metadata": {
    "id": "687222b1-8215-4fd5-9390-76965eb62084"
   },
   "source": [
    "`-` 마크다운모드(글쓰기모드) # 단축키 m, 코드모드(프로그래밍모드)"
   ]
  },
  {
   "cell_type": "markdown",
   "id": "f226038d-c24f-42c2-a9a6-c2b23ea76483",
   "metadata": {
    "id": "f226038d-c24f-42c2-a9a6-c2b23ea76483"
   },
   "source": [
    "### 자료형 "
   ]
  },
  {
   "cell_type": "markdown",
   "id": "94150770-ffae-4a61-8011-d58593f8fddd",
   "metadata": {
    "id": "94150770-ffae-4a61-8011-d58593f8fddd"
   },
   "source": [
    "`-` 파이썬의 기본자료형은 int, float, bool, str, list, tuple, dict, set 등이 있다.\n",
    "- 0차원 자료형: int, float, bool \n",
    "- 1차원 자료형: str, list, tuple, dict, set"
   ]
  },
  {
   "cell_type": "markdown",
   "id": "8765d352-8564-4b4d-8626-2225a819ea13",
   "metadata": {
    "id": "8765d352-8564-4b4d-8626-2225a819ea13"
   },
   "source": [
    "#### int, float, bool "
   ]
  },
  {
   "cell_type": "markdown",
   "id": "def958b3-47d0-4cd3-8507-4e1e42c36ddc",
   "metadata": {
    "id": "def958b3-47d0-4cd3-8507-4e1e42c36ddc"
   },
   "source": [
    "`-` int형 (정수)"
   ]
  },
  {
   "cell_type": "code",
   "execution_count": 8,
   "id": "1b29ab3b-e2e5-4798-95ce-641e3770a020",
   "metadata": {
    "id": "1b29ab3b-e2e5-4798-95ce-641e3770a020"
   },
   "outputs": [],
   "source": [
    "a=100"
   ]
  },
  {
   "cell_type": "code",
   "execution_count": 9,
   "id": "1e52610d-ea3a-4dab-8b69-d04705d759ba",
   "metadata": {
    "id": "1e52610d-ea3a-4dab-8b69-d04705d759ba",
    "outputId": "521433da-46b5-4288-eb88-a1d7f1dd8074"
   },
   "outputs": [
    {
     "data": {
      "text/plain": [
       "int"
      ]
     },
     "execution_count": 9,
     "metadata": {},
     "output_type": "execute_result"
    }
   ],
   "source": [
    "type(a)"
   ]
  },
  {
   "cell_type": "markdown",
   "id": "cc1fbbeb-068b-42a6-8c0c-9772b952428c",
   "metadata": {
    "id": "cc1fbbeb-068b-42a6-8c0c-9772b952428c"
   },
   "source": [
    "`-` float형 (실수) (컴퓨터는 근삿값으로 계산하기때문)"
   ]
  },
  {
   "cell_type": "code",
   "execution_count": 10,
   "id": "bcfcd346-1943-4b3d-a5be-3e77657aa3f1",
   "metadata": {
    "id": "bcfcd346-1943-4b3d-a5be-3e77657aa3f1",
    "outputId": "16262ce0-cec6-4182-df94-45a888c41c98"
   },
   "outputs": [
    {
     "data": {
      "text/plain": [
       "3.5999999999999996"
      ]
     },
     "execution_count": 10,
     "metadata": {},
     "output_type": "execute_result"
    }
   ],
   "source": [
    "a=1.2*3 \n",
    "a"
   ]
  },
  {
   "cell_type": "code",
   "execution_count": 11,
   "id": "6c60ce75-b0d1-490e-9c11-6fe2dae2d738",
   "metadata": {
    "id": "6c60ce75-b0d1-490e-9c11-6fe2dae2d738",
    "outputId": "995a28c3-1bd6-44da-a89f-8be5bb2cbca3"
   },
   "outputs": [
    {
     "data": {
      "text/plain": [
       "float"
      ]
     },
     "execution_count": 11,
     "metadata": {},
     "output_type": "execute_result"
    }
   ],
   "source": [
    "type(a)"
   ]
  },
  {
   "cell_type": "code",
   "execution_count": 12,
   "id": "6e44e4e8-9241-466d-90f5-ce0e648352b6",
   "metadata": {
    "id": "6e44e4e8-9241-466d-90f5-ce0e648352b6",
    "outputId": "33b26e54-593e-41c8-ada4-7c10ee76f79d"
   },
   "outputs": [
    {
     "data": {
      "text/plain": [
       "\u001b[0;31mType:\u001b[0m        float\n",
       "\u001b[0;31mString form:\u001b[0m 3.5999999999999996\n",
       "\u001b[0;31mDocstring:\u001b[0m   Convert a string or number to a floating point number, if possible.\n"
      ]
     },
     "metadata": {},
     "output_type": "display_data"
    }
   ],
   "source": [
    "a?"
   ]
  },
  {
   "cell_type": "markdown",
   "id": "42d37729-57e9-4fdb-9d68-634f26c87c74",
   "metadata": {},
   "source": [
    " 또는 \n",
    " 창에서 우클릭 후 (Show Contextual Help)선택하면 옆에 도움말 창이 뜬다."
   ]
  },
  {
   "cell_type": "markdown",
   "id": "c9636480-fc45-4e36-8f4b-dd7275f74fce",
   "metadata": {
    "id": "c9636480-fc45-4e36-8f4b-dd7275f74fce"
   },
   "source": [
    "`-` bool형 (참,거짓 판단)"
   ]
  },
  {
   "cell_type": "code",
   "execution_count": 13,
   "id": "c4e1bd78-23d3-4404-8356-ec6c6bcc0c13",
   "metadata": {
    "id": "c4e1bd78-23d3-4404-8356-ec6c6bcc0c13"
   },
   "outputs": [],
   "source": [
    "a=True ## 숫자1으로 생각할 수 있음 \n",
    "b=False ## 숫자0으로 생각할 수 있음"
   ]
  },
  {
   "cell_type": "code",
   "execution_count": 14,
   "id": "1ad75565-03c3-4ac4-844f-6a312de68f66",
   "metadata": {
    "id": "1ad75565-03c3-4ac4-844f-6a312de68f66",
    "outputId": "b4ee378d-3d2e-4253-8e1d-75032a098df3"
   },
   "outputs": [
    {
     "data": {
      "text/plain": [
       "bool"
      ]
     },
     "execution_count": 14,
     "metadata": {},
     "output_type": "execute_result"
    }
   ],
   "source": [
    "type(a)"
   ]
  },
  {
   "cell_type": "code",
   "execution_count": 15,
   "id": "0f530cc8-0d85-4d56-8902-8dadc37bed9d",
   "metadata": {
    "id": "0f530cc8-0d85-4d56-8902-8dadc37bed9d",
    "outputId": "a4c25b9f-b892-46a8-e05c-819345c3bf23"
   },
   "outputs": [
    {
     "data": {
      "text/plain": [
       "bool"
      ]
     },
     "execution_count": 15,
     "metadata": {},
     "output_type": "execute_result"
    }
   ],
   "source": [
    "type(b)"
   ]
  },
  {
   "cell_type": "code",
   "execution_count": 16,
   "id": "aa5e54d7-7c8c-4398-9efb-260adc33af46",
   "metadata": {
    "id": "aa5e54d7-7c8c-4398-9efb-260adc33af46",
    "outputId": "d471adb2-7e13-46b2-a665-40ef0e28ec9c"
   },
   "outputs": [
    {
     "data": {
      "text/plain": [
       "\u001b[0;31mType:\u001b[0m        bool\n",
       "\u001b[0;31mString form:\u001b[0m True\n",
       "\u001b[0;31mDocstring:\u001b[0m  \n",
       "bool(x) -> bool\n",
       "\n",
       "Returns True when the argument x is true, False otherwise.\n",
       "The builtins True and False are the only two instances of the class bool.\n",
       "The class bool is a subclass of the class int, and cannot be subclassed.\n"
      ]
     },
     "metadata": {},
     "output_type": "display_data"
    }
   ],
   "source": [
    "a?"
   ]
  },
  {
   "cell_type": "code",
   "execution_count": 17,
   "id": "80f65837-5acb-46f2-acaf-3f46e2fcda73",
   "metadata": {
    "id": "80f65837-5acb-46f2-acaf-3f46e2fcda73",
    "outputId": "dd8fd6f2-b8b3-47c5-dbce-b2941516cca0"
   },
   "outputs": [
    {
     "data": {
      "text/plain": [
       "\u001b[0;31mType:\u001b[0m        bool\n",
       "\u001b[0;31mString form:\u001b[0m False\n",
       "\u001b[0;31mDocstring:\u001b[0m  \n",
       "bool(x) -> bool\n",
       "\n",
       "Returns True when the argument x is true, False otherwise.\n",
       "The builtins True and False are the only two instances of the class bool.\n",
       "The class bool is a subclass of the class int, and cannot be subclassed.\n"
      ]
     },
     "metadata": {},
     "output_type": "display_data"
    }
   ],
   "source": [
    "b?"
   ]
  },
  {
   "cell_type": "markdown",
   "id": "c5477454-5c0e-4767-b53f-53022aeac2a6",
   "metadata": {
    "id": "c5477454-5c0e-4767-b53f-53022aeac2a6"
   },
   "source": [
    "`-` bool형의 연산 "
   ]
  },
  {
   "cell_type": "code",
   "execution_count": 18,
   "id": "09d23a5e-0ae5-46fe-b9e3-35ca4d2921eb",
   "metadata": {
    "id": "09d23a5e-0ae5-46fe-b9e3-35ca4d2921eb"
   },
   "outputs": [],
   "source": [
    "a=True ## 1\n",
    "b=False ## 0 "
   ]
  },
  {
   "cell_type": "code",
   "execution_count": 19,
   "id": "003980a9-ba53-48cd-a85f-759b7e5797d4",
   "metadata": {
    "id": "003980a9-ba53-48cd-a85f-759b7e5797d4",
    "outputId": "bcb42743-9fbd-4ff8-f179-64f52ed79e92"
   },
   "outputs": [
    {
     "data": {
      "text/plain": [
       "1"
      ]
     },
     "execution_count": 19,
     "metadata": {},
     "output_type": "execute_result"
    }
   ],
   "source": [
    "a+b"
   ]
  },
  {
   "cell_type": "code",
   "execution_count": 20,
   "id": "60c4bb4e-45b8-4b98-8de2-c2e3883741e7",
   "metadata": {
    "id": "60c4bb4e-45b8-4b98-8de2-c2e3883741e7",
    "outputId": "6ee48c83-eab4-47df-b808-ef37c6f89e30"
   },
   "outputs": [
    {
     "data": {
      "text/plain": [
       "0"
      ]
     },
     "execution_count": 20,
     "metadata": {},
     "output_type": "execute_result"
    }
   ],
   "source": [
    "a*b "
   ]
  },
  {
   "cell_type": "markdown",
   "id": "a2623a61-1294-452f-84dc-67d37c9328d6",
   "metadata": {
    "id": "a2623a61-1294-452f-84dc-67d37c9328d6"
   },
   "source": [
    "`-` complex형 (복소수)"
   ]
  },
  {
   "cell_type": "code",
   "execution_count": 21,
   "id": "4b351f96-81a0-4b8e-a7cf-5fc09c2d6f09",
   "metadata": {
    "id": "4b351f96-81a0-4b8e-a7cf-5fc09c2d6f09"
   },
   "outputs": [],
   "source": [
    "a=1+2j\n",
    "b=2-2j"
   ]
  },
  {
   "cell_type": "code",
   "execution_count": 22,
   "id": "4fc2d9d3-8f71-469e-bf1e-d95c9398d41a",
   "metadata": {
    "id": "4fc2d9d3-8f71-469e-bf1e-d95c9398d41a",
    "outputId": "2f63d83c-970f-432b-93e9-204142e93213"
   },
   "outputs": [
    {
     "data": {
      "text/plain": [
       "complex"
      ]
     },
     "execution_count": 22,
     "metadata": {},
     "output_type": "execute_result"
    }
   ],
   "source": [
    "type(a)"
   ]
  },
  {
   "cell_type": "code",
   "execution_count": 23,
   "id": "82c43ae8-8f36-487c-aaa5-84fe071781e1",
   "metadata": {
    "id": "82c43ae8-8f36-487c-aaa5-84fe071781e1",
    "outputId": "7f67f6da-c64c-440c-a6f1-0fb69d488a69"
   },
   "outputs": [
    {
     "data": {
      "text/plain": [
       "complex"
      ]
     },
     "execution_count": 23,
     "metadata": {},
     "output_type": "execute_result"
    }
   ],
   "source": [
    "type(b)"
   ]
  },
  {
   "cell_type": "code",
   "execution_count": 24,
   "id": "fc19f936-bb90-4f7e-ad02-287f60ef4c44",
   "metadata": {
    "id": "fc19f936-bb90-4f7e-ad02-287f60ef4c44",
    "outputId": "62da49cd-3412-4880-8fa0-2f5758e811b7"
   },
   "outputs": [
    {
     "data": {
      "text/plain": [
       "\u001b[0;31mType:\u001b[0m        complex\n",
       "\u001b[0;31mString form:\u001b[0m (1+2j)\n",
       "\u001b[0;31mDocstring:\u001b[0m  \n",
       "Create a complex number from a real part and an optional imaginary part.\n",
       "\n",
       "This is equivalent to (real + imag*1j) where imag defaults to 0.\n"
      ]
     },
     "metadata": {},
     "output_type": "display_data"
    }
   ],
   "source": [
    "a?"
   ]
  },
  {
   "cell_type": "code",
   "execution_count": 25,
   "id": "0da15cd7-3cb3-49cb-b849-691ef89c9cec",
   "metadata": {
    "id": "0da15cd7-3cb3-49cb-b849-691ef89c9cec",
    "outputId": "8d3d63ff-4a66-4393-ebee-efe07b9b8c03"
   },
   "outputs": [
    {
     "data": {
      "text/plain": [
       "\u001b[0;31mType:\u001b[0m        complex\n",
       "\u001b[0;31mString form:\u001b[0m (2-2j)\n",
       "\u001b[0;31mDocstring:\u001b[0m  \n",
       "Create a complex number from a real part and an optional imaginary part.\n",
       "\n",
       "This is equivalent to (real + imag*1j) where imag defaults to 0.\n"
      ]
     },
     "metadata": {},
     "output_type": "display_data"
    }
   ],
   "source": [
    "b?"
   ]
  },
  {
   "cell_type": "code",
   "execution_count": 26,
   "id": "2728c8cb-29ef-4f1c-b86b-b659513ea72b",
   "metadata": {
    "id": "2728c8cb-29ef-4f1c-b86b-b659513ea72b"
   },
   "outputs": [],
   "source": [
    "c=a+b"
   ]
  },
  {
   "cell_type": "code",
   "execution_count": 27,
   "id": "9260fbea-0887-4141-b7a0-9424648ccd7e",
   "metadata": {
    "id": "9260fbea-0887-4141-b7a0-9424648ccd7e",
    "outputId": "443ee094-4066-4776-ee07-c446a26952a5"
   },
   "outputs": [
    {
     "data": {
      "text/plain": [
       "(3+0j)"
      ]
     },
     "execution_count": 27,
     "metadata": {},
     "output_type": "execute_result"
    }
   ],
   "source": [
    "c"
   ]
  },
  {
   "cell_type": "markdown",
   "id": "e580df44-ed31-4009-9f1f-ea166214d6f3",
   "metadata": {
    "id": "e580df44-ed31-4009-9f1f-ea166214d6f3"
   },
   "source": [
    "`-` 형태변환: float $\\to$ int "
   ]
  },
  {
   "cell_type": "markdown",
   "id": "30ad5f0f-94d6-43f5-80c7-89cea05e1114",
   "metadata": {},
   "source": [
    "형태변환 =type을 변환시키는 것"
   ]
  },
  {
   "cell_type": "markdown",
   "id": "5e5acacb-93eb-420a-a461-1b308766e4e1",
   "metadata": {
    "id": "5e5acacb-93eb-420a-a461-1b308766e4e1"
   },
   "source": [
    "(예시1)"
   ]
  },
  {
   "cell_type": "code",
   "execution_count": 28,
   "id": "8751c225-3b8d-44e2-bfcf-daf58499fba1",
   "metadata": {
    "id": "8751c225-3b8d-44e2-bfcf-daf58499fba1",
    "outputId": "bba2ea2f-fe52-4686-e814-83e99389582b"
   },
   "outputs": [
    {
     "data": {
      "text/plain": [
       "float"
      ]
     },
     "execution_count": 28,
     "metadata": {},
     "output_type": "execute_result"
    }
   ],
   "source": [
    "a=3.0\n",
    "type(a)"
   ]
  },
  {
   "cell_type": "code",
   "execution_count": 29,
   "id": "d1d6a707-a6d1-474b-b211-700f22e2279d",
   "metadata": {
    "id": "d1d6a707-a6d1-474b-b211-700f22e2279d"
   },
   "outputs": [],
   "source": [
    "a=int(a)"
   ]
  },
  {
   "cell_type": "code",
   "execution_count": 30,
   "id": "7269c089-b331-46f7-9670-7ba20e0271b6",
   "metadata": {
    "id": "7269c089-b331-46f7-9670-7ba20e0271b6",
    "outputId": "cd8ab3ab-0567-4b8d-ad15-9558adf41533"
   },
   "outputs": [
    {
     "data": {
      "text/plain": [
       "int"
      ]
     },
     "execution_count": 30,
     "metadata": {},
     "output_type": "execute_result"
    }
   ],
   "source": [
    "type(a)"
   ]
  },
  {
   "cell_type": "markdown",
   "id": "7559a5dd-4e3e-4c07-9494-fbbcfdb3de2b",
   "metadata": {
    "id": "7559a5dd-4e3e-4c07-9494-fbbcfdb3de2b"
   },
   "source": [
    "(예시2) 이경우는 정보의 손실이 발생 "
   ]
  },
  {
   "cell_type": "code",
   "execution_count": 31,
   "id": "4ad501ec-a3f0-4514-a79e-dbb6ee1d1a8f",
   "metadata": {
    "id": "4ad501ec-a3f0-4514-a79e-dbb6ee1d1a8f",
    "outputId": "9a7a016b-8454-45a0-bc6e-995dcde9621d"
   },
   "outputs": [
    {
     "data": {
      "text/plain": [
       "3"
      ]
     },
     "execution_count": 31,
     "metadata": {},
     "output_type": "execute_result"
    }
   ],
   "source": [
    "a=3.14 \n",
    "int(a)"
   ]
  },
  {
   "cell_type": "markdown",
   "id": "008c9f99-21da-4a40-8253-91c2a25f80a8",
   "metadata": {
    "id": "008c9f99-21da-4a40-8253-91c2a25f80a8"
   },
   "source": [
    "`-` 형태변환: int $\\to$ float"
   ]
  },
  {
   "cell_type": "code",
   "execution_count": 32,
   "id": "addde2a1-d032-4db9-9e43-2608d530886f",
   "metadata": {
    "id": "addde2a1-d032-4db9-9e43-2608d530886f",
    "outputId": "af7c4864-b9ae-4edd-d4ae-6131202ef6b0"
   },
   "outputs": [
    {
     "data": {
      "text/plain": [
       "int"
      ]
     },
     "execution_count": 32,
     "metadata": {},
     "output_type": "execute_result"
    }
   ],
   "source": [
    "a=3\n",
    "type(a)"
   ]
  },
  {
   "cell_type": "code",
   "execution_count": 33,
   "id": "09cf6cef-19a2-4573-a8f1-aa59dda5c0c6",
   "metadata": {
    "id": "09cf6cef-19a2-4573-a8f1-aa59dda5c0c6",
    "outputId": "b272175a-85e7-4832-a65a-531307cf209d"
   },
   "outputs": [
    {
     "data": {
      "text/plain": [
       "float"
      ]
     },
     "execution_count": 33,
     "metadata": {},
     "output_type": "execute_result"
    }
   ],
   "source": [
    "a=float(a)\n",
    "type(a)"
   ]
  },
  {
   "cell_type": "markdown",
   "id": "44f3f700-7f27-4ca1-b5d1-9fec75adb337",
   "metadata": {
    "id": "44f3f700-7f27-4ca1-b5d1-9fec75adb337"
   },
   "source": [
    "`-` 형태변환: bool $\\to$ int/float, int/float $\\to$ bool "
   ]
  },
  {
   "cell_type": "markdown",
   "id": "c4ab41ef-df89-4257-b5f7-ee61518d1111",
   "metadata": {
    "id": "c4ab41ef-df89-4257-b5f7-ee61518d1111"
   },
   "source": [
    "(예시1)"
   ]
  },
  {
   "cell_type": "code",
   "execution_count": 34,
   "id": "d794074c-780e-4859-9fc9-488e74565c34",
   "metadata": {
    "id": "d794074c-780e-4859-9fc9-488e74565c34",
    "outputId": "cdca046d-d20e-4a00-9e60-d5843def9831"
   },
   "outputs": [
    {
     "data": {
      "text/plain": [
       "bool"
      ]
     },
     "execution_count": 34,
     "metadata": {},
     "output_type": "execute_result"
    }
   ],
   "source": [
    "a=True\n",
    "type(a)"
   ]
  },
  {
   "cell_type": "code",
   "execution_count": 35,
   "id": "611c4f59-2c10-42e9-b6f0-70009a2c02d9",
   "metadata": {
    "id": "611c4f59-2c10-42e9-b6f0-70009a2c02d9",
    "outputId": "3cb23e27-ac65-4d50-97ed-43fc50c7f577"
   },
   "outputs": [
    {
     "data": {
      "text/plain": [
       "1"
      ]
     },
     "execution_count": 35,
     "metadata": {},
     "output_type": "execute_result"
    }
   ],
   "source": [
    "int(a)"
   ]
  },
  {
   "cell_type": "code",
   "execution_count": 36,
   "id": "d4405022-cf13-4882-a330-b8cc5634c94e",
   "metadata": {
    "id": "d4405022-cf13-4882-a330-b8cc5634c94e",
    "outputId": "a2d1e0c3-d5cb-484f-b163-c5850c20332b"
   },
   "outputs": [
    {
     "data": {
      "text/plain": [
       "1.0"
      ]
     },
     "execution_count": 36,
     "metadata": {},
     "output_type": "execute_result"
    }
   ],
   "source": [
    "float(a)"
   ]
  },
  {
   "cell_type": "markdown",
   "id": "11c4227d-596b-44fe-8758-b423b7522548",
   "metadata": {
    "id": "11c4227d-596b-44fe-8758-b423b7522548"
   },
   "source": [
    "(예시2)"
   ]
  },
  {
   "cell_type": "code",
   "execution_count": 37,
   "id": "9eb7accd-ccb8-4cfe-9cc1-ef51520ae0b7",
   "metadata": {
    "id": "9eb7accd-ccb8-4cfe-9cc1-ef51520ae0b7",
    "outputId": "74e93fcd-c303-4cf1-baf8-672f83a1e61d"
   },
   "outputs": [
    {
     "data": {
      "text/plain": [
       "True"
      ]
     },
     "execution_count": 37,
     "metadata": {},
     "output_type": "execute_result"
    }
   ],
   "source": [
    "a=1 \n",
    "bool(a)"
   ]
  },
  {
   "cell_type": "code",
   "execution_count": 38,
   "id": "244da79f-8c49-4d3d-b5a1-de87c6372a00",
   "metadata": {
    "id": "244da79f-8c49-4d3d-b5a1-de87c6372a00",
    "outputId": "170c6132-97d0-41d8-98de-20af4a022c96"
   },
   "outputs": [
    {
     "data": {
      "text/plain": [
       "False"
      ]
     },
     "execution_count": 38,
     "metadata": {},
     "output_type": "execute_result"
    }
   ],
   "source": [
    "a=0\n",
    "bool(a)"
   ]
  },
  {
   "cell_type": "markdown",
   "id": "2d7b3273-e5ab-489d-841e-a67ea6d435ea",
   "metadata": {
    "id": "2d7b3273-e5ab-489d-841e-a67ea6d435ea"
   },
   "source": [
    "(예시3)"
   ]
  },
  {
   "cell_type": "code",
   "execution_count": 39,
   "id": "dcde50c5-33fc-49c7-b416-af42b06607a3",
   "metadata": {
    "id": "dcde50c5-33fc-49c7-b416-af42b06607a3",
    "outputId": "a31073b4-5d6a-4129-944c-2b32b1c90d96"
   },
   "outputs": [
    {
     "data": {
      "text/plain": [
       "True"
      ]
     },
     "execution_count": 39,
     "metadata": {},
     "output_type": "execute_result"
    }
   ],
   "source": [
    "a=1.0\n",
    "bool(a)"
   ]
  },
  {
   "cell_type": "code",
   "execution_count": 40,
   "id": "41a9a3ab-6f02-466d-acbe-65687bbb5cad",
   "metadata": {
    "id": "41a9a3ab-6f02-466d-acbe-65687bbb5cad",
    "outputId": "8e766f96-e88c-4873-8efb-ffcb9df2d38c"
   },
   "outputs": [
    {
     "data": {
      "text/plain": [
       "False"
      ]
     },
     "execution_count": 40,
     "metadata": {},
     "output_type": "execute_result"
    }
   ],
   "source": [
    "a=0.0\n",
    "bool(a)"
   ]
  },
  {
   "cell_type": "markdown",
   "id": "ba625d32-3961-42c3-8993-659724eb7a27",
   "metadata": {
    "id": "ba625d32-3961-42c3-8993-659724eb7a27"
   },
   "source": [
    "`-` 이상한 형태변환도 가능하다. (이런것도 바꿔주나 싶은것도 바꿔줌) (0만 아니면 모두 True값으로 출력 가능하긴 함)"
   ]
  },
  {
   "cell_type": "code",
   "execution_count": 41,
   "id": "93a47581-0871-429a-857f-b6826525e196",
   "metadata": {
    "id": "93a47581-0871-429a-857f-b6826525e196",
    "outputId": "a8c18063-0969-4b7a-8e3b-70eba79c5b52"
   },
   "outputs": [
    {
     "data": {
      "text/plain": [
       "True"
      ]
     },
     "execution_count": 41,
     "metadata": {},
     "output_type": "execute_result"
    }
   ],
   "source": [
    "bool(-3.14)"
   ]
  },
  {
   "cell_type": "markdown",
   "id": "b8d27795-e840-4046-8f80-63266dc58ecb",
   "metadata": {
    "id": "b8d27795-e840-4046-8f80-63266dc58ecb"
   },
   "source": [
    "- 저는 이런 코드를 의도적으로 사용하지 않아요.. (그냥 알아두는 정도...)"
   ]
  },
  {
   "cell_type": "code",
   "execution_count": 42,
   "id": "ce3d8847-d9d7-4e02-95ea-e1e9861156c1",
   "metadata": {
    "id": "ce3d8847-d9d7-4e02-95ea-e1e9861156c1",
    "outputId": "5ac1ab43-4508-4df7-dd08-abd050fbe602"
   },
   "outputs": [
    {
     "data": {
      "text/plain": [
       "3"
      ]
     },
     "execution_count": 42,
     "metadata": {},
     "output_type": "execute_result"
    }
   ],
   "source": [
    "int(3.14)"
   ]
  },
  {
   "cell_type": "markdown",
   "id": "83b3a37c-2e9a-4f45-a5eb-17b873fd20a1",
   "metadata": {
    "id": "83b3a37c-2e9a-4f45-a5eb-17b873fd20a1"
   },
   "source": [
    "`-` 형태변환이 항상가능한것도 아님 "
   ]
  },
  {
   "cell_type": "code",
   "execution_count": 43,
   "id": "828f77b2-b409-4bb7-b3c9-b1df1611fa0f",
   "metadata": {
    "id": "828f77b2-b409-4bb7-b3c9-b1df1611fa0f",
    "outputId": "5bf06d34-783a-4b5e-f155-558070ad6d3f"
   },
   "outputs": [
    {
     "ename": "TypeError",
     "evalue": "can't convert complex to float",
     "output_type": "error",
     "traceback": [
      "\u001b[0;31m---------------------------------------------------------------------------\u001b[0m",
      "\u001b[0;31mTypeError\u001b[0m                                 Traceback (most recent call last)",
      "Input \u001b[0;32mIn [43]\u001b[0m, in \u001b[0;36m<cell line: 1>\u001b[0;34m()\u001b[0m\n\u001b[0;32m----> 1\u001b[0m \u001b[38;5;28;43mfloat\u001b[39;49m\u001b[43m(\u001b[49m\u001b[38;5;241;43m3\u001b[39;49m\u001b[38;5;241;43m+\u001b[39;49m\u001b[38;5;241;43m0\u001b[39;49m\u001b[43mj\u001b[49m\u001b[43m)\u001b[49m\n",
      "\u001b[0;31mTypeError\u001b[0m: can't convert complex to float"
     ]
    }
   ],
   "source": [
    "float(3+0j) # 사실상 3+0j=3 이므로 float으로 형변환하면 3.0이 되어야 할 것 같은데 변환불가능하다. "
   ]
  },
  {
   "cell_type": "markdown",
   "id": "969ad7c4-9a97-40eb-9178-f1f3c9e5e0c9",
   "metadata": {
    "id": "969ad7c4-9a97-40eb-9178-f1f3c9e5e0c9"
   },
   "source": [
    "`-` 암묵적형변환 (implicit) "
   ]
  },
  {
   "cell_type": "markdown",
   "id": "cc097315-9aff-42ba-990e-b06d97434496",
   "metadata": {
    "id": "cc097315-9aff-42ba-990e-b06d97434496"
   },
   "source": [
    "(예비학습) implicit의 의미 \n",
    "- 추운날씨 -> 보일러좀 틀자! (explicit) / 오늘 날씨 좀 추운 것 같지 않아? (implicit) \n",
    "- 짜장면 먹을래? -> 싫어! (explicit) / 난 어제 짜장면 먹었는데.. (implicit)"
   ]
  },
  {
   "cell_type": "markdown",
   "id": "fc2b82c7-4ef4-4c67-963b-b5b504f39f6b",
   "metadata": {
    "id": "fc2b82c7-4ef4-4c67-963b-b5b504f39f6b"
   },
   "source": [
    "(예제) "
   ]
  },
  {
   "cell_type": "code",
   "execution_count": 44,
   "id": "fe791eb2-d4dc-47c5-aafe-b4b28835313c",
   "metadata": {
    "id": "fe791eb2-d4dc-47c5-aafe-b4b28835313c",
    "outputId": "bcdae89d-5fba-496a-c130-ab24115129f8"
   },
   "outputs": [
    {
     "data": {
      "text/plain": [
       "1"
      ]
     },
     "execution_count": 44,
     "metadata": {},
     "output_type": "execute_result"
    }
   ],
   "source": [
    "True * 1 # 1을 곱할건데 너 계속 True로 있을꺼야? "
   ]
  },
  {
   "cell_type": "code",
   "execution_count": 45,
   "id": "8e2b60c4-2861-4023-89f7-543953d0e148",
   "metadata": {
    "id": "8e2b60c4-2861-4023-89f7-543953d0e148",
    "outputId": "5e9507bb-8f28-4747-9e08-64af668a9c0e"
   },
   "outputs": [
    {
     "data": {
      "text/plain": [
       "1.0"
      ]
     },
     "execution_count": 45,
     "metadata": {},
     "output_type": "execute_result"
    }
   ],
   "source": [
    "1 * 1.0 # 1.0을 곱할건데 너 계속 int로 있을꺼야? "
   ]
  },
  {
   "cell_type": "code",
   "execution_count": 46,
   "id": "5ff47f52-9289-420f-929c-690ddcb7fcc3",
   "metadata": {
    "id": "5ff47f52-9289-420f-929c-690ddcb7fcc3",
    "outputId": "bf20abb4-0af9-48ad-b5fd-b73b75df8595"
   },
   "outputs": [
    {
     "data": {
      "text/plain": [
       "2"
      ]
     },
     "execution_count": 46,
     "metadata": {},
     "output_type": "execute_result"
    }
   ],
   "source": [
    "True+True # +연산을 할건데 계속 True로 있을꺼야? "
   ]
  },
  {
   "cell_type": "markdown",
   "id": "15a0a99a-fd0c-480e-a60a-6df1704b7038",
   "metadata": {
    "id": "15a0a99a-fd0c-480e-a60a-6df1704b7038"
   },
   "source": [
    "### str (문자들의 집합)"
   ]
  },
  {
   "cell_type": "markdown",
   "id": "59caa3b4-5ac8-43bb-81c1-bc66243f040b",
   "metadata": {
    "id": "59caa3b4-5ac8-43bb-81c1-bc66243f040b"
   },
   "source": [
    "`-` 선언 "
   ]
  },
  {
   "cell_type": "code",
   "execution_count": 47,
   "id": "48034256-e511-487e-b301-82b00e2deb6c",
   "metadata": {
    "id": "48034256-e511-487e-b301-82b00e2deb6c"
   },
   "outputs": [],
   "source": [
    "a='guebin'"
   ]
  },
  {
   "cell_type": "code",
   "execution_count": 48,
   "id": "136865a3-5158-4793-9fe6-a567be935611",
   "metadata": {
    "id": "136865a3-5158-4793-9fe6-a567be935611",
    "outputId": "b9539208-d783-4979-a704-6e6aed5ea32d"
   },
   "outputs": [
    {
     "data": {
      "text/plain": [
       "'guebin'"
      ]
     },
     "execution_count": 48,
     "metadata": {},
     "output_type": "execute_result"
    }
   ],
   "source": [
    "a"
   ]
  },
  {
   "cell_type": "markdown",
   "id": "84290c7d-7b9e-4d3a-ad48-a894cf7ebbf6",
   "metadata": {
    "id": "84290c7d-7b9e-4d3a-ad48-a894cf7ebbf6"
   },
   "source": [
    "#### ***연산*** "
   ]
  },
  {
   "cell_type": "markdown",
   "id": "6b16bda5-3d26-4d27-af50-b2348ea5870f",
   "metadata": {
    "id": "6b16bda5-3d26-4d27-af50-b2348ea5870f"
   },
   "source": [
    "`-` 더하기(+)연산 "
   ]
  },
  {
   "cell_type": "code",
   "execution_count": 49,
   "id": "be9a5df0-ab45-4125-9e40-0f4aaa3f84c7",
   "metadata": {
    "id": "be9a5df0-ab45-4125-9e40-0f4aaa3f84c7"
   },
   "outputs": [],
   "source": [
    "a='X'\n",
    "b='2'"
   ]
  },
  {
   "cell_type": "code",
   "execution_count": 50,
   "id": "7e17e8a8-336e-42fc-a73f-6b2efc4179b5",
   "metadata": {
    "colab": {
     "base_uri": "https://localhost:8080/",
     "height": 36
    },
    "id": "7e17e8a8-336e-42fc-a73f-6b2efc4179b5",
    "outputId": "47005487-f997-435e-8662-ff4907fa209f"
   },
   "outputs": [
    {
     "data": {
      "text/plain": [
       "'X2'"
      ]
     },
     "execution_count": 50,
     "metadata": {},
     "output_type": "execute_result"
    }
   ],
   "source": [
    "c=a+b\n",
    "c"
   ]
  },
  {
   "cell_type": "markdown",
   "id": "c19b88c3-c552-422c-9215-eb22cfb1004e",
   "metadata": {
    "id": "c19b88c3-c552-422c-9215-eb22cfb1004e"
   },
   "source": [
    "`-` 빼기(-)연산 "
   ]
  },
  {
   "cell_type": "code",
   "execution_count": 51,
   "id": "2e86c8f4-39b9-4667-82be-eff70f28ef63",
   "metadata": {
    "colab": {
     "base_uri": "https://localhost:8080/",
     "height": 205
    },
    "id": "2e86c8f4-39b9-4667-82be-eff70f28ef63",
    "outputId": "5d799131-a4fd-4bce-a12b-460f590c46f8"
   },
   "outputs": [
    {
     "ename": "TypeError",
     "evalue": "unsupported operand type(s) for -: 'str' and 'str'",
     "output_type": "error",
     "traceback": [
      "\u001b[0;31m---------------------------------------------------------------------------\u001b[0m",
      "\u001b[0;31mTypeError\u001b[0m                                 Traceback (most recent call last)",
      "Input \u001b[0;32mIn [51]\u001b[0m, in \u001b[0;36m<cell line: 3>\u001b[0;34m()\u001b[0m\n\u001b[1;32m      1\u001b[0m a\u001b[38;5;241m=\u001b[39m\u001b[38;5;124m'\u001b[39m\u001b[38;5;124mX2\u001b[39m\u001b[38;5;124m'\u001b[39m\n\u001b[1;32m      2\u001b[0m b\u001b[38;5;241m=\u001b[39m\u001b[38;5;124m'\u001b[39m\u001b[38;5;124m2\u001b[39m\u001b[38;5;124m'\u001b[39m\n\u001b[0;32m----> 3\u001b[0m \u001b[43ma\u001b[49m\u001b[38;5;241;43m-\u001b[39;49m\u001b[43mb\u001b[49m\n",
      "\u001b[0;31mTypeError\u001b[0m: unsupported operand type(s) for -: 'str' and 'str'"
     ]
    }
   ],
   "source": [
    "a='X2'\n",
    "b='2'\n",
    "a-b"
   ]
  },
  {
   "cell_type": "markdown",
   "id": "baed9f61-5abd-43bb-b8b8-15652c314d4c",
   "metadata": {
    "id": "baed9f61-5abd-43bb-b8b8-15652c314d4c"
   },
   "source": [
    "- 이런건 없다. "
   ]
  },
  {
   "cell_type": "markdown",
   "id": "5941c787-d0a3-4c49-9381-dfde3a46f8c2",
   "metadata": {
    "id": "5941c787-d0a3-4c49-9381-dfde3a46f8c2"
   },
   "source": [
    "`-` 곱하기(*)연산"
   ]
  },
  {
   "cell_type": "code",
   "execution_count": 52,
   "id": "1f6b4c56-8344-498c-bebc-45b3d142e5f6",
   "metadata": {
    "id": "1f6b4c56-8344-498c-bebc-45b3d142e5f6"
   },
   "outputs": [],
   "source": [
    "a='X'"
   ]
  },
  {
   "cell_type": "code",
   "execution_count": 53,
   "id": "a0e2a84e-6e48-4147-9c24-8aa5dc341485",
   "metadata": {
    "id": "a0e2a84e-6e48-4147-9c24-8aa5dc341485",
    "outputId": "cbfeb071-8e9d-44eb-abe3-8197d3bfd48f"
   },
   "outputs": [
    {
     "data": {
      "text/plain": [
       "'XXX'"
      ]
     },
     "execution_count": 53,
     "metadata": {},
     "output_type": "execute_result"
    }
   ],
   "source": [
    "a+a+a"
   ]
  },
  {
   "cell_type": "code",
   "execution_count": 54,
   "id": "fce0fddd-d867-4710-9fc7-c583dc984a0a",
   "metadata": {
    "colab": {
     "base_uri": "https://localhost:8080/",
     "height": 36
    },
    "id": "fce0fddd-d867-4710-9fc7-c583dc984a0a",
    "outputId": "7cb0d858-a9bb-4219-be36-e047780e0323"
   },
   "outputs": [
    {
     "data": {
      "text/plain": [
       "'XXX'"
      ]
     },
     "execution_count": 54,
     "metadata": {},
     "output_type": "execute_result"
    }
   ],
   "source": [
    "a*3 # a*3 = a+a+a = 'X'+'X+'X'"
   ]
  },
  {
   "cell_type": "markdown",
   "id": "40636cd9-3969-414e-9084-672c87e837a3",
   "metadata": {
    "id": "40636cd9-3969-414e-9084-672c87e837a3"
   },
   "source": [
    "아래도 가능하다. "
   ]
  },
  {
   "cell_type": "code",
   "execution_count": 55,
   "id": "1049f471-c679-4adc-9684-30a72552fea7",
   "metadata": {
    "colab": {
     "base_uri": "https://localhost:8080/",
     "height": 36
    },
    "id": "1049f471-c679-4adc-9684-30a72552fea7",
    "outputId": "30f4ad5c-4da8-462a-859b-291845d9581f"
   },
   "outputs": [
    {
     "data": {
      "text/plain": [
       "'XXX'"
      ]
     },
     "execution_count": 55,
     "metadata": {},
     "output_type": "execute_result"
    }
   ],
   "source": [
    "3*a"
   ]
  },
  {
   "cell_type": "markdown",
   "id": "a653b809-02be-4a23-a926-621855441c51",
   "metadata": {
    "id": "a653b809-02be-4a23-a926-621855441c51"
   },
   "source": [
    "그리고 아래도 가능하다. "
   ]
  },
  {
   "cell_type": "code",
   "execution_count": 56,
   "id": "e1e0e9cc-6710-4fd3-98de-bf52fcf95e58",
   "metadata": {
    "colab": {
     "base_uri": "https://localhost:8080/",
     "height": 36
    },
    "id": "e1e0e9cc-6710-4fd3-98de-bf52fcf95e58",
    "outputId": "86383c98-e05a-423b-de8e-dba186dbba97"
   },
   "outputs": [
    {
     "data": {
      "text/plain": [
       "'XXX'"
      ]
     },
     "execution_count": 56,
     "metadata": {},
     "output_type": "execute_result"
    }
   ],
   "source": [
    "a='X'\n",
    "b=3 \n",
    "a*b"
   ]
  },
  {
   "cell_type": "markdown",
   "id": "b516d876-1462-4a34-8cd7-7f6e28906249",
   "metadata": {
    "id": "b516d876-1462-4a34-8cd7-7f6e28906249"
   },
   "source": [
    "대신에 의미상 맞지 않는 것은 수행되지 않고 에러가 난다. "
   ]
  },
  {
   "cell_type": "code",
   "execution_count": 57,
   "id": "ab94b52a-fb8c-487b-8d11-06cabbf165f9",
   "metadata": {
    "colab": {
     "base_uri": "https://localhost:8080/",
     "height": 36
    },
    "id": "ab94b52a-fb8c-487b-8d11-06cabbf165f9",
    "outputId": "2abd410f-3cb3-417f-acec-17c09cf706f3"
   },
   "outputs": [
    {
     "data": {
      "text/plain": [
       "'XY'"
      ]
     },
     "execution_count": 57,
     "metadata": {},
     "output_type": "execute_result"
    }
   ],
   "source": [
    "a='X'\n",
    "b='Y'\n",
    "a+b"
   ]
  },
  {
   "cell_type": "code",
   "execution_count": 58,
   "id": "603e1424-95d8-44c9-89ba-32e1169496d1",
   "metadata": {
    "colab": {
     "base_uri": "https://localhost:8080/",
     "height": 169
    },
    "id": "603e1424-95d8-44c9-89ba-32e1169496d1",
    "outputId": "aa4b3bfd-9ee4-47ea-b445-07523605f2d5"
   },
   "outputs": [
    {
     "ename": "TypeError",
     "evalue": "can't multiply sequence by non-int of type 'str'",
     "output_type": "error",
     "traceback": [
      "\u001b[0;31m---------------------------------------------------------------------------\u001b[0m",
      "\u001b[0;31mTypeError\u001b[0m                                 Traceback (most recent call last)",
      "Input \u001b[0;32mIn [58]\u001b[0m, in \u001b[0;36m<cell line: 1>\u001b[0;34m()\u001b[0m\n\u001b[0;32m----> 1\u001b[0m \u001b[43ma\u001b[49m\u001b[38;5;241;43m*\u001b[39;49m\u001b[43mb\u001b[49m\n",
      "\u001b[0;31mTypeError\u001b[0m: can't multiply sequence by non-int of type 'str'"
     ]
    }
   ],
   "source": [
    "a*b"
   ]
  },
  {
   "cell_type": "markdown",
   "id": "83e3c41c-8f55-4620-a636-14d2ca758717",
   "metadata": {
    "id": "83e3c41c-8f55-4620-a636-14d2ca758717"
   },
   "source": [
    "`-` 나눗셈(/)연산 "
   ]
  },
  {
   "cell_type": "code",
   "execution_count": 59,
   "id": "327ed7c6-87c0-4568-9490-9ab99e3469f0",
   "metadata": {
    "id": "327ed7c6-87c0-4568-9490-9ab99e3469f0"
   },
   "outputs": [],
   "source": [
    "a='XX'"
   ]
  },
  {
   "cell_type": "code",
   "execution_count": 60,
   "id": "90f7a615-29e3-4bc1-92e0-450b6a09f0c7",
   "metadata": {
    "colab": {
     "base_uri": "https://localhost:8080/",
     "height": 169
    },
    "id": "90f7a615-29e3-4bc1-92e0-450b6a09f0c7",
    "outputId": "7ba01250-33ad-40e6-9347-f6c00a09cb32"
   },
   "outputs": [
    {
     "ename": "TypeError",
     "evalue": "unsupported operand type(s) for /: 'str' and 'int'",
     "output_type": "error",
     "traceback": [
      "\u001b[0;31m---------------------------------------------------------------------------\u001b[0m",
      "\u001b[0;31mTypeError\u001b[0m                                 Traceback (most recent call last)",
      "Input \u001b[0;32mIn [60]\u001b[0m, in \u001b[0;36m<cell line: 1>\u001b[0;34m()\u001b[0m\n\u001b[0;32m----> 1\u001b[0m \u001b[43ma\u001b[49m\u001b[38;5;241;43m/\u001b[39;49m\u001b[38;5;241;43m2\u001b[39;49m\n",
      "\u001b[0;31mTypeError\u001b[0m: unsupported operand type(s) for /: 'str' and 'int'"
     ]
    }
   ],
   "source": [
    "a/2"
   ]
  },
  {
   "cell_type": "markdown",
   "id": "956e134e-ebfb-4064-a7e8-b905d2e3f6d7",
   "metadata": {
    "id": "956e134e-ebfb-4064-a7e8-b905d2e3f6d7"
   },
   "source": [
    "- 이런건 없다.. "
   ]
  },
  {
   "cell_type": "markdown",
   "id": "709f6736-1d5e-48ca-819b-c59af76e3a15",
   "metadata": {},
   "source": [
    "`-`즉, 문자열의 연산은 +,*만 가능한데 *은 숫자와 쓰인다"
   ]
  },
  {
   "cell_type": "markdown",
   "id": "b406a3f1-a066-4ccd-9faf-009177e1760b",
   "metadata": {
    "id": "b406a3f1-a066-4ccd-9faf-009177e1760b"
   },
   "source": [
    "#### ***인덱싱*** "
   ]
  },
  {
   "cell_type": "markdown",
   "id": "f775db88-e616-4ccc-8cbf-a3ff6b69116a",
   "metadata": {
    "id": "f775db88-e616-4ccc-8cbf-a3ff6b69116a"
   },
   "source": [
    "`-` str은 하나의 벡터 문자가 여러개 있는 형태라고 생각하면 된다. "
   ]
  },
  {
   "cell_type": "code",
   "execution_count": 61,
   "id": "54ea14a2-efb9-4b5a-9b9b-4b67d2c6253e",
   "metadata": {
    "id": "54ea14a2-efb9-4b5a-9b9b-4b67d2c6253e"
   },
   "outputs": [],
   "source": [
    "a='guebin'"
   ]
  },
  {
   "cell_type": "code",
   "execution_count": 62,
   "id": "9eeee1f5-3966-4e77-834e-301e7d6dd082",
   "metadata": {
    "colab": {
     "base_uri": "https://localhost:8080/",
     "height": 36
    },
    "id": "9eeee1f5-3966-4e77-834e-301e7d6dd082",
    "outputId": "326cb172-b6fa-4eb8-8fc0-e284738d65bc"
   },
   "outputs": [
    {
     "data": {
      "text/plain": [
       "'guebin'"
      ]
     },
     "execution_count": 62,
     "metadata": {},
     "output_type": "execute_result"
    }
   ],
   "source": [
    "a"
   ]
  },
  {
   "cell_type": "markdown",
   "id": "c5232317-ad4d-4f2b-9a89-3724b0d2d581",
   "metadata": {
    "id": "c5232317-ad4d-4f2b-9a89-3724b0d2d581"
   },
   "source": [
    "- 6개의 칸에 글씨가 하나씩 들어가 있음. "
   ]
  },
  {
   "cell_type": "markdown",
   "id": "0e3881e3-6ae6-464a-8f65-b78e6bd17c66",
   "metadata": {
    "id": "0e3881e3-6ae6-464a-8f65-b78e6bd17c66"
   },
   "source": [
    "`-` 대괄호 `[]`안에 숫자를 넣는 방식으로 벡터의 원소를 호출할 수 있다. (주의: 인덱스가 0부터 시작함) "
   ]
  },
  {
   "cell_type": "code",
   "execution_count": 63,
   "id": "06e592a1-43e4-4382-b539-6f52fa922ffa",
   "metadata": {
    "colab": {
     "base_uri": "https://localhost:8080/",
     "height": 36
    },
    "id": "06e592a1-43e4-4382-b539-6f52fa922ffa",
    "outputId": "06c5071b-7920-4708-893a-b5af6aa93c71"
   },
   "outputs": [
    {
     "data": {
      "text/plain": [
       "'g'"
      ]
     },
     "execution_count": 63,
     "metadata": {},
     "output_type": "execute_result"
    }
   ],
   "source": [
    "a[0] #첫번째원소"
   ]
  },
  {
   "cell_type": "code",
   "execution_count": 64,
   "id": "81aae692-d8c5-4c05-9f63-2810b24b9014",
   "metadata": {
    "colab": {
     "base_uri": "https://localhost:8080/",
     "height": 36
    },
    "id": "81aae692-d8c5-4c05-9f63-2810b24b9014",
    "outputId": "2007eb45-e031-4642-86c8-eae3acc39fb9"
   },
   "outputs": [
    {
     "data": {
      "text/plain": [
       "'u'"
      ]
     },
     "execution_count": 64,
     "metadata": {},
     "output_type": "execute_result"
    }
   ],
   "source": [
    "a[1] #두번째원소 "
   ]
  },
  {
   "cell_type": "markdown",
   "id": "f300bf70-ab5d-414a-8b11-0528ea96f10a",
   "metadata": {
    "id": "f300bf70-ab5d-414a-8b11-0528ea96f10a"
   },
   "source": [
    "마지막원소는 -1로 호출할 수도 있다. "
   ]
  },
  {
   "cell_type": "code",
   "execution_count": 65,
   "id": "823a0cdd-7737-4c8b-96fe-ef2fa3ebfe5c",
   "metadata": {
    "colab": {
     "base_uri": "https://localhost:8080/",
     "height": 36
    },
    "id": "823a0cdd-7737-4c8b-96fe-ef2fa3ebfe5c",
    "outputId": "f320fdd9-d307-4f11-d368-a7f1092e2db5"
   },
   "outputs": [
    {
     "data": {
      "text/plain": [
       "'n'"
      ]
     },
     "execution_count": 65,
     "metadata": {},
     "output_type": "execute_result"
    }
   ],
   "source": [
    "a[-1]"
   ]
  },
  {
   "cell_type": "markdown",
   "id": "ee660f26-ed5a-4ab4-8783-5f826246893d",
   "metadata": {
    "id": "ee660f26-ed5a-4ab4-8783-5f826246893d"
   },
   "source": [
    "마지막에서 2번째 원소는 -2로 호출가능하다. "
   ]
  },
  {
   "cell_type": "code",
   "execution_count": 66,
   "id": "1f32fdf1-70b4-4d83-b843-e6833f900dfb",
   "metadata": {
    "colab": {
     "base_uri": "https://localhost:8080/",
     "height": 36
    },
    "id": "1f32fdf1-70b4-4d83-b843-e6833f900dfb",
    "outputId": "4113434c-64cc-47c6-da71-aa73e8920c54"
   },
   "outputs": [
    {
     "data": {
      "text/plain": [
       "'i'"
      ]
     },
     "execution_count": 66,
     "metadata": {},
     "output_type": "execute_result"
    }
   ],
   "source": [
    "a[-2]"
   ]
  },
  {
   "cell_type": "markdown",
   "id": "6ea50c10-9de2-4149-a2cf-20938ac061d1",
   "metadata": {
    "id": "6ea50c10-9de2-4149-a2cf-20938ac061d1"
   },
   "source": [
    "`-` 요약하면 아래와 같은 방식으로 호출가능함. "
   ]
  },
  {
   "cell_type": "markdown",
   "id": "7d6c1061-a64d-4eb2-ade4-c6b19d86704f",
   "metadata": {
    "id": "7d6c1061-a64d-4eb2-ade4-c6b19d86704f"
   },
   "source": [
    "|g|u|e|b|i|n|\n",
    "|:-:|:-:|:-:|:-:|:-:|:-:|\n",
    "|0|1|2|3|4|5|\n",
    "|0|-5|-4|-3|-2|-1|"
   ]
  },
  {
   "cell_type": "code",
   "execution_count": 67,
   "id": "e34a5b25-32d3-4438-8112-c77198c1233b",
   "metadata": {
    "colab": {
     "base_uri": "https://localhost:8080/",
     "height": 36
    },
    "id": "e34a5b25-32d3-4438-8112-c77198c1233b",
    "outputId": "de4eda6f-1d5a-433a-c533-4853159d7f96"
   },
   "outputs": [
    {
     "data": {
      "text/plain": [
       "'i'"
      ]
     },
     "execution_count": 67,
     "metadata": {},
     "output_type": "execute_result"
    }
   ],
   "source": [
    "a[4]"
   ]
  },
  {
   "cell_type": "code",
   "execution_count": 68,
   "id": "675bb8ca-21bc-48d3-97c3-4e22ba3732c7",
   "metadata": {
    "colab": {
     "base_uri": "https://localhost:8080/",
     "height": 36
    },
    "id": "675bb8ca-21bc-48d3-97c3-4e22ba3732c7",
    "outputId": "8dc72944-21a8-4694-fbd3-eb5d7367cf48"
   },
   "outputs": [
    {
     "data": {
      "text/plain": [
       "'i'"
      ]
     },
     "execution_count": 68,
     "metadata": {},
     "output_type": "execute_result"
    }
   ],
   "source": [
    "a[-2]"
   ]
  },
  {
   "cell_type": "code",
   "execution_count": 69,
   "id": "464059b3-9346-40a7-abd8-305d6a594d9c",
   "metadata": {
    "colab": {
     "base_uri": "https://localhost:8080/",
     "height": 36
    },
    "id": "464059b3-9346-40a7-abd8-305d6a594d9c",
    "outputId": "47723f58-9a99-41b7-fc51-d448bab3015e"
   },
   "outputs": [
    {
     "data": {
      "text/plain": [
       "'e'"
      ]
     },
     "execution_count": 69,
     "metadata": {},
     "output_type": "execute_result"
    }
   ],
   "source": [
    "a[-4]"
   ]
  },
  {
   "cell_type": "markdown",
   "id": "95c8b5d5-64d8-41d8-b97b-efcad4248dfd",
   "metadata": {
    "id": "95c8b5d5-64d8-41d8-b97b-efcad4248dfd"
   },
   "source": [
    "`-` `:`을 이용하여 여러개의 원소를 호출할 수 있음. [a:b] 의 의미는 a=<x<b"
   ]
  },
  {
   "cell_type": "code",
   "execution_count": 70,
   "id": "5bf9e767-614b-4769-a4a0-76fe35ed38d8",
   "metadata": {
    "id": "5bf9e767-614b-4769-a4a0-76fe35ed38d8"
   },
   "outputs": [],
   "source": [
    "a='guebin'"
   ]
  },
  {
   "cell_type": "code",
   "execution_count": 71,
   "id": "a00da720-b05a-4d1e-a3ba-d8a634ba4d44",
   "metadata": {
    "colab": {
     "base_uri": "https://localhost:8080/",
     "height": 36
    },
    "id": "a00da720-b05a-4d1e-a3ba-d8a634ba4d44",
    "outputId": "ac4c4949-b4d7-4d97-d321-440c23fbb7dd"
   },
   "outputs": [
    {
     "data": {
      "text/plain": [
       "'gue'"
      ]
     },
     "execution_count": 71,
     "metadata": {},
     "output_type": "execute_result"
    }
   ],
   "source": [
    "a[0:3] # a[0],a[1],a[2],a[3]이 아니라 a[0],a[1],a[2]까지만 뽑힌다. 즉 마지막의 3은 호출되지 않는다. "
   ]
  },
  {
   "cell_type": "code",
   "execution_count": 72,
   "id": "6cc77d63-ecc8-4ff9-8a8a-14e6134c29bc",
   "metadata": {
    "colab": {
     "base_uri": "https://localhost:8080/",
     "height": 36
    },
    "id": "6cc77d63-ecc8-4ff9-8a8a-14e6134c29bc",
    "outputId": "da13dab0-bea3-4564-afab-bdd6c7ce2a80"
   },
   "outputs": [
    {
     "data": {
      "text/plain": [
       "'ue'"
      ]
     },
     "execution_count": 72,
     "metadata": {},
     "output_type": "execute_result"
    }
   ],
   "source": [
    "a[1:3] # a[1], a[2] 만 호출 // start=1,  stop=3 "
   ]
  },
  {
   "cell_type": "markdown",
   "id": "01015fc0-97af-4859-b23e-f015dcf5f9f0",
   "metadata": {
    "id": "01015fc0-97af-4859-b23e-f015dcf5f9f0"
   },
   "source": [
    "index=1부터 시작해서 마지막원소까지 호출하려면? "
   ]
  },
  {
   "cell_type": "code",
   "execution_count": 73,
   "id": "61ffedc7-e9f4-4a51-b24e-47f555d1b7e3",
   "metadata": {
    "colab": {
     "base_uri": "https://localhost:8080/",
     "height": 36
    },
    "id": "61ffedc7-e9f4-4a51-b24e-47f555d1b7e3",
    "outputId": "141a2f57-218a-4891-c302-bab0089e9843"
   },
   "outputs": [
    {
     "data": {
      "text/plain": [
       "'n'"
      ]
     },
     "execution_count": 73,
     "metadata": {},
     "output_type": "execute_result"
    }
   ],
   "source": [
    "a[5] # guebin의 마지막원소 'n'이 출력"
   ]
  },
  {
   "cell_type": "code",
   "execution_count": 74,
   "id": "56e8fcae-996f-467a-95d0-30d6f7753f57",
   "metadata": {
    "colab": {
     "base_uri": "https://localhost:8080/",
     "height": 36
    },
    "id": "56e8fcae-996f-467a-95d0-30d6f7753f57",
    "outputId": "abb3b3a9-d038-4add-d537-bdc36cb6e2f9"
   },
   "outputs": [
    {
     "data": {
      "text/plain": [
       "'uebi'"
      ]
     },
     "execution_count": 74,
     "metadata": {},
     "output_type": "execute_result"
    }
   ],
   "source": [
    "a[1:5] # 5는 포함되지 않으므로 틀림"
   ]
  },
  {
   "cell_type": "code",
   "execution_count": 75,
   "id": "23bb2f68-e8c6-4807-9163-7234ec2dc2ed",
   "metadata": {
    "colab": {
     "base_uri": "https://localhost:8080/",
     "height": 36
    },
    "id": "23bb2f68-e8c6-4807-9163-7234ec2dc2ed",
    "outputId": "480f704e-6619-44bb-e980-1744c6351e49"
   },
   "outputs": [
    {
     "data": {
      "text/plain": [
       "'uebin'"
      ]
     },
     "execution_count": 75,
     "metadata": {},
     "output_type": "execute_result"
    }
   ],
   "source": [
    "a[1:6] # 정답"
   ]
  },
  {
   "cell_type": "markdown",
   "id": "2a5e7651-54ec-4fd2-b8e2-4b4296332025",
   "metadata": {
    "id": "2a5e7651-54ec-4fd2-b8e2-4b4296332025"
   },
   "source": [
    "안 헷갈리는 방법은 없을까? "
   ]
  },
  {
   "cell_type": "code",
   "execution_count": 76,
   "id": "0e92cbca-e12e-43da-b4a4-d34e03f5123b",
   "metadata": {
    "colab": {
     "base_uri": "https://localhost:8080/",
     "height": 36
    },
    "id": "0e92cbca-e12e-43da-b4a4-d34e03f5123b",
    "outputId": "7e9349e1-bff5-4f71-a5b7-5a4e29091069"
   },
   "outputs": [
    {
     "data": {
      "text/plain": [
       "'n'"
      ]
     },
     "execution_count": 76,
     "metadata": {},
     "output_type": "execute_result"
    }
   ],
   "source": [
    "a[-1]"
   ]
  },
  {
   "cell_type": "code",
   "execution_count": 77,
   "id": "0a22edc4-2ae3-4524-a635-7d98d9dbc527",
   "metadata": {
    "colab": {
     "base_uri": "https://localhost:8080/",
     "height": 36
    },
    "id": "0a22edc4-2ae3-4524-a635-7d98d9dbc527",
    "outputId": "1075992d-f099-4e60-f768-cdaac40cdc4d"
   },
   "outputs": [
    {
     "data": {
      "text/plain": [
       "'uebi'"
      ]
     },
     "execution_count": 77,
     "metadata": {},
     "output_type": "execute_result"
    }
   ],
   "source": [
    "a[1:-1] # 이것은 결국 (a[1:5]와 같은 것임) "
   ]
  },
  {
   "cell_type": "markdown",
   "id": "041bfb9d-ce85-4d76-94df-0f300f161d6b",
   "metadata": {
    "id": "041bfb9d-ce85-4d76-94df-0f300f161d6b"
   },
   "source": [
    "해결책? 생략한다!!"
   ]
  },
  {
   "cell_type": "code",
   "execution_count": 78,
   "id": "d6729ef4-143d-4c5d-b273-96275ee11850",
   "metadata": {
    "colab": {
     "base_uri": "https://localhost:8080/",
     "height": 36
    },
    "id": "d6729ef4-143d-4c5d-b273-96275ee11850",
    "outputId": "42467748-0848-470e-f3f0-23ee82af4f1a"
   },
   "outputs": [
    {
     "data": {
      "text/plain": [
       "'uebin'"
      ]
     },
     "execution_count": 78,
     "metadata": {},
     "output_type": "execute_result"
    }
   ],
   "source": [
    "a[1:]"
   ]
  },
  {
   "cell_type": "markdown",
   "id": "d743f701-b69d-4d09-87eb-05d537b1e4f2",
   "metadata": {
    "id": "d743f701-b69d-4d09-87eb-05d537b1e4f2"
   },
   "source": [
    "`-` 생략의 응용1"
   ]
  },
  {
   "cell_type": "code",
   "execution_count": 79,
   "id": "95bb3db2-e27c-46d2-8fd0-987adec865c3",
   "metadata": {
    "colab": {
     "base_uri": "https://localhost:8080/",
     "height": 36
    },
    "id": "95bb3db2-e27c-46d2-8fd0-987adec865c3",
    "outputId": "86b88882-18c9-41fd-b21a-d435ad376ac7"
   },
   "outputs": [
    {
     "data": {
      "text/plain": [
       "'k-pop'"
      ]
     },
     "execution_count": 79,
     "metadata": {},
     "output_type": "execute_result"
    }
   ],
   "source": [
    "a='k-pop' \n",
    "a"
   ]
  },
  {
   "cell_type": "code",
   "execution_count": 80,
   "id": "5b30a784-c812-4dea-9b54-12ace60ea1ae",
   "metadata": {
    "colab": {
     "base_uri": "https://localhost:8080/",
     "height": 36
    },
    "id": "5b30a784-c812-4dea-9b54-12ace60ea1ae",
    "outputId": "2ced6a5e-aeb0-45f3-d0ca-caf00b10f9d4"
   },
   "outputs": [
    {
     "data": {
      "text/plain": [
       "'pop'"
      ]
     },
     "execution_count": 80,
     "metadata": {},
     "output_type": "execute_result"
    }
   ],
   "source": [
    "a[2:5]"
   ]
  },
  {
   "cell_type": "code",
   "execution_count": 81,
   "id": "6bd10531-d147-418b-92f1-2ee8fb9df290",
   "metadata": {
    "colab": {
     "base_uri": "https://localhost:8080/",
     "height": 36
    },
    "id": "6bd10531-d147-418b-92f1-2ee8fb9df290",
    "outputId": "3214fb66-f067-4e8a-b124-444ba108da33"
   },
   "outputs": [
    {
     "data": {
      "text/plain": [
       "'pop'"
      ]
     },
     "execution_count": 81,
     "metadata": {},
     "output_type": "execute_result"
    }
   ],
   "source": [
    "a[2:]"
   ]
  },
  {
   "cell_type": "markdown",
   "id": "9c41e755-5bb2-48d0-b6dd-4162b317a335",
   "metadata": {
    "id": "9c41e755-5bb2-48d0-b6dd-4162b317a335"
   },
   "source": [
    "`-` 생략의 응용2"
   ]
  },
  {
   "cell_type": "code",
   "execution_count": 82,
   "id": "394c5222-d819-46bc-a6c4-9884cee0a1a5",
   "metadata": {
    "colab": {
     "base_uri": "https://localhost:8080/",
     "height": 36
    },
    "id": "394c5222-d819-46bc-a6c4-9884cee0a1a5",
    "outputId": "c1ab946d-86a3-4897-d3d5-93a770e86764"
   },
   "outputs": [
    {
     "data": {
      "text/plain": [
       "'k-pop'"
      ]
     },
     "execution_count": 82,
     "metadata": {},
     "output_type": "execute_result"
    }
   ],
   "source": [
    "a='k-pop'\n",
    "a"
   ]
  },
  {
   "cell_type": "code",
   "execution_count": 83,
   "id": "62c9e60f-567c-4a01-89c4-7b0cae5992fe",
   "metadata": {
    "colab": {
     "base_uri": "https://localhost:8080/",
     "height": 36
    },
    "id": "62c9e60f-567c-4a01-89c4-7b0cae5992fe",
    "outputId": "c36a4a2b-b794-402e-c8dc-b36f4a784ba9"
   },
   "outputs": [
    {
     "data": {
      "text/plain": [
       "'k-'"
      ]
     },
     "execution_count": 83,
     "metadata": {},
     "output_type": "execute_result"
    }
   ],
   "source": [
    "a[0:2] # a[0],a[1]"
   ]
  },
  {
   "cell_type": "code",
   "execution_count": 84,
   "id": "5e9ddc5f-71b4-467a-b089-8744fd7fde1c",
   "metadata": {
    "colab": {
     "base_uri": "https://localhost:8080/",
     "height": 36
    },
    "id": "5e9ddc5f-71b4-467a-b089-8744fd7fde1c",
    "outputId": "3d5373ed-654e-451c-d1a9-5b9009789a92"
   },
   "outputs": [
    {
     "data": {
      "text/plain": [
       "'k-'"
      ]
     },
     "execution_count": 84,
     "metadata": {},
     "output_type": "execute_result"
    }
   ],
   "source": [
    "a[:2] # a[0],a[1] "
   ]
  },
  {
   "cell_type": "markdown",
   "id": "9974a84b-8dd4-4ae4-8367-edd392fd213e",
   "metadata": {
    "id": "9974a84b-8dd4-4ae4-8367-edd392fd213e"
   },
   "source": [
    "`-` 생략의 응용3"
   ]
  },
  {
   "cell_type": "code",
   "execution_count": 85,
   "id": "e7cd56bd-8244-423e-af0c-7c5e06a9344f",
   "metadata": {
    "colab": {
     "base_uri": "https://localhost:8080/",
     "height": 36
    },
    "id": "e7cd56bd-8244-423e-af0c-7c5e06a9344f",
    "outputId": "fb0f6174-7560-4b7e-8a2f-c1db7c2470bc"
   },
   "outputs": [
    {
     "data": {
      "text/plain": [
       "'k-pop'"
      ]
     },
     "execution_count": 85,
     "metadata": {},
     "output_type": "execute_result"
    }
   ],
   "source": [
    "a='k-pop'\n",
    "a"
   ]
  },
  {
   "cell_type": "code",
   "execution_count": 86,
   "id": "76900c79-a5ea-4cc2-a611-fb2340f9ceed",
   "metadata": {
    "colab": {
     "base_uri": "https://localhost:8080/",
     "height": 36
    },
    "id": "76900c79-a5ea-4cc2-a611-fb2340f9ceed",
    "outputId": "3929caa7-1a1d-42cb-f73f-4e07842c7a3b"
   },
   "outputs": [
    {
     "data": {
      "text/plain": [
       "'k-pop'"
      ]
     },
     "execution_count": 86,
     "metadata": {},
     "output_type": "execute_result"
    }
   ],
   "source": [
    "a[0:5] # a[0],...,a[4]"
   ]
  },
  {
   "cell_type": "code",
   "execution_count": 87,
   "id": "21699b82-47c0-4e43-9f59-5b3aa6307830",
   "metadata": {
    "colab": {
     "base_uri": "https://localhost:8080/",
     "height": 36
    },
    "id": "21699b82-47c0-4e43-9f59-5b3aa6307830",
    "outputId": "91bedaff-7194-401d-caa8-a3d62db15104"
   },
   "outputs": [
    {
     "data": {
      "text/plain": [
       "'k-pop'"
      ]
     },
     "execution_count": 87,
     "metadata": {},
     "output_type": "execute_result"
    }
   ],
   "source": [
    "a[:]"
   ]
  },
  {
   "cell_type": "markdown",
   "id": "0dfd12c2-027f-4794-ba94-de583a8869cb",
   "metadata": {
    "id": "0dfd12c2-027f-4794-ba94-de583a8869cb"
   },
   "source": [
    "#### str 특수기능 "
   ]
  },
  {
   "cell_type": "markdown",
   "id": "8bfb050b-db49-4bf6-b14e-afc97589de7c",
   "metadata": {
    "id": "8bfb050b-db49-4bf6-b14e-afc97589de7c"
   },
   "source": [
    "`-` 파이썬의 변수는 단순히 정보를 담는 그릇이 아니다. 유용한 기능을 제공하는 경우가 있다. "
   ]
  },
  {
   "cell_type": "code",
   "execution_count": 88,
   "id": "c2df0d4c-59e8-4e00-86d8-3e00b8c2ce1d",
   "metadata": {
    "colab": {
     "base_uri": "https://localhost:8080/",
     "height": 36
    },
    "id": "c2df0d4c-59e8-4e00-86d8-3e00b8c2ce1d",
    "outputId": "6251d72b-dd5a-425b-cf1c-826bd2d354da"
   },
   "outputs": [
    {
     "data": {
      "text/plain": [
       "'ABCD'"
      ]
     },
     "execution_count": 88,
     "metadata": {},
     "output_type": "execute_result"
    }
   ],
   "source": [
    "a='ABCD' # a라는 변수는 'ABCD'라는 정보를 담는 그릇의 역할만 하지 않고, 특화된 어떠한 기능도 제공한다. \n",
    "a"
   ]
  },
  {
   "cell_type": "code",
   "execution_count": 89,
   "id": "7de6c11c-bdc4-4059-bd8a-e26e04985db5",
   "metadata": {
    "colab": {
     "base_uri": "https://localhost:8080/",
     "height": 36
    },
    "id": "7de6c11c-bdc4-4059-bd8a-e26e04985db5",
    "outputId": "14dd2864-f943-40f0-aab8-26c8eb546fbe"
   },
   "outputs": [
    {
     "data": {
      "text/plain": [
       "'abcd'"
      ]
     },
     "execution_count": 89,
     "metadata": {},
     "output_type": "execute_result"
    }
   ],
   "source": [
    "a.lower() # a.lower()를 쓰면 a의 모든 문자를 소문자로 바꾸는 기능을 제공, lower(a)라고 읽자!"
   ]
  },
  {
   "cell_type": "markdown",
   "id": "26aff093-fc24-445b-9bf4-9c4efd8ebf74",
   "metadata": {
    "id": "26aff093-fc24-445b-9bf4-9c4efd8ebf74"
   },
   "source": [
    "여기에서 lower()는 문자열에 특화된 기능임 (= method). 따라서 당연히 아래는 불가능 "
   ]
  },
  {
   "cell_type": "code",
   "execution_count": 90,
   "id": "3e87c453-9d96-4fb4-a9ed-72983744368c",
   "metadata": {
    "colab": {
     "base_uri": "https://localhost:8080/",
     "height": 187
    },
    "id": "3e87c453-9d96-4fb4-a9ed-72983744368c",
    "outputId": "9ee05748-cad5-43d0-c990-f92ebea2bf1c"
   },
   "outputs": [
    {
     "ename": "AttributeError",
     "evalue": "'float' object has no attribute 'lower'",
     "output_type": "error",
     "traceback": [
      "\u001b[0;31m---------------------------------------------------------------------------\u001b[0m",
      "\u001b[0;31mAttributeError\u001b[0m                            Traceback (most recent call last)",
      "Input \u001b[0;32mIn [90]\u001b[0m, in \u001b[0;36m<cell line: 2>\u001b[0;34m()\u001b[0m\n\u001b[1;32m      1\u001b[0m a\u001b[38;5;241m=\u001b[39m\u001b[38;5;241m3.14\u001b[39m\n\u001b[0;32m----> 2\u001b[0m \u001b[43ma\u001b[49m\u001b[38;5;241;43m.\u001b[39;49m\u001b[43mlower\u001b[49m()\n",
      "\u001b[0;31mAttributeError\u001b[0m: 'float' object has no attribute 'lower'"
     ]
    }
   ],
   "source": [
    "a=3.14\n",
    "a.lower() # lower(a)"
   ]
  },
  {
   "cell_type": "markdown",
   "id": "eb01dcf3-364d-46cd-abb9-ae4b7099fcd5",
   "metadata": {
    "id": "eb01dcf3-364d-46cd-abb9-ae4b7099fcd5"
   },
   "source": [
    "`-` 자료형에 특화된 기능(=함수)을 확인하는 방법? `a.`+ `tab` 으로 목록 확인 가능 "
   ]
  },
  {
   "cell_type": "code",
   "execution_count": 91,
   "id": "053be390-5dac-472c-89d2-257cedb332cb",
   "metadata": {
    "id": "053be390-5dac-472c-89d2-257cedb332cb"
   },
   "outputs": [],
   "source": [
    "a='guebin'"
   ]
  },
  {
   "cell_type": "code",
   "execution_count": 92,
   "id": "f60791d5-52d5-4e6b-abe4-a646cec23d11",
   "metadata": {
    "id": "f60791d5-52d5-4e6b-abe4-a646cec23d11"
   },
   "outputs": [
    {
     "data": {
      "text/plain": [
       "\u001b[0;31mSignature:\u001b[0m \u001b[0ma\u001b[0m\u001b[0;34m.\u001b[0m\u001b[0mupper\u001b[0m\u001b[0;34m(\u001b[0m\u001b[0;34m)\u001b[0m\u001b[0;34m\u001b[0m\u001b[0;34m\u001b[0m\u001b[0m\n",
       "\u001b[0;31mDocstring:\u001b[0m Return a copy of the string converted to uppercase.\n",
       "\u001b[0;31mType:\u001b[0m      builtin_function_or_method\n"
      ]
     },
     "metadata": {},
     "output_type": "display_data"
    }
   ],
   "source": [
    "a.upper?"
   ]
  },
  {
   "cell_type": "code",
   "execution_count": 93,
   "id": "978d7e30-641f-4553-8b53-e4fa17a8ab54",
   "metadata": {
    "colab": {
     "base_uri": "https://localhost:8080/",
     "height": 36
    },
    "id": "978d7e30-641f-4553-8b53-e4fa17a8ab54",
    "outputId": "27197455-2a8b-4a96-dace-4fd148f51f45"
   },
   "outputs": [
    {
     "data": {
      "text/plain": [
       "'GUEBIN'"
      ]
     },
     "execution_count": 93,
     "metadata": {},
     "output_type": "execute_result"
    }
   ],
   "source": [
    "a.upper() # upper(a) "
   ]
  },
  {
   "cell_type": "code",
   "execution_count": 94,
   "id": "1c4b5782-f7db-47e1-8270-038eb2e9c302",
   "metadata": {
    "colab": {
     "base_uri": "https://localhost:8080/",
     "height": 36
    },
    "id": "1c4b5782-f7db-47e1-8270-038eb2e9c302",
    "outputId": "ff169d1d-0178-4217-ce11-e64829000e2b"
   },
   "outputs": [
    {
     "data": {
      "text/plain": [
       "'Guebin'"
      ]
     },
     "execution_count": 94,
     "metadata": {},
     "output_type": "execute_result"
    }
   ],
   "source": [
    "a.capitalize() # capitalize(a) "
   ]
  },
  {
   "cell_type": "markdown",
   "id": "50d72fcc-12d1-4a42-ae0c-16b3af4435fc",
   "metadata": {
    "id": "50d72fcc-12d1-4a42-ae0c-16b3af4435fc"
   },
   "source": [
    "`-` 문자열에 대한 다른 내용들은 추후에 다루겠음. "
   ]
  },
  {
   "cell_type": "markdown",
   "id": "3e410d12-73c2-44bc-8ac0-604e9e68a332",
   "metadata": {
    "id": "3e410d12-73c2-44bc-8ac0-604e9e68a332"
   },
   "source": [
    "`-` 마음의눈: `a.f()` 형태를 읽는 팁\n",
    "- `a.f()`는 `f(a)`로 생각하면 편리함. \n",
    "- `a.f(2)`는 `f(a,2)`로 생각하면 편리함. \n",
    "- 이런점에서 R `%>%` 연산자와 비슷하다고 생각할 수 있다. (약간 다르긴함) "
   ]
  },
  {
   "cell_type": "markdown",
   "id": "94d9a19b-f1a2-4864-8414-13fb2f5e81b4",
   "metadata": {
    "id": "94d9a19b-f1a2-4864-8414-13fb2f5e81b4"
   },
   "source": [
    "`-` 사실 `.`은 좀 더 다양한 상황에서 쓰일 수 있다. `변수이름.함수이름()` 의 형태가 아니라 \n",
    "- `패지키이름.함수이름()`\n",
    "- `패키지이름.변수이름` \n",
    "- `패키지이름.패키지이름.함수이름()` \n",
    "- ... \n",
    "\n",
    "와 같이 다양한 형태가 가능하다. 근본적인 공통점은 `.`을 기준으로 `상위개념.하위개념` 으로 이해하는 것이 좋다. "
   ]
  },
  {
   "cell_type": "markdown",
   "id": "79bf3c6d-5db0-4f90-9512-d7cea939ced0",
   "metadata": {
    "id": "79bf3c6d-5db0-4f90-9512-d7cea939ced0"
   },
   "source": [
    "#### 0차원 vs 1차원 "
   ]
  },
  {
   "cell_type": "markdown",
   "id": "5c6f0063-363e-46b4-b514-eaa729a444cc",
   "metadata": {
    "id": "5c6f0063-363e-46b4-b514-eaa729a444cc"
   },
   "source": [
    "`-` `len`함수 소개: 원소의 갯수를 알려주는 함수. "
   ]
  },
  {
   "cell_type": "markdown",
   "id": "93734ec0-0ab7-4da2-a63d-9f4269062bdc",
   "metadata": {
    "id": "93734ec0-0ab7-4da2-a63d-9f4269062bdc"
   },
   "source": [
    "(0차원) `len` 함수가 동작하지 않음."
   ]
  },
  {
   "cell_type": "code",
   "execution_count": 95,
   "id": "207d5921-34aa-4a65-8884-92dacf58ea09",
   "metadata": {
    "id": "207d5921-34aa-4a65-8884-92dacf58ea09"
   },
   "outputs": [],
   "source": [
    "a=3.14"
   ]
  },
  {
   "cell_type": "code",
   "execution_count": 96,
   "id": "7fad7d27-b9d5-42f5-8f2a-e40cebcc4995",
   "metadata": {
    "colab": {
     "base_uri": "https://localhost:8080/"
    },
    "id": "7fad7d27-b9d5-42f5-8f2a-e40cebcc4995",
    "outputId": "5c866155-968d-4449-a913-78b9e8d381da"
   },
   "outputs": [
    {
     "ename": "TypeError",
     "evalue": "object of type 'float' has no len()",
     "output_type": "error",
     "traceback": [
      "\u001b[0;31m---------------------------------------------------------------------------\u001b[0m",
      "\u001b[0;31mTypeError\u001b[0m                                 Traceback (most recent call last)",
      "Input \u001b[0;32mIn [96]\u001b[0m, in \u001b[0;36m<cell line: 1>\u001b[0;34m()\u001b[0m\n\u001b[0;32m----> 1\u001b[0m \u001b[38;5;28;43mlen\u001b[39;49m\u001b[43m(\u001b[49m\u001b[43ma\u001b[49m\u001b[43m)\u001b[49m\n",
      "\u001b[0;31mTypeError\u001b[0m: object of type 'float' has no len()"
     ]
    }
   ],
   "source": [
    "len(a)"
   ]
  },
  {
   "cell_type": "code",
   "execution_count": 97,
   "id": "e015e29c-707b-41b9-b344-21139fe0eb7e",
   "metadata": {
    "id": "e015e29c-707b-41b9-b344-21139fe0eb7e"
   },
   "outputs": [],
   "source": [
    "b=True"
   ]
  },
  {
   "cell_type": "code",
   "execution_count": 98,
   "id": "332e1623-b832-48cb-b799-2bffac504298",
   "metadata": {
    "colab": {
     "base_uri": "https://localhost:8080/",
     "height": 169
    },
    "id": "332e1623-b832-48cb-b799-2bffac504298",
    "outputId": "73b45aaa-3866-409a-b80b-7da0684e2104"
   },
   "outputs": [
    {
     "ename": "TypeError",
     "evalue": "object of type 'bool' has no len()",
     "output_type": "error",
     "traceback": [
      "\u001b[0;31m---------------------------------------------------------------------------\u001b[0m",
      "\u001b[0;31mTypeError\u001b[0m                                 Traceback (most recent call last)",
      "Input \u001b[0;32mIn [98]\u001b[0m, in \u001b[0;36m<cell line: 1>\u001b[0;34m()\u001b[0m\n\u001b[0;32m----> 1\u001b[0m \u001b[38;5;28;43mlen\u001b[39;49m\u001b[43m(\u001b[49m\u001b[43mb\u001b[49m\u001b[43m)\u001b[49m\n",
      "\u001b[0;31mTypeError\u001b[0m: object of type 'bool' has no len()"
     ]
    }
   ],
   "source": [
    "len(b)"
   ]
  },
  {
   "cell_type": "markdown",
   "id": "8e894a90-6cb4-4270-a20b-ab5134fdd43d",
   "metadata": {
    "id": "8e894a90-6cb4-4270-a20b-ab5134fdd43d"
   },
   "source": [
    "(1차원) `len` 함수가 잘 동작함. "
   ]
  },
  {
   "cell_type": "code",
   "execution_count": 99,
   "id": "aa82d04e-89c2-4176-b86a-1f7891843c18",
   "metadata": {
    "colab": {
     "base_uri": "https://localhost:8080/"
    },
    "id": "aa82d04e-89c2-4176-b86a-1f7891843c18",
    "outputId": "78d0cab9-3d92-4bdb-c231-a0980833a1fe"
   },
   "outputs": [
    {
     "data": {
      "text/plain": [
       "4"
      ]
     },
     "execution_count": 99,
     "metadata": {},
     "output_type": "execute_result"
    }
   ],
   "source": [
    "a='3.14'\n",
    "len(a)"
   ]
  },
  {
   "cell_type": "code",
   "execution_count": 100,
   "id": "0e3455bc-144e-4f7b-aee0-e3fce07185a2",
   "metadata": {
    "id": "0e3455bc-144e-4f7b-aee0-e3fce07185a2"
   },
   "outputs": [],
   "source": [
    "b=[1,2,3]"
   ]
  },
  {
   "cell_type": "code",
   "execution_count": 101,
   "id": "1d0d92e4-6d9b-4ff3-ab6b-ff638dde8051",
   "metadata": {
    "colab": {
     "base_uri": "https://localhost:8080/"
    },
    "id": "1d0d92e4-6d9b-4ff3-ab6b-ff638dde8051",
    "outputId": "e300105c-cc79-4dd5-ca87-425b63b984f9"
   },
   "outputs": [
    {
     "data": {
      "text/plain": [
       "3"
      ]
     },
     "execution_count": 101,
     "metadata": {},
     "output_type": "execute_result"
    }
   ],
   "source": [
    "len(b)"
   ]
  },
  {
   "cell_type": "markdown",
   "id": "1804c244-1959-4b67-a37f-e9a19910a855",
   "metadata": {
    "id": "1804c244-1959-4b67-a37f-e9a19910a855"
   },
   "source": [
    "### 숙제 "
   ]
  },
  {
   "cell_type": "markdown",
   "id": "20dea742-d33b-4e34-82ec-519fffd6a33a",
   "metadata": {
    "id": "20dea742-d33b-4e34-82ec-519fffd6a33a"
   },
   "source": [
    "본인이름으로 str을 생성 $\\to$ LMS에 스크린샷제출\n",
    "- 성만 출력 \n",
    "- 이름만 출려 "
   ]
  },
  {
   "cell_type": "code",
   "execution_count": 102,
   "id": "80582a88-5ac5-4461-a19b-f0040405868b",
   "metadata": {},
   "outputs": [],
   "source": [
    "my_name='SeokjinChoi'"
   ]
  },
  {
   "cell_type": "code",
   "execution_count": 103,
   "id": "09d843d0-e1ac-4562-9056-3058ec8835df",
   "metadata": {},
   "outputs": [
    {
     "data": {
      "text/plain": [
       "'SeokjinChoi'"
      ]
     },
     "execution_count": 103,
     "metadata": {},
     "output_type": "execute_result"
    }
   ],
   "source": [
    "my_name"
   ]
  },
  {
   "cell_type": "code",
   "execution_count": 104,
   "id": "222ace6e-2019-4772-84eb-0ac0dfb3cbca",
   "metadata": {},
   "outputs": [
    {
     "data": {
      "text/plain": [
       "'Seokjin'"
      ]
     },
     "execution_count": 104,
     "metadata": {},
     "output_type": "execute_result"
    }
   ],
   "source": [
    "my_name[0:7] # ver1"
   ]
  },
  {
   "cell_type": "code",
   "execution_count": 105,
   "id": "1968877d-207b-4c3b-9924-f549f91cf060",
   "metadata": {},
   "outputs": [
    {
     "data": {
      "text/plain": [
       "'Choi'"
      ]
     },
     "execution_count": 105,
     "metadata": {},
     "output_type": "execute_result"
    }
   ],
   "source": [
    "my_name[7:11]"
   ]
  },
  {
   "cell_type": "code",
   "execution_count": 106,
   "id": "aa33253d-b8fc-43a4-8890-9f578c2b263b",
   "metadata": {},
   "outputs": [
    {
     "data": {
      "text/plain": [
       "'Seokjin'"
      ]
     },
     "execution_count": 106,
     "metadata": {},
     "output_type": "execute_result"
    }
   ],
   "source": [
    "my_name[:7] # ver2"
   ]
  },
  {
   "cell_type": "code",
   "execution_count": 107,
   "id": "2e20fafd-5d2c-4875-84be-5e3b272da25e",
   "metadata": {},
   "outputs": [
    {
     "data": {
      "text/plain": [
       "'Choi'"
      ]
     },
     "execution_count": 107,
     "metadata": {},
     "output_type": "execute_result"
    }
   ],
   "source": [
    "my_name[7:]"
   ]
  }
 ],
 "metadata": {
  "colab": {
   "name": "2022-03-07-(1주차) 3월7일.ipynb",
   "provenance": []
  },
  "kernelspec": {
   "display_name": "Python 3 (ipykernel)",
   "language": "python",
   "name": "python3"
  },
  "language_info": {
   "codemirror_mode": {
    "name": "ipython",
    "version": 3
   },
   "file_extension": ".py",
   "mimetype": "text/x-python",
   "name": "python",
   "nbconvert_exporter": "python",
   "pygments_lexer": "ipython3",
   "version": "3.9.7"
  }
 },
 "nbformat": 4,
 "nbformat_minor": 5
}
