{
 "cells": [
  {
   "cell_type": "markdown",
   "id": "a08100c3-ea0f-426f-95c7-b6a9844c33cc",
   "metadata": {},
   "source": [
    "# 컴퓨터활용 (R) 1주차 \n",
    "\n",
    "> 2022-03-07\n",
    "\n",
    "> 데이터가 주어졌을 때, R에서 어떤 통계적 기법을 활용하여 유용한 결론을 얻어 낼 수 있을까?\n",
    "\n",
    "- toc:true\n",
    "- branch: master\n",
    "- badges: true\n",
    "- comments: true\n",
    "- author: 최석진\n",
    "- categories: [R]"
   ]
  },
  {
   "cell_type": "markdown",
   "id": "3094174f-2362-42b0-a6ef-de634771cbaa",
   "metadata": {},
   "source": [
    "score.csv 에서의 데이터 값을 통해 \n",
    "어떤 유용한 결론을 얻을 수 있을지 생각해보기"
   ]
  },
  {
   "cell_type": "markdown",
   "id": "ea623a11-9ca0-4a0b-9ec4-2fb9ef13b7ff",
   "metadata": {},
   "source": [
    "`-` 처음 할 일은 변수 하나씩 '그림'으로 탐색"
   ]
  },
  {
   "cell_type": "markdown",
   "id": "8cfe4518-6f47-4668-b598-4eba4527e3bd",
   "metadata": {},
   "source": [
    "1) 변수의 종류에 대해서 파악(양적변수,범주형변수)\n"
   ]
  },
  {
   "cell_type": "markdown",
   "id": "8de7f735-ddd7-4daa-9c53-fa59dc18621a",
   "metadata": {},
   "source": [
    "score$written -> score라는 데이터 안에 written이라는 변수를 표현\n"
   ]
  },
  {
   "cell_type": "markdown",
   "id": "bd6ca953-b8ac-4402-baeb-1fedf3df38a2",
   "metadata": {},
   "source": [
    "*table() -> 개수세는 함수"
   ]
  },
  {
   "cell_type": "markdown",
   "id": "f72c4fb2-e80d-46e6-a36c-527c1a7b2733",
   "metadata": {},
   "source": [
    "histogram, barplot 주로 양적변수를 파악할 때\n"
   ]
  },
  {
   "cell_type": "markdown",
   "id": "a33ce6ff-245e-4907-a887-928a7049131d",
   "metadata": {},
   "source": [
    "2. 두 변수간의 관계에 대해 파악(양적-양적, 양적-범주)"
   ]
  },
  {
   "cell_type": "markdown",
   "id": "6d7f990a-ed31-4a2d-9c2d-7284df3795af",
   "metadata": {},
   "source": [
    "boxplot() -> 양적변수와 범주형변수 관계\n",
    "\n",
    "\n",
    "plot() :산점도 -> 양적변수끼리의 관계"
   ]
  },
  {
   "cell_type": "markdown",
   "id": "32287df9-d11a-40a8-aaf0-e1a719b9ab30",
   "metadata": {},
   "source": [
    "*plot(설명변수,반응변수)\n"
   ]
  },
  {
   "cell_type": "markdown",
   "id": "2f3481c2-74ea-4246-a2b9-db1ac4ec774d",
   "metadata": {},
   "source": [
    "lm()-> 회귀선"
   ]
  }
 ],
 "metadata": {
  "kernelspec": {
   "display_name": "R",
   "language": "R",
   "name": "ir"
  },
  "language_info": {
   "codemirror_mode": "r",
   "file_extension": ".r",
   "mimetype": "text/x-r-source",
   "name": "R",
   "pygments_lexer": "r",
   "version": "4.0.5"
  }
 },
 "nbformat": 4,
 "nbformat_minor": 5
}
