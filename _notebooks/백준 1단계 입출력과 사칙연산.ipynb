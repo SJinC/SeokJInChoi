{
 "cells": [
  {
   "cell_type": "markdown",
   "id": "43600600-be39-47ee-90a4-50ebe4ec3da3",
   "metadata": {},
   "source": [
    "## 백준 1단계 입출력과 사칙연산 "
   ]
  },
  {
   "cell_type": "code",
   "execution_count": 1,
   "id": "b2671234-8bf8-4f5a-804f-8efd02c44b00",
   "metadata": {},
   "outputs": [
    {
     "name": "stdout",
     "output_type": "stream",
     "text": [
      "Hello World\n"
     ]
    }
   ],
   "source": [
    "print(\"Hello World\")"
   ]
  },
  {
   "cell_type": "markdown",
   "id": "b69e2174-19fa-475e-af4c-904bdba5e2c4",
   "metadata": {},
   "source": [
    "(2) 두줄에 걸쳐 \"강한친구 대한육군\"을 출력"
   ]
  },
  {
   "cell_type": "code",
   "execution_count": 2,
   "id": "94a790fa-3fa0-47e0-99aa-c040e4c26cc2",
   "metadata": {},
   "outputs": [
    {
     "name": "stdout",
     "output_type": "stream",
     "text": [
      "강한친구 대한육군\n",
      "강한친구 대한육군\n"
     ]
    }
   ],
   "source": [
    "print(\"강한친구 대한육군\")\n",
    "print(\"강한친구 대한육군\")"
   ]
  },
  {
   "cell_type": "markdown",
   "id": "1edf1b36-4e2f-4247-8976-ca1e5bb36729",
   "metadata": {},
   "source": [
    "(3) 다음 그림을 출력\n",
    "```python\n",
    "\\    /\\\n",
    " )  ( ')\n",
    "(  /  )\n",
    " \\(__)|\n",
    "```"
   ]
  },
  {
   "cell_type": "code",
   "execution_count": 6,
   "id": "cb166429-b5a1-49e8-8f6e-c2919dca3775",
   "metadata": {},
   "outputs": [
    {
     "name": "stdout",
     "output_type": "stream",
     "text": [
      "\\    /\\\n",
      " )  ( ')\n",
      "(  /  )\n",
      " \\(__)|\n"
     ]
    }
   ],
   "source": [
    "print(\"\\    /\\\\\")\n",
    "print(\" )  ( ')\")\n",
    "print(\"(  /  )\")\n",
    "print(\" \\(__)|\")"
   ]
  },
  {
   "cell_type": "markdown",
   "id": "a9e93d57-7a08-4c30-b1c1-f0eed699079f",
   "metadata": {},
   "source": [
    "- 첫문장에 역슬래시는 escape문자이므로 주의!"
   ]
  },
  {
   "cell_type": "markdown",
   "id": "04f9c793-96ed-4268-a819-e02d343047ee",
   "metadata": {},
   "source": [
    "(4) 다음 그림 출력\n",
    "```python\n",
    "|\\_/|\n",
    "|q p|   /}\n",
    "( 0 )\"\"\"\\\n",
    "|\"^\"`    |\n",
    "||_/=\\\\__|\n",
    "```"
   ]
  },
  {
   "cell_type": "code",
   "execution_count": 9,
   "id": "f9a8fa25-0860-47b4-a035-ff939fa22f1d",
   "metadata": {},
   "outputs": [
    {
     "name": "stdout",
     "output_type": "stream",
     "text": [
      "|\\_/|\n",
      "|q p|   /}\n",
      "( 0 )\"\"\"\\\n",
      "|\"^\"`    |\n",
      "||_/=\\\\__|\n"
     ]
    }
   ],
   "source": [
    "print(\"|\\_/|\")\n",
    "print(\"|q p|   /}\")\n",
    "print(\"( 0 )\\\"\\\"\\\"\\\\\")\n",
    "print(\"|\\\"^\\\"`    |\")\n",
    "print(\"||_/=\\\\\\\\__|\")"
   ]
  },
  {
   "cell_type": "markdown",
   "id": "530cfc41-0093-431d-8caa-003ccdff8cda",
   "metadata": {},
   "source": [
    "- \\,\" 같은 문자들 주의!"
   ]
  },
  {
   "cell_type": "markdown",
   "id": "d9ed0888-2d0c-48e7-81c4-8908a4fdcd4c",
   "metadata": {},
   "source": [
    "(5) 두정수 a와b를 입력받은 다음, a+b를 출력하는 프로그램"
   ]
  },
  {
   "cell_type": "markdown",
   "id": "16bd7b6e-0a9c-4ec5-9b5e-c14c60912e04",
   "metadata": {},
   "source": [
    "한줄에 a,b 모두 입력받게 하는 방법"
   ]
  },
  {
   "cell_type": "code",
   "execution_count": 11,
   "id": "de03951d-d312-4102-b7e7-48214109d138",
   "metadata": {},
   "outputs": [
    {
     "name": "stdin",
     "output_type": "stream",
     "text": [
      " 1 2\n"
     ]
    },
    {
     "name": "stdout",
     "output_type": "stream",
     "text": [
      "3\n"
     ]
    }
   ],
   "source": [
    "a, b = map(int, input().split()) \n",
    "print(a+b) "
   ]
  },
  {
   "cell_type": "markdown",
   "id": "5b7d0c8e-7059-4200-80b4-b9d1c4f9d270",
   "metadata": {},
   "source": [
    "줄 바뀌면서 입력받는 방법"
   ]
  },
  {
   "cell_type": "code",
   "execution_count": 15,
   "id": "1c9deabd-4ef9-4c37-98e9-0c7ec1a2707a",
   "metadata": {},
   "outputs": [
    {
     "name": "stdin",
     "output_type": "stream",
     "text": [
      " 1\n",
      " 2\n"
     ]
    },
    {
     "name": "stdout",
     "output_type": "stream",
     "text": [
      "3\n"
     ]
    }
   ],
   "source": [
    "a=int(input())\n",
    "b=int(input())\n",
    "print(a+b)"
   ]
  },
  {
   "cell_type": "markdown",
   "id": "490fce15-4ad0-417f-8fbb-015614f393b7",
   "metadata": {},
   "source": [
    "(6) 두정수 a와b를 입력받은 다음, a-b를 출력하는 프로그램"
   ]
  },
  {
   "cell_type": "markdown",
   "id": "49042f81-5bed-4f5f-b3d0-0d7a339e2279",
   "metadata": {},
   "source": [
    "한줄에 a,b 모두 입력받게 하는 방법"
   ]
  },
  {
   "cell_type": "code",
   "execution_count": 14,
   "id": "d22393bc-0919-4552-a6c9-dca094e03dde",
   "metadata": {},
   "outputs": [
    {
     "name": "stdin",
     "output_type": "stream",
     "text": [
      " 3 2\n"
     ]
    },
    {
     "name": "stdout",
     "output_type": "stream",
     "text": [
      "1\n"
     ]
    }
   ],
   "source": [
    "a, b = map(int, input().split()) \n",
    "print(a-b) "
   ]
  },
  {
   "cell_type": "code",
   "execution_count": 16,
   "id": "cc79f198-c190-4efb-822b-912419198f3b",
   "metadata": {},
   "outputs": [
    {
     "name": "stdin",
     "output_type": "stream",
     "text": [
      " 3\n",
      " 2\n"
     ]
    },
    {
     "name": "stdout",
     "output_type": "stream",
     "text": [
      "1\n"
     ]
    }
   ],
   "source": [
    "a=int(input())\n",
    "b=int(input())\n",
    "print(a-b)"
   ]
  },
  {
   "cell_type": "markdown",
   "id": "ea097ece-8d81-4958-94ad-4587e86df78a",
   "metadata": {},
   "source": [
    "(7) 두정수 a와b를 입력받은 다음, a*b를 출력하는 프로그램"
   ]
  },
  {
   "cell_type": "code",
   "execution_count": 19,
   "id": "f2dbe38b-de8b-42a4-8bad-7a37ed75eab0",
   "metadata": {},
   "outputs": [
    {
     "name": "stdin",
     "output_type": "stream",
     "text": [
      " 1 2 \n"
     ]
    },
    {
     "name": "stdout",
     "output_type": "stream",
     "text": [
      "2\n"
     ]
    },
    {
     "name": "stdin",
     "output_type": "stream",
     "text": [
      " 3 4 \n"
     ]
    },
    {
     "name": "stdout",
     "output_type": "stream",
     "text": [
      "12\n"
     ]
    }
   ],
   "source": [
    "a, b = map(int, input().split()) \n",
    "print(a*b)\n",
    "a, b = map(int, input().split()) \n",
    "print(a*b) "
   ]
  },
  {
   "cell_type": "code",
   "execution_count": 20,
   "id": "6e221ca6-90fa-43d1-9d00-11e005695eac",
   "metadata": {},
   "outputs": [
    {
     "name": "stdin",
     "output_type": "stream",
     "text": [
      " 1 2 \n"
     ]
    },
    {
     "name": "stdout",
     "output_type": "stream",
     "text": [
      "2\n",
      "2\n"
     ]
    }
   ],
   "source": [
    "a, b = map(int, input().split()) \n",
    "print(a*b)\n",
    "print(a*b) "
   ]
  },
  {
   "cell_type": "markdown",
   "id": "70e059d7-441b-481c-bd27-9c6c1af97b43",
   "metadata": {},
   "source": [
    "(8) 두정수 a와b를 입력받은 다음, a/b를 출력하는 프로그램"
   ]
  },
  {
   "cell_type": "code",
   "execution_count": 21,
   "id": "f2f59b9d-57bf-4cbf-9d41-37d9154f779b",
   "metadata": {},
   "outputs": [
    {
     "name": "stdin",
     "output_type": "stream",
     "text": [
      " 4 5\n"
     ]
    },
    {
     "name": "stdout",
     "output_type": "stream",
     "text": [
      "0.8\n"
     ]
    }
   ],
   "source": [
    "a,b=map(int,input().split())\n",
    "print(a/b)"
   ]
  },
  {
   "cell_type": "markdown",
   "id": "a37f3657-abdb-484f-94d7-f12aac8d5bf5",
   "metadata": {},
   "source": [
    "(9) 두 자연수 A와 B가 주어진다. 이때, A+B, A-B, A*B, A/B(몫), A%B(나머지)를 출력하는 프로그램을 작성하시오. "
   ]
  },
  {
   "cell_type": "code",
   "execution_count": 22,
   "id": "8f3021e4-7b2a-4c54-aab2-343b29884d96",
   "metadata": {},
   "outputs": [
    {
     "name": "stdin",
     "output_type": "stream",
     "text": [
      " 7 3\n"
     ]
    },
    {
     "name": "stdout",
     "output_type": "stream",
     "text": [
      "10\n",
      "4\n",
      "21\n",
      "2\n",
      "1\n"
     ]
    }
   ],
   "source": [
    "a,b=map(int,input().split())\n",
    "print(a+b)\n",
    "print(a-b)\n",
    "print(a*b)\n",
    "print(a//b)\n",
    "print(a%b)"
   ]
  },
  {
   "cell_type": "markdown",
   "id": "39fb3b10-6d95-465a-9ef0-8640c84ef667",
   "metadata": {},
   "source": [
    "(10) 준하는 사이트에 회원가입을 하다가 joonas라는 아이디가 이미 존재하는 것을 보고 놀랐다. 준하는 놀람을 ??!로 표현한다. 준하가 가입하려고 하는 사이트에 이미 존재하는 아이디가 주어졌을 때, 놀람을 표현하는 프로그램을 작성하시오.\n",
    "\n",
    "- 입력 :첫째 줄에 준하가 가입하려고 하는 사이트에 이미 존재하는 아이디가 주어진다. 아이디는 알파벳 소문자로만 이루어져 있으며, 길이는 50자를 넘지 않는다\n",
    "- 출력 :첫째 줄에 준하의 놀람을 출력한다. 놀람은 아이디 뒤에 ??!를 붙여서 나타낸다."
   ]
  },
  {
   "cell_type": "code",
   "execution_count": 24,
   "id": "ff259ec8-99ba-49b0-9735-4e1da5d6412d",
   "metadata": {},
   "outputs": [
    {
     "name": "stdin",
     "output_type": "stream",
     "text": [
      " joonas\n"
     ]
    },
    {
     "name": "stdout",
     "output_type": "stream",
     "text": [
      "joonas??!\n"
     ]
    }
   ],
   "source": [
    "a=input()\n",
    "print(\"{}??!\".format(a))"
   ]
  },
  {
   "cell_type": "markdown",
   "id": "0527dd83-3664-4e98-872c-67b692188937",
   "metadata": {},
   "source": [
    "(11)불기 연도가 주어질 때 이를 서기 연도로 바꿔 주는 프로그램을 작성하시오.\n",
    "\n",
    "- 입력 :서기 연도를 알아고복 싶은 불기연도 y가 주어짐 (1000<=y<3000)\n",
    "- 출력 :불기연도를 서기연도로 반환한 결과를 출력"
   ]
  },
  {
   "cell_type": "markdown",
   "id": "5289938e-baff-4c6b-84b8-85887617dfb0",
   "metadata": {},
   "source": [
    "(12)\n",
    "(A+B)%C는 ((A%C) + (B%C))%C 와 같을까?\n",
    "\n",
    "(A×B)%C는 ((A%C) × (B%C))%C 와 같을까?\n",
    "\n",
    "세 수 A, B, C가 주어졌을 때, 위의 네 가지 값을 구하는 프로그램을 작성하시오.\n",
    "\n",
    "- 입력 :첫째 줄에 A,B,C 가 순서대로 주어짐.\n",
    "- 출력 :첫째 줄에 (A+B)%C, 둘째 줄에 ((A%C) + (B%C))%C, 셋째 줄에 (A×B)%C, 넷째 줄에 ((A%C) × (B%C))%C를 출력한다."
   ]
  },
  {
   "cell_type": "markdown",
   "id": "c876d051-79be-4fb7-b837-9bd63d3f7f3d",
   "metadata": {},
   "source": [
    "(13 세자리수 자연수의 곱셈을 연산하는데 초등학생들의 방법으로 출력되게 만든다.\n",
    "-> 즉 일의 자리수 연산 + 십의 자리수 연산 + 백의 자리수 연산"
   ]
  },
  {
   "cell_type": "markdown",
   "id": "27f16b84-1de6-4211-995b-eef848c93a48",
   "metadata": {},
   "source": [
    "(14)\n",
    "```python\n",
    "         ,r'\"7\n",
    "r`-_   ,'  ,/\n",
    " \\. \". L_r'\n",
    "   `~\\/\n",
    "      |\n",
    "      |\n",
    "```\n",
    "그림 출력"
   ]
  },
  {
   "cell_type": "code",
   "execution_count": null,
   "id": "74f1e11a-1407-4b87-bcb4-635df0367c76",
   "metadata": {},
   "outputs": [],
   "source": []
  }
 ],
 "metadata": {
  "kernelspec": {
   "display_name": "Python 3 (ipykernel)",
   "language": "python",
   "name": "python3"
  },
  "language_info": {
   "codemirror_mode": {
    "name": "ipython",
    "version": 3
   },
   "file_extension": ".py",
   "mimetype": "text/x-python",
   "name": "python",
   "nbconvert_exporter": "python",
   "pygments_lexer": "ipython3",
   "version": "3.9.7"
  }
 },
 "nbformat": 4,
 "nbformat_minor": 5
}
