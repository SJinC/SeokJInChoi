{
 "cells": [
  {
   "cell_type": "markdown",
   "id": "3cce1624-d109-4aa5-9f69-bc82dd870dc1",
   "metadata": {},
   "source": [
    "# 파이썬 3월 16일 강의 복습\n",
    "> \"6월 26일 \"\n",
    "\n",
    "- toc:true\n",
    "- branch: master\n",
    "- badges: true\n",
    "- comments: true\n",
    "- author: 최석진\n",
    "- categories: [Python]"
   ]
  },
  {
   "cell_type": "markdown",
   "id": "08a22048-474c-46a9-89bc-b9ba707cc19e",
   "metadata": {},
   "source": [
    "## 튜플, 튜플고급 \n",
    "- june 26 ,2022"
   ]
  },
  {
   "cell_type": "markdown",
   "id": "96f676b1-e769-4565-842e-e1671117ef9f",
   "metadata": {},
   "source": [
    "### 튜플"
   ]
  },
  {
   "cell_type": "markdown",
   "id": "c03be679-d09b-45fa-8c39-6cdc74eda412",
   "metadata": {},
   "source": [
    "리스트 vs 튜플"
   ]
  },
  {
   "cell_type": "markdown",
   "id": "14e2b9eb-673d-45b0-b92f-fd64c204c82f",
   "metadata": {},
   "source": [
    "`-` 컨테이너형타입이라는 점, 그리고 연산 및 인덱싱을 하는 방법은 리스트와 같음"
   ]
  },
  {
   "cell_type": "markdown",
   "id": "aa9fcda6-d20b-4152-9470-f2701729c97c",
   "metadata": {},
   "source": [
    "- 차이점1 : [] 대신 ()를 사용한다.\n",
    "- 차이점2 : 불변형이다. (원소의 값을 바꿀 수 없음)\n",
    "- 차이점3 : 하나의 원소를 선언할 때는 (1,)과 같이 해야 한다.\n",
    "- 차이점4 : 의미가 명확할 때는 튜플의 ()를 생략가능하다."
   ]
  },
  {
   "cell_type": "markdown",
   "id": "ca22decc-7e99-4736-b1ed-3420cd4dfd3c",
   "metadata": {},
   "source": [
    "컨테이너형이라는 것이 무슨 의미?"
   ]
  },
  {
   "cell_type": "code",
   "execution_count": 4,
   "id": "06d0ed7f-4e70-411d-8aa0-3292dbbe4729",
   "metadata": {},
   "outputs": [],
   "source": [
    "a=(4,5.6,'pencil',2.4+5.7j,[5,7])"
   ]
  },
  {
   "cell_type": "code",
   "execution_count": 5,
   "id": "639f8016-39ef-4f47-a3cc-01ab6dacbd64",
   "metadata": {},
   "outputs": [
    {
     "data": {
      "text/plain": [
       "complex"
      ]
     },
     "execution_count": 5,
     "metadata": {},
     "output_type": "execute_result"
    }
   ],
   "source": [
    "type(a[3])"
   ]
  },
  {
   "cell_type": "markdown",
   "id": "188ce46c-40b9-4cd0-a017-316e1c560f70",
   "metadata": {},
   "source": [
    "`-` 불변형이라는 것은 무슨 의미?"
   ]
  },
  {
   "cell_type": "code",
   "execution_count": 3,
   "id": "f1f42ca3-f169-41ef-8753-9858a768e357",
   "metadata": {},
   "outputs": [
    {
     "ename": "TypeError",
     "evalue": "'tuple' object does not support item assignment",
     "output_type": "error",
     "traceback": [
      "\u001b[0;31m---------------------------------------------------------------------------\u001b[0m",
      "\u001b[0;31mTypeError\u001b[0m                                 Traceback (most recent call last)",
      "Input \u001b[0;32mIn [3]\u001b[0m, in \u001b[0;36m<cell line: 1>\u001b[0;34m()\u001b[0m\n\u001b[0;32m----> 1\u001b[0m a[\u001b[38;5;241m2\u001b[39m]\u001b[38;5;241m=\u001b[39m\u001b[38;5;124m'\u001b[39m\u001b[38;5;124mPencil\u001b[39m\u001b[38;5;124m'\u001b[39m\n",
      "\u001b[0;31mTypeError\u001b[0m: 'tuple' object does not support item assignment"
     ]
    }
   ],
   "source": [
    "a[2]='Pencil'"
   ]
  },
  {
   "cell_type": "markdown",
   "id": "20c4eb5f-dfaa-4f13-b5e6-5384f09c9018",
   "metadata": {},
   "source": [
    "cf) a를 튜플이 아니라 리스트로 선언하면 값이 잘 바뀜"
   ]
  },
  {
   "cell_type": "code",
   "execution_count": 7,
   "id": "c0f04895-87be-4a80-9f7a-30fed811a35f",
   "metadata": {},
   "outputs": [],
   "source": [
    "a=[4,5.6,'pencil',2.4+5.7j,[5,7]]"
   ]
  },
  {
   "cell_type": "code",
   "execution_count": 8,
   "id": "da3ab997-28a8-4e90-86f2-0a94101ad5a6",
   "metadata": {},
   "outputs": [
    {
     "data": {
      "text/plain": [
       "'pencil'"
      ]
     },
     "execution_count": 8,
     "metadata": {},
     "output_type": "execute_result"
    }
   ],
   "source": [
    "a[2]"
   ]
  },
  {
   "cell_type": "code",
   "execution_count": 9,
   "id": "205aa0c0-48fb-4313-b9ea-be576df63f6c",
   "metadata": {},
   "outputs": [],
   "source": [
    "a[2]='Pencil'"
   ]
  },
  {
   "cell_type": "code",
   "execution_count": 10,
   "id": "ec66b6a0-d3ee-4e05-bcf4-9e67fdd254eb",
   "metadata": {},
   "outputs": [
    {
     "data": {
      "text/plain": [
       "[4, 5.6, 'Pencil', (2.4+5.7j), [5, 7]]"
      ]
     },
     "execution_count": 10,
     "metadata": {},
     "output_type": "execute_result"
    }
   ],
   "source": [
    "a"
   ]
  },
  {
   "cell_type": "markdown",
   "id": "bf07aa04-2fa3-4257-8543-0fa754fa3b82",
   "metadata": {},
   "source": [
    "`-` 하나의 원소로 이루어진 튜플을 만들 때는 쉼표를 붙여야 함"
   ]
  },
  {
   "cell_type": "code",
   "execution_count": 11,
   "id": "4db2860d-f968-4db4-93f5-1a65c7e2b2c5",
   "metadata": {},
   "outputs": [
    {
     "data": {
      "text/plain": [
       "[1, 2, 3, 4]"
      ]
     },
     "execution_count": 11,
     "metadata": {},
     "output_type": "execute_result"
    }
   ],
   "source": [
    "[1]+[2,3,4]"
   ]
  },
  {
   "cell_type": "code",
   "execution_count": 12,
   "id": "a37ee34e-fc7c-45e7-aa37-d693ae72f703",
   "metadata": {},
   "outputs": [
    {
     "data": {
      "text/plain": [
       "(1, 2, 3, 4)"
      ]
     },
     "execution_count": 12,
     "metadata": {},
     "output_type": "execute_result"
    }
   ],
   "source": [
    "(1,)+(2,3,4)"
   ]
  },
  {
   "cell_type": "markdown",
   "id": "c7c42383-c8a9-46c1-97d2-0ce6036eb0a4",
   "metadata": {},
   "source": [
    "`-` 의미가 명확할 때 튜플의 괄호는 생략가능하다! (중요)"
   ]
  },
  {
   "cell_type": "code",
   "execution_count": 13,
   "id": "9808e0e2-2f12-4ee6-a2d8-19928a330977",
   "metadata": {},
   "outputs": [
    {
     "data": {
      "text/plain": [
       "(1, 2)"
      ]
     },
     "execution_count": 13,
     "metadata": {},
     "output_type": "execute_result"
    }
   ],
   "source": [
    "a=1,2\n",
    "a"
   ]
  },
  {
   "cell_type": "markdown",
   "id": "81a38f97-0867-4f8f-a689-a0a072108d19",
   "metadata": {},
   "source": [
    "의미가 명확할 때 생략해야 함"
   ]
  },
  {
   "cell_type": "code",
   "execution_count": 14,
   "id": "4366952e-0578-42d5-8ca6-d7118164b315",
   "metadata": {},
   "outputs": [
    {
     "data": {
      "text/plain": [
       "(1, 5, 4, 5)"
      ]
     },
     "execution_count": 14,
     "metadata": {},
     "output_type": "execute_result"
    }
   ],
   "source": [
    "1,2+3,4,5"
   ]
  },
  {
   "cell_type": "code",
   "execution_count": 15,
   "id": "a119fca5-b830-4c9d-9bc7-771bc74f4577",
   "metadata": {},
   "outputs": [
    {
     "data": {
      "text/plain": [
       "(1, 2, 3, 4, 5)"
      ]
     },
     "execution_count": 15,
     "metadata": {},
     "output_type": "execute_result"
    }
   ],
   "source": [
    "(1,2)+(3,4,5)"
   ]
  },
  {
   "cell_type": "markdown",
   "id": "d684e53f-3a89-422a-a9e7-e92cffc299ae",
   "metadata": {},
   "source": [
    "선언"
   ]
  },
  {
   "cell_type": "markdown",
   "id": "a283410a-6ea7-4313-97bb-cb3ebe2d57c5",
   "metadata": {},
   "source": [
    "`-` 소괄호를 이용"
   ]
  },
  {
   "cell_type": "code",
   "execution_count": 16,
   "id": "01630b39-0b10-44a7-ab34-9b2382e1c91c",
   "metadata": {},
   "outputs": [
    {
     "data": {
      "text/plain": [
       "(1, 2, 3)"
      ]
     },
     "execution_count": 16,
     "metadata": {},
     "output_type": "execute_result"
    }
   ],
   "source": [
    "a=(1,2,3)\n",
    "a"
   ]
  },
  {
   "cell_type": "code",
   "execution_count": 17,
   "id": "5f5aecdb-92ce-4d53-9c6f-8a28297361be",
   "metadata": {},
   "outputs": [
    {
     "data": {
      "text/plain": [
       "tuple"
      ]
     },
     "execution_count": 17,
     "metadata": {},
     "output_type": "execute_result"
    }
   ],
   "source": [
    "type(a)"
   ]
  },
  {
   "cell_type": "markdown",
   "id": "936a0a12-40ff-4f49-97a4-cf71da15b936",
   "metadata": {},
   "source": [
    "`-` 생략가능하다는 점이 포인트"
   ]
  },
  {
   "cell_type": "code",
   "execution_count": 18,
   "id": "3c0bc577-ae46-420b-9680-af8610734bb2",
   "metadata": {},
   "outputs": [
    {
     "data": {
      "text/plain": [
       "(1, 2, 3)"
      ]
     },
     "execution_count": 18,
     "metadata": {},
     "output_type": "execute_result"
    }
   ],
   "source": [
    "a=1,2,3\n",
    "a"
   ]
  },
  {
   "cell_type": "code",
   "execution_count": 19,
   "id": "71edb63f-13df-4924-988a-0244fd07241b",
   "metadata": {},
   "outputs": [
    {
     "data": {
      "text/plain": [
       "tuple"
      ]
     },
     "execution_count": 19,
     "metadata": {},
     "output_type": "execute_result"
    }
   ],
   "source": [
    "type(a)"
   ]
  },
  {
   "cell_type": "markdown",
   "id": "8071806f-f5fd-4d8d-9fd7-de778112e295",
   "metadata": {},
   "source": [
    "`-` 원소가 하나인 튜플을 만들고 싶다면?"
   ]
  },
  {
   "cell_type": "code",
   "execution_count": 20,
   "id": "1fd52373-3eb0-472d-be0a-1c47410d94fa",
   "metadata": {},
   "outputs": [
    {
     "data": {
      "text/plain": [
       "(1,)"
      ]
     },
     "execution_count": 20,
     "metadata": {},
     "output_type": "execute_result"
    }
   ],
   "source": [
    "a=(1,)\n",
    "a"
   ]
  },
  {
   "cell_type": "markdown",
   "id": "ace31f83-8d9b-4caa-be85-0afea631ced4",
   "metadata": {},
   "source": [
    "#### 연산"
   ]
  },
  {
   "cell_type": "markdown",
   "id": "95610875-c714-44e8-bfcb-a1101bcbe966",
   "metadata": {},
   "source": [
    "`-` 리스트와 동일"
   ]
  },
  {
   "cell_type": "code",
   "execution_count": 21,
   "id": "5292b9f2-9900-4b1f-821e-f0e883df652d",
   "metadata": {},
   "outputs": [
    {
     "data": {
      "text/plain": [
       "(1, 2, 3, 4, 5)"
      ]
     },
     "execution_count": 21,
     "metadata": {},
     "output_type": "execute_result"
    }
   ],
   "source": [
    "(1,2)+(3,4,5)"
   ]
  },
  {
   "cell_type": "code",
   "execution_count": 22,
   "id": "b9ed7646-739f-441d-8067-3597de506909",
   "metadata": {},
   "outputs": [
    {
     "data": {
      "text/plain": [
       "(1, 2, 1, 2, 1, 2)"
      ]
     },
     "execution_count": 22,
     "metadata": {},
     "output_type": "execute_result"
    }
   ],
   "source": [
    "(1,2)*3"
   ]
  },
  {
   "cell_type": "markdown",
   "id": "37b828ab-cce8-4887-912d-6a0c865eb81b",
   "metadata": {},
   "source": [
    "#### 인덱싱"
   ]
  },
  {
   "cell_type": "markdown",
   "id": "83158721-9478-48f9-9779-f2da1ff289a3",
   "metadata": {},
   "source": [
    "`-` 리스트와 동일"
   ]
  },
  {
   "cell_type": "code",
   "execution_count": 25,
   "id": "a4e9de00-5ae2-49aa-81cf-533edeb5a97b",
   "metadata": {},
   "outputs": [
    {
     "data": {
      "text/plain": [
       "(1, 2, 3, -4, -5)"
      ]
     },
     "execution_count": 25,
     "metadata": {},
     "output_type": "execute_result"
    }
   ],
   "source": [
    "a=(1,2,3,-4,-5)\n",
    "a"
   ]
  },
  {
   "cell_type": "code",
   "execution_count": 26,
   "id": "8ca0d8c7-28d7-428b-bf3e-b9c9a91550ff",
   "metadata": {},
   "outputs": [
    {
     "data": {
      "text/plain": [
       "-5"
      ]
     },
     "execution_count": 26,
     "metadata": {},
     "output_type": "execute_result"
    }
   ],
   "source": [
    "a[-1]"
   ]
  },
  {
   "cell_type": "code",
   "execution_count": 27,
   "id": "cfcacbcc-9c19-4bef-99eb-3603b6ad52dd",
   "metadata": {},
   "outputs": [
    {
     "data": {
      "text/plain": [
       "(3, -4, -5)"
      ]
     },
     "execution_count": 27,
     "metadata": {},
     "output_type": "execute_result"
    }
   ],
   "source": [
    "a[-3:]"
   ]
  },
  {
   "cell_type": "markdown",
   "id": "b48ed190-6486-45eb-9619-ae83465adaec",
   "metadata": {},
   "source": [
    "### 튜플고급"
   ]
  },
  {
   "cell_type": "markdown",
   "id": "f89f8c62-1c2b-4668-a26d-23e58a6ae319",
   "metadata": {},
   "source": [
    "튜플을 왜 불변형으로 만들었을까?\n",
    "- 책의 설명 : 실수로 값을 변경할 수 있도록 방지할 수 있다.\n",
    "- shallow copy / deep copy 를 막을 수 있는 무기"
   ]
  },
  {
   "cell_type": "markdown",
   "id": "1e291a28-70c0-4104-b2bb-dcc005a4b67a",
   "metadata": {},
   "source": [
    "튜플을 슬기롭게 사용하는 방법 ($\\star\\star\\star\\star\\star\\$)"
   ]
  },
  {
   "cell_type": "markdown",
   "id": "47867c7f-c5ce-4de9-854c-8cc90e7cd37a",
   "metadata": {},
   "source": [
    "`-` 여러변수를 동시에 출력하고 싶은 경우 (다중출력?)"
   ]
  },
  {
   "cell_type": "code",
   "execution_count": 28,
   "id": "351db344-d2f2-402a-b1d7-c1c284315a8d",
   "metadata": {},
   "outputs": [],
   "source": [
    "a=1\n",
    "b=2\n",
    "c=3"
   ]
  },
  {
   "cell_type": "markdown",
   "id": "e415f404-64f4-4470-9102-13d1212d617d",
   "metadata": {},
   "source": [
    "선언된 값을 확인 하려면?"
   ]
  },
  {
   "cell_type": "code",
   "execution_count": 29,
   "id": "5d0e8ddd-f81e-4269-bee6-10ba14c877d5",
   "metadata": {},
   "outputs": [
    {
     "data": {
      "text/plain": [
       "1"
      ]
     },
     "execution_count": 29,
     "metadata": {},
     "output_type": "execute_result"
    }
   ],
   "source": [
    "a"
   ]
  },
  {
   "cell_type": "code",
   "execution_count": 30,
   "id": "bc585351-9200-42b0-89ba-b4f84aa5b145",
   "metadata": {},
   "outputs": [
    {
     "data": {
      "text/plain": [
       "2"
      ]
     },
     "execution_count": 30,
     "metadata": {},
     "output_type": "execute_result"
    }
   ],
   "source": [
    "b"
   ]
  },
  {
   "cell_type": "code",
   "execution_count": 31,
   "id": "49c2273c-3467-4368-b700-23ce204ba8f0",
   "metadata": {},
   "outputs": [
    {
     "data": {
      "text/plain": [
       "3"
      ]
     },
     "execution_count": 31,
     "metadata": {},
     "output_type": "execute_result"
    }
   ],
   "source": [
    "c"
   ]
  },
  {
   "cell_type": "markdown",
   "id": "5649ce71-1fd2-4108-8a87-b494fb21bb59",
   "metadata": {},
   "source": [
    "튜플을 이용하면?"
   ]
  },
  {
   "cell_type": "code",
   "execution_count": 33,
   "id": "3c895383-3fa5-4460-9b33-a14d9be845bf",
   "metadata": {},
   "outputs": [
    {
     "data": {
      "text/plain": [
       "(1, 2, 3)"
      ]
     },
     "execution_count": 33,
     "metadata": {},
     "output_type": "execute_result"
    }
   ],
   "source": [
    "a,b,c #괄호를 생략할 수 있으니"
   ]
  },
  {
   "cell_type": "markdown",
   "id": "c4238246-e37e-4f15-8ccd-2a14982a6914",
   "metadata": {},
   "source": [
    "`-` 예제 : 다중할당1 (여러개의 변수를 동시에 선언하고 싶을 경우)"
   ]
  },
  {
   "cell_type": "code",
   "execution_count": 35,
   "id": "ef40cae8-531b-47c7-b4be-b5bbb8786720",
   "metadata": {},
   "outputs": [],
   "source": [
    "name,age,sex,height,weight= 'Tom',28,'M',180,80"
   ]
  },
  {
   "cell_type": "code",
   "execution_count": 36,
   "id": "1cf739c7-0bbb-40e1-9586-c99102b601c9",
   "metadata": {},
   "outputs": [
    {
     "data": {
      "text/plain": [
       "('Tom', 28, 'M', 180, 80)"
      ]
     },
     "execution_count": 36,
     "metadata": {},
     "output_type": "execute_result"
    }
   ],
   "source": [
    "name,age,sex,height,weight"
   ]
  },
  {
   "cell_type": "code",
   "execution_count": 37,
   "id": "e73ff2f7-5914-4a74-8280-a16df80c76ba",
   "metadata": {},
   "outputs": [
    {
     "data": {
      "text/plain": [
       "180"
      ]
     },
     "execution_count": 37,
     "metadata": {},
     "output_type": "execute_result"
    }
   ],
   "source": [
    "height"
   ]
  },
  {
   "cell_type": "markdown",
   "id": "57a980ea-591a-4dbc-9c92-53abfadf3237",
   "metadata": {},
   "source": [
    "`-` 예제 : 다중할당2, 위도와 경도"
   ]
  },
  {
   "cell_type": "code",
   "execution_count": 40,
   "id": "c530d82b-dbab-43c5-acf5-3d5cdde92264",
   "metadata": {},
   "outputs": [
    {
     "data": {
      "text/plain": [
       "(37, 127)"
      ]
     },
     "execution_count": 40,
     "metadata": {},
     "output_type": "execute_result"
    }
   ],
   "source": [
    "coor = (37,127) \n",
    "coor"
   ]
  },
  {
   "cell_type": "code",
   "execution_count": 41,
   "id": "8b34feff-9a30-44b4-9e18-8405f806fd0d",
   "metadata": {},
   "outputs": [],
   "source": [
    "lat,long=coor"
   ]
  },
  {
   "cell_type": "code",
   "execution_count": 42,
   "id": "6494e14e-3ea1-4072-90ce-add914f7dc98",
   "metadata": {},
   "outputs": [
    {
     "data": {
      "text/plain": [
       "37"
      ]
     },
     "execution_count": 42,
     "metadata": {},
     "output_type": "execute_result"
    }
   ],
   "source": [
    "lat"
   ]
  },
  {
   "cell_type": "code",
   "execution_count": 43,
   "id": "a99b4112-c3b2-4bf1-a2b9-ecaae7295249",
   "metadata": {},
   "outputs": [
    {
     "data": {
      "text/plain": [
       "127"
      ]
     },
     "execution_count": 43,
     "metadata": {},
     "output_type": "execute_result"
    }
   ],
   "source": [
    "long"
   ]
  },
  {
   "cell_type": "markdown",
   "id": "473f0c19-1416-4905-b3d3-b6bbbe986ef1",
   "metadata": {},
   "source": [
    "튜플을 사용하면 가독성이 극대화 (그래서 다중할당은 거의 튜플과 세트로 사용함)"
   ]
  },
  {
   "cell_type": "code",
   "execution_count": 44,
   "id": "32a3572c-d839-48a4-99ce-f12bffcb9e0a",
   "metadata": {},
   "outputs": [
    {
     "data": {
      "text/plain": [
       "(1, 2, 3)"
      ]
     },
     "execution_count": 44,
     "metadata": {},
     "output_type": "execute_result"
    }
   ],
   "source": [
    "x,y,z=1,2,3\n",
    "x,y,z"
   ]
  },
  {
   "cell_type": "code",
   "execution_count": 45,
   "id": "89b016f7-a8cb-49bb-a9df-d52958eed66a",
   "metadata": {},
   "outputs": [
    {
     "data": {
      "text/plain": [
       "('h', 'i')"
      ]
     },
     "execution_count": 45,
     "metadata": {},
     "output_type": "execute_result"
    }
   ],
   "source": [
    "x,y='hi'\n",
    "x,y"
   ]
  },
  {
   "cell_type": "markdown",
   "id": "849fad31-be27-4d13-8a70-64e3c8d4ff0d",
   "metadata": {},
   "source": [
    "`-` 예제 : 임시변수 사용없이 두 변수의 값을 교환"
   ]
  },
  {
   "cell_type": "code",
   "execution_count": 46,
   "id": "c2173687-7e01-4f3e-bed1-35492bcc65be",
   "metadata": {},
   "outputs": [],
   "source": [
    "a=10\n",
    "b=20"
   ]
  },
  {
   "cell_type": "code",
   "execution_count": 47,
   "id": "0ad82712-2043-4700-a710-c3545513635d",
   "metadata": {},
   "outputs": [],
   "source": [
    "a,b=b,a"
   ]
  },
  {
   "cell_type": "code",
   "execution_count": 48,
   "id": "2b043840-cc2b-4a3e-8871-cf01e70065f4",
   "metadata": {},
   "outputs": [
    {
     "data": {
      "text/plain": [
       "20"
      ]
     },
     "execution_count": 48,
     "metadata": {},
     "output_type": "execute_result"
    }
   ],
   "source": [
    "a"
   ]
  },
  {
   "cell_type": "code",
   "execution_count": 49,
   "id": "b92f51ff-2828-4d67-84d1-1975a6332f76",
   "metadata": {},
   "outputs": [
    {
     "data": {
      "text/plain": [
       "10"
      ]
     },
     "execution_count": 49,
     "metadata": {},
     "output_type": "execute_result"
    }
   ],
   "source": [
    "b"
   ]
  },
  {
   "cell_type": "markdown",
   "id": "3e2ec130-6269-4221-add3-1bf94f82ed0b",
   "metadata": {},
   "source": [
    "`-` 예제 : for문과 튜플"
   ]
  },
  {
   "cell_type": "code",
   "execution_count": 51,
   "id": "59ae83af-3812-4a3f-84a3-017a92d97dcd",
   "metadata": {},
   "outputs": [
    {
     "data": {
      "text/plain": [
       "[['seokjin', 201922046, 'M'],\n",
       " ['iu', 202112355, 'F'],\n",
       " ['chaeng', '202115791', 'F']]"
      ]
     },
     "execution_count": 51,
     "metadata": {},
     "output_type": "execute_result"
    }
   ],
   "source": [
    "lst=[['seokjin',201922046,'M'],\n",
    "    ['iu',202112355,'F'],\n",
    "     ['chaeng','202115791','F']]\n",
    "lst"
   ]
  },
  {
   "cell_type": "code",
   "execution_count": 52,
   "id": "86d7b8cf-775c-4875-840e-dfde4145aa54",
   "metadata": {},
   "outputs": [
    {
     "name": "stdout",
     "output_type": "stream",
     "text": [
      "['seokjin', 201922046, 'M']\n",
      "['iu', 202112355, 'F']\n",
      "['chaeng', '202115791', 'F']\n"
     ]
    }
   ],
   "source": [
    "for i in lst:\n",
    "    print(i)"
   ]
  },
  {
   "cell_type": "code",
   "execution_count": 53,
   "id": "3fca1c43-2bc1-4aaa-87fc-5c79e9dfed36",
   "metadata": {},
   "outputs": [
    {
     "name": "stdout",
     "output_type": "stream",
     "text": [
      "seokjin\n",
      "iu\n",
      "chaeng\n"
     ]
    }
   ],
   "source": [
    "for name,studentid,sex in lst:\n",
    "    print(name)"
   ]
  },
  {
   "cell_type": "code",
   "execution_count": 54,
   "id": "cab8cc37-f57e-44f4-a4e3-ac9dc66b6498",
   "metadata": {},
   "outputs": [
    {
     "name": "stdout",
     "output_type": "stream",
     "text": [
      "seokjin 201922046\n",
      "iu 202112355\n",
      "chaeng 202115791\n"
     ]
    }
   ],
   "source": [
    "for name,studentid,sex in lst:\n",
    "    print(name,studentid)"
   ]
  },
  {
   "cell_type": "markdown",
   "id": "7190e219-5a0b-43a7-8817-22f2a31db542",
   "metadata": {},
   "source": [
    "`-` 예제:for문과 튜플, dummy variabele`_`"
   ]
  },
  {
   "cell_type": "code",
   "execution_count": 55,
   "id": "a0ca2611-63ee-4351-86f5-81edc4b24254",
   "metadata": {},
   "outputs": [
    {
     "name": "stdout",
     "output_type": "stream",
     "text": [
      "201922046\n",
      "202112355\n",
      "202115791\n"
     ]
    }
   ],
   "source": [
    "for name, studentid,sex in lst:\n",
    "    print(studentid)"
   ]
  },
  {
   "cell_type": "code",
   "execution_count": 56,
   "id": "e2d983db-a702-4711-a19f-1a595fe77d42",
   "metadata": {},
   "outputs": [
    {
     "name": "stdout",
     "output_type": "stream",
     "text": [
      "201922046\n",
      "202112355\n",
      "202115791\n"
     ]
    }
   ],
   "source": [
    "for _,studentid,_ in lst:\n",
    "    print(studentid)"
   ]
  },
  {
   "cell_type": "code",
   "execution_count": 57,
   "id": "717ade7f-75ba-4b5c-a49b-855670e8bbbd",
   "metadata": {},
   "outputs": [
    {
     "name": "stdout",
     "output_type": "stream",
     "text": [
      "seokjin M\n",
      "iu F\n",
      "chaeng F\n"
     ]
    }
   ],
   "source": [
    "for name,_,sex in lst:\n",
    "    print(name,sex)"
   ]
  },
  {
   "cell_type": "code",
   "execution_count": 59,
   "id": "c2eafcec-fd6a-4dfe-a313-106a6f643992",
   "metadata": {},
   "outputs": [
    {
     "name": "stdout",
     "output_type": "stream",
     "text": [
      "seokjin\n",
      "iu\n",
      "chaeng\n"
     ]
    }
   ],
   "source": [
    "for name,*args in lst:\n",
    "    print(name)"
   ]
  },
  {
   "cell_type": "markdown",
   "id": "15c97096-8ce5-43d7-a0cb-efc5ad4d12c2",
   "metadata": {},
   "source": [
    "`-` 튜플과 언패킹 연산자 `*`"
   ]
  },
  {
   "cell_type": "code",
   "execution_count": 60,
   "id": "3cb7a51b-ed6d-41b0-ab95-e79138b74ba8",
   "metadata": {},
   "outputs": [
    {
     "data": {
      "text/plain": [
       "(1, 2, [3, 4, 5, 6, 7, 8, 9, 10])"
      ]
     },
     "execution_count": 60,
     "metadata": {},
     "output_type": "execute_result"
    }
   ],
   "source": [
    "head,body,*tail=range(1,11)\n",
    "head,body,tail"
   ]
  },
  {
   "cell_type": "code",
   "execution_count": 61,
   "id": "011530c7-38d9-44d7-9b8f-66650ad4e12f",
   "metadata": {},
   "outputs": [
    {
     "data": {
      "text/plain": [
       "(1, 2, [3, 4, 5, 6, 7], 8, 9, 10)"
      ]
     },
     "execution_count": 61,
     "metadata": {},
     "output_type": "execute_result"
    }
   ],
   "source": [
    "head1,head2,*body,tail1,tail2,tail3=range(1,11)\n",
    "head1,head2,body,tail1,tail2,tail3"
   ]
  },
  {
   "cell_type": "code",
   "execution_count": 62,
   "id": "2f35ba65-fabe-4a72-8e5d-6ced36ba0c65",
   "metadata": {},
   "outputs": [
    {
     "data": {
      "text/plain": [
       "([1, 2, 3, 4, 5, 6, 7, 8], 9, 10)"
      ]
     },
     "execution_count": 62,
     "metadata": {},
     "output_type": "execute_result"
    }
   ],
   "source": [
    "*head,body,tail=range(1,11)\n",
    "head,body,tail"
   ]
  },
  {
   "cell_type": "markdown",
   "id": "5663cabf-d125-4a17-9266-676afa603829",
   "metadata": {},
   "source": [
    "`*` 를 붙이면 1차원 자료구조가 풀린다..??"
   ]
  },
  {
   "cell_type": "code",
   "execution_count": 63,
   "id": "9a4f87fe-082b-4882-aff8-61585e344759",
   "metadata": {},
   "outputs": [
    {
     "name": "stdout",
     "output_type": "stream",
     "text": [
      "[1, 2, 3]\n"
     ]
    }
   ],
   "source": [
    "print([1,2,3])"
   ]
  },
  {
   "cell_type": "code",
   "execution_count": 64,
   "id": "a542603f-12a1-4ab1-870b-65e5f5f89383",
   "metadata": {},
   "outputs": [
    {
     "name": "stdout",
     "output_type": "stream",
     "text": [
      "1 2 3\n"
     ]
    }
   ],
   "source": [
    "print(*[1,2,3])"
   ]
  },
  {
   "cell_type": "markdown",
   "id": "532cdee3-c232-4de5-b297-647edc620108",
   "metadata": {},
   "source": [
    "`-` 예제: 함수의 입력으로 `*args`를 넣을때"
   ]
  },
  {
   "cell_type": "markdown",
   "id": "38172e42-8a59-4c9b-a1b0-a8cae576ea8d",
   "metadata": {},
   "source": [
    "[예비학습] 함수 벼락치기"
   ]
  },
  {
   "cell_type": "code",
   "execution_count": 65,
   "id": "c935bd6a-f340-4a6c-b341-d1aacd030ba7",
   "metadata": {},
   "outputs": [],
   "source": [
    "def myadd(a,b):\n",
    "    return a+b"
   ]
  },
  {
   "cell_type": "code",
   "execution_count": 66,
   "id": "55519668-94b4-4fef-8afa-ceac5fc58478",
   "metadata": {},
   "outputs": [
    {
     "data": {
      "text/plain": [
       "0"
      ]
     },
     "execution_count": 66,
     "metadata": {},
     "output_type": "execute_result"
    }
   ],
   "source": [
    "myadd(-3,3)"
   ]
  },
  {
   "cell_type": "markdown",
   "id": "213501cc-09ee-49c5-8d9e-97359f028424",
   "metadata": {},
   "source": [
    "예제: 두점 사이의 거리를 구하는 함수를 만들자"
   ]
  },
  {
   "cell_type": "markdown",
   "id": "4d68a90b-53c3-4cd1-869e-c353e713930e",
   "metadata": {},
   "source": [
    "점 $p=(p_x,p_y)$와 $q=(q_x,q_y)$의 거리는 $\\sqrt{(p_x-q_x)^2+(p_y-q_y)^2}$이다. 이것을 계산하는 프로그램을 만들자. "
   ]
  },
  {
   "cell_type": "code",
   "execution_count": 68,
   "id": "3d7c086c-e2e3-41d8-9262-a7af67adb344",
   "metadata": {},
   "outputs": [],
   "source": [
    "import numpy as np\n",
    "def dist(px,py,qx,qy):\n",
    "    return np.sqrt((px-qx)**2 + (py-qy)**2)"
   ]
  },
  {
   "cell_type": "code",
   "execution_count": 70,
   "id": "8996f3ca-2903-48f5-9ca3-7cb695a9ad47",
   "metadata": {},
   "outputs": [
    {
     "ename": "TypeError",
     "evalue": "dist() missing 2 required positional arguments: 'qx' and 'qy'",
     "output_type": "error",
     "traceback": [
      "\u001b[0;31m---------------------------------------------------------------------------\u001b[0m",
      "\u001b[0;31mTypeError\u001b[0m                                 Traceback (most recent call last)",
      "Input \u001b[0;32mIn [70]\u001b[0m, in \u001b[0;36m<cell line: 3>\u001b[0;34m()\u001b[0m\n\u001b[1;32m      1\u001b[0m p\u001b[38;5;241m=\u001b[39m(\u001b[38;5;241m0\u001b[39m,\u001b[38;5;241m3\u001b[39m)\n\u001b[1;32m      2\u001b[0m q\u001b[38;5;241m=\u001b[39m(\u001b[38;5;241m4\u001b[39m,\u001b[38;5;241m0\u001b[39m)\n\u001b[0;32m----> 3\u001b[0m \u001b[43mdist\u001b[49m\u001b[43m(\u001b[49m\u001b[43mp\u001b[49m\u001b[43m,\u001b[49m\u001b[43mq\u001b[49m\u001b[43m)\u001b[49m\n",
      "\u001b[0;31mTypeError\u001b[0m: dist() missing 2 required positional arguments: 'qx' and 'qy'"
     ]
    }
   ],
   "source": [
    "p=(0,3)\n",
    "q=(4,0)\n",
    "dist(p,q)"
   ]
  },
  {
   "cell_type": "markdown",
   "id": "215214d7-490d-4849-be65-2af1915d1ce3",
   "metadata": {},
   "source": [
    "(방법1)"
   ]
  },
  {
   "cell_type": "code",
   "execution_count": 71,
   "id": "863b3fbc-8971-4be5-8c30-54bf4a97196d",
   "metadata": {},
   "outputs": [
    {
     "data": {
      "text/plain": [
       "5.0"
      ]
     },
     "execution_count": 71,
     "metadata": {},
     "output_type": "execute_result"
    }
   ],
   "source": [
    "px,py=(0,3)\n",
    "qx,qy=(4,0)\n",
    "dist(px,py,qx,qy)"
   ]
  },
  {
   "cell_type": "markdown",
   "id": "d81b4d94-ceab-4c92-8b45-aa6207e17cf9",
   "metadata": {},
   "source": [
    "(방법2)"
   ]
  },
  {
   "cell_type": "code",
   "execution_count": 72,
   "id": "53cee40d-f579-4172-b90f-8378833cbd4b",
   "metadata": {},
   "outputs": [],
   "source": [
    "def dist2(p,q):\n",
    "    px,py=p\n",
    "    qx,qy=q\n",
    "    return np.sqrt((px-qx)**2 + (py-qy)**2)"
   ]
  },
  {
   "cell_type": "code",
   "execution_count": 73,
   "id": "91e96b84-5294-4959-814c-f455d3e5a2a2",
   "metadata": {},
   "outputs": [
    {
     "data": {
      "text/plain": [
       "5.0"
      ]
     },
     "execution_count": 73,
     "metadata": {},
     "output_type": "execute_result"
    }
   ],
   "source": [
    "p=(0,3)\n",
    "q=(4,0)\n",
    "dist2(p,q)"
   ]
  },
  {
   "cell_type": "markdown",
   "id": "3d066f96-fdb2-4312-80ba-d2e2deebadbb",
   "metadata": {},
   "source": [
    "(방법3)"
   ]
  },
  {
   "cell_type": "code",
   "execution_count": 74,
   "id": "10efea0d-2cf9-4f28-b6ed-007c313ea16a",
   "metadata": {},
   "outputs": [
    {
     "data": {
      "text/plain": [
       "5.0"
      ]
     },
     "execution_count": 74,
     "metadata": {},
     "output_type": "execute_result"
    }
   ],
   "source": [
    "dist(*p,*q)"
   ]
  },
  {
   "cell_type": "code",
   "execution_count": 75,
   "id": "12461aa0-b54f-4759-97b8-b4c5efdd7bf0",
   "metadata": {},
   "outputs": [
    {
     "data": {
      "text/plain": [
       "5.0"
      ]
     },
     "execution_count": 75,
     "metadata": {},
     "output_type": "execute_result"
    }
   ],
   "source": [
    "dist(px,py,qx,qy)"
   ]
  },
  {
   "cell_type": "code",
   "execution_count": null,
   "id": "c475bfa2-8481-4e48-bbbf-511fa477b6e7",
   "metadata": {},
   "outputs": [],
   "source": []
  }
 ],
 "metadata": {
  "kernelspec": {
   "display_name": "Python 3 (ipykernel)",
   "language": "python",
   "name": "python3"
  },
  "language_info": {
   "codemirror_mode": {
    "name": "ipython",
    "version": 3
   },
   "file_extension": ".py",
   "mimetype": "text/x-python",
   "name": "python",
   "nbconvert_exporter": "python",
   "pygments_lexer": "ipython3",
   "version": "3.9.7"
  }
 },
 "nbformat": 4,
 "nbformat_minor": 5
}
